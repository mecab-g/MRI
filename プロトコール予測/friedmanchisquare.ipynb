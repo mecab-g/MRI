{
 "cells": [
  {
   "cell_type": "code",
   "execution_count": 24,
   "id": "3f8d731d-313d-40eb-81b3-038acd87056c",
   "metadata": {},
   "outputs": [],
   "source": [
    "from scipy.stats import friedmanchisquare\n",
    "import numpy as np\n",
    "import pandas as pd\n",
    "from scipy.stats import mannwhitneyu"
   ]
  },
  {
   "cell_type": "code",
   "execution_count": 2,
   "id": "26fffa17-a4fc-47e4-ab25-7794c5094388",
   "metadata": {},
   "outputs": [],
   "source": [
    "def data_mean(path):\n",
    "    df = pd.read_csv(path).rename(columns={'Unnamed: 0':'eval'})\t\n",
    "    df = df.groupby('eval').mean()\n",
    "    df = df.drop(['accuracy','macro avg','weighted avg'], axis=1)\n",
    "    return df.T"
   ]
  },
  {
   "cell_type": "code",
   "execution_count": 8,
   "id": "6b0e47d2-7342-4243-b7c0-34ac01a30b01",
   "metadata": {},
   "outputs": [],
   "source": [
    "fL = data_mean('ft_LGBM_report.csv')['f1-score']\n",
    "fN = data_mean('ft_NN_report.csv')['f1-score']\n",
    "sL = data_mean('sB_LGBM_report.csv')['f1-score']\n",
    "sN = data_mean('sB_NN_report.csv')['f1-score']"
   ]
  },
  {
   "cell_type": "code",
   "execution_count": 9,
   "id": "e5bf45a7-2d2e-4144-b6c7-ef667a131aae",
   "metadata": {},
   "outputs": [],
   "source": [
    "fL_p = data_mean('ft_LGBM_report.csv')['precision']\n",
    "fN_p = data_mean('ft_NN_report.csv')['precision']\n",
    "sL_p = data_mean('sB_LGBM_report.csv')['precision']\n",
    "sN_p = data_mean('sB_NN_report.csv')['precision']"
   ]
  },
  {
   "cell_type": "code",
   "execution_count": 10,
   "id": "cb5e4cde-cf42-493d-ae14-085756006a26",
   "metadata": {},
   "outputs": [],
   "source": [
    "fL_r = data_mean('ft_LGBM_report.csv')['recall']\n",
    "fN_r = data_mean('ft_NN_report.csv')['recall']\n",
    "sL_r = data_mean('sB_LGBM_report.csv')['recall']\n",
    "sN_r = data_mean('sB_NN_report.csv')['recall']"
   ]
  },
  {
   "cell_type": "code",
   "execution_count": 11,
   "id": "9101ef23-2f66-4367-868a-30d13c0fa007",
   "metadata": {},
   "outputs": [
    {
     "data": {
      "text/plain": [
       "FriedmanchisquareResult(statistic=9.667924528301935, pvalue=0.021610421974449606)"
      ]
     },
     "execution_count": 11,
     "metadata": {},
     "output_type": "execute_result"
    }
   ],
   "source": [
    "friedmanchisquare(fL, fN, sL, sN)"
   ]
  },
  {
   "cell_type": "code",
   "execution_count": 12,
   "id": "fd150c0d-7c56-4a01-873e-7ee6fe51b3f2",
   "metadata": {},
   "outputs": [
    {
     "data": {
      "text/plain": [
       "FriedmanchisquareResult(statistic=14.419354838709765, pvalue=0.0023865068065667626)"
      ]
     },
     "execution_count": 12,
     "metadata": {},
     "output_type": "execute_result"
    }
   ],
   "source": [
    "friedmanchisquare(fL_p, fN_p, sL_p, sN_p)"
   ]
  },
  {
   "cell_type": "code",
   "execution_count": 13,
   "id": "8c211bb7-f9cb-4bb2-9cf1-4e43118a4baf",
   "metadata": {},
   "outputs": [
    {
     "data": {
      "text/plain": [
       "FriedmanchisquareResult(statistic=3.943750000000037, pvalue=0.26760252563365156)"
      ]
     },
     "execution_count": 13,
     "metadata": {},
     "output_type": "execute_result"
    }
   ],
   "source": [
    "friedmanchisquare(fL_r, fN_r, sL_r, sN_r)"
   ]
  },
  {
   "cell_type": "code",
   "execution_count": 35,
   "id": "e04fe33a-39ea-412f-a80b-cc7edbf30b41",
   "metadata": {},
   "outputs": [],
   "source": [
    "presison=pd.DataFrame([fL_p,fN_p, sL_p, sN_p]).T.set_axis(['fl', 'fn', 'sl', 'sn'], axis=1)\n",
    "recall=pd.DataFrame([fL_r,fN_r, sL_r, sN_r]).T.set_axis(['fl', 'fn', 'sl', 'sn'], axis=1)\n",
    "F1=pd.DataFrame([fL,fN, sL, sN]).T.set_axis(['fl', 'fn', 'sl', 'sn'], axis=1)"
   ]
  },
  {
   "cell_type": "code",
   "execution_count": 33,
   "id": "a19e3178-abdc-406f-b6d3-23beb968a955",
   "metadata": {},
   "outputs": [
    {
     "name": "stdout",
     "output_type": "stream",
     "text": [
      "2.016872254806108 4.273373017189385 1.168629811760993 4.029527663115647 0.9949026343466478 0.43661486108068226\n"
     ]
    }
   ],
   "source": [
    "flfn=mannwhitneyu(presison['fl'], presison['fn'], alternative=\"two-sided\").pvalue*6\n",
    "flsl=mannwhitneyu(presison['fl'], presison['sl'], alternative=\"two-sided\").pvalue*6\n",
    "flsn=mannwhitneyu(presison['fl'], presison['sn'], alternative=\"two-sided\").pvalue*6\n",
    "fnsn=mannwhitneyu(presison['fn'], presison['sn'], alternative=\"two-sided\").pvalue*6\n",
    "fnsl=mannwhitneyu(presison['fn'], presison['sl'], alternative=\"two-sided\").pvalue*6\n",
    "snsl=mannwhitneyu(presison['sn'], presison['sl'], alternative=\"two-sided\").pvalue*6\n",
    "\n",
    "print(flfn,flsl,flsn,fnsn,fnsl,snsl)"
   ]
  },
  {
   "cell_type": "code",
   "execution_count": 36,
   "id": "e7842426-1098-459e-a65d-a39ba885bf2c",
   "metadata": {},
   "outputs": [
    {
     "name": "stdout",
     "output_type": "stream",
     "text": [
      "2.409736576661219 3.9092153529175317 1.9898073483727683 5.4423728264315905 1.1624553099158639 0.871922993950144\n"
     ]
    }
   ],
   "source": [
    "flfn=mannwhitneyu(F1['fl'], F1['fn'], alternative=\"two-sided\").pvalue*6\n",
    "flsl=mannwhitneyu(F1['fl'], F1['sl'], alternative=\"two-sided\").pvalue*6\n",
    "flsn=mannwhitneyu(F1['fl'], F1['sn'], alternative=\"two-sided\").pvalue*6\n",
    "fnsn=mannwhitneyu(F1['fn'], F1['sn'], alternative=\"two-sided\").pvalue*6\n",
    "fnsl=mannwhitneyu(F1['fn'], F1['sl'], alternative=\"two-sided\").pvalue*6\n",
    "snsl=mannwhitneyu(F1['sn'], F1['sl'], alternative=\"two-sided\").pvalue*6\n",
    "\n",
    "print(flfn,flsl,flsn,fnsn,fnsl,snsl)"
   ]
  },
  {
   "cell_type": "code",
   "execution_count": 37,
   "id": "57f8ea68-0503-4f59-a766-19cd76265537",
   "metadata": {},
   "outputs": [
    {
     "name": "stdout",
     "output_type": "stream",
     "text": [
      "4.6079114551699405 3.380631981256765 4.191716368215268 5.398366745137099 2.408511565790965 2.2665149544765635\n"
     ]
    }
   ],
   "source": [
    "flfn=mannwhitneyu(recall['fl'], recall['fn'], alternative=\"two-sided\").pvalue*6\n",
    "flsl=mannwhitneyu(recall['fl'], recall['sl'], alternative=\"two-sided\").pvalue*6\n",
    "flsn=mannwhitneyu(recall['fl'], recall['sn'], alternative=\"two-sided\").pvalue*6\n",
    "fnsn=mannwhitneyu(recall['fn'], recall['sn'], alternative=\"two-sided\").pvalue*6\n",
    "fnsl=mannwhitneyu(recall['fn'], recall['sl'], alternative=\"two-sided\").pvalue*6\n",
    "snsl=mannwhitneyu(recall['sn'], recall['sl'], alternative=\"two-sided\").pvalue*6\n",
    "\n",
    "print(flfn,flsl,flsn,fnsn,fnsl,snsl)"
   ]
  },
  {
   "cell_type": "code",
   "execution_count": null,
   "id": "86331e03-c764-4ea6-8c39-a73165abd6a3",
   "metadata": {},
   "outputs": [],
   "source": []
  }
 ],
 "metadata": {
  "kernelspec": {
   "display_name": "Python 3 (ipykernel)",
   "language": "python",
   "name": "python3"
  },
  "language_info": {
   "codemirror_mode": {
    "name": "ipython",
    "version": 3
   },
   "file_extension": ".py",
   "mimetype": "text/x-python",
   "name": "python",
   "nbconvert_exporter": "python",
   "pygments_lexer": "ipython3",
   "version": "3.9.10"
  }
 },
 "nbformat": 4,
 "nbformat_minor": 5
}
