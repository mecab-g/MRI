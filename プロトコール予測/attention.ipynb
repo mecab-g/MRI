{
 "cells": [
  {
   "cell_type": "code",
   "execution_count": 3,
   "id": "06b2e2be-5d66-418d-abd7-c831d4d3c622",
   "metadata": {},
   "outputs": [],
   "source": [
    "import torch\n",
    "from transformers import BertJapaneseTokenizer, BertModel\n",
    "from transformers import AutoModelForCausalLM, AutoTokenizer, PretrainedConfig, AutoModelForCausalLM\n",
    "\n",
    "\n",
    "import matplotlib.pyplot as plt\n",
    "import numpy as np\n",
    "# https://developer.mamezou-tech.com/blogs/2023/03/26/using-transformer-03/\n",
    "# https://www.ai-shift.co.jp/techblog/2089"
   ]
  },
  {
   "cell_type": "code",
   "execution_count": 4,
   "id": "abcec7ac-d66f-4121-8604-64d99f511cb9",
   "metadata": {},
   "outputs": [],
   "source": [
    "model_name = \"../data/model/strf_sonoisa_sentence-bert-base-ja-mean-tokens-v232.75.10\"\n",
    "tokenizer = BertJapaneseTokenizer.from_pretrained(model_name)\n",
    "model = BertModel.from_pretrained(model_name, output_attentions=True)"
   ]
  },
  {
   "cell_type": "code",
   "execution_count": 71,
   "id": "c8654e7e-e863-4035-80a0-b52d8e35594f",
   "metadata": {},
   "outputs": [],
   "source": [
    "sen = \"仙骨部の腫瘍の重症度フォローをお願いします。\"\n",
    "sen = \"仙腸関節炎、強直性脊椎炎疑い 腰椎～仙腸関節までお願いします\"\n",
    "# sen = \"直腸癌の局所再発に対する切除後。 ストーマ閉鎖後。 下肢への放射線を伴う臀部の痛み。 再発はありますか？ 腰部脊柱管狭窄症ですか？ 精査してください\"\n",
    "#sen = \"2/10発症左椎骨動脈解離による脳塞栓の患者｡ 大動脈弓部から頸部動脈のplaque imaging撮像お願いします｡\"\n",
    "sen = \"cisに対して2013年子宮両側付属器切除､腟断端 再発に対して放射線治療後｡右腟壁下部~右大陰唇皮下にかけて､径2cm程度の腫瘤を触知｡前医の生検にて high grade intraepithelia l squamous neoplasiaと診断されています｡腫瘤のｻｲｽﾞや広がりについて御高診お願いします｡\"\n",
    "sen = \"昨年他院でanaplastic oligodendrogliomaの診断 今回多発性の再発疑い 頭蓋内髄腔播種を疑うため脊髄病変のcheck目的です 頭部plateあり\"\n",
    "input_text = sen\n",
    "input_ids = tokenizer.encode(input_text, return_tensors='pt')"
   ]
  },
  {
   "cell_type": "code",
   "execution_count": 72,
   "id": "21732549-f703-43d4-ab1f-bd2e823e57de",
   "metadata": {},
   "outputs": [],
   "source": [
    "# Attentionを取得する\n",
    "outputs = model(input_ids)\n",
    "attentions = outputs.attentions\n",
    "# 言語モデルに入力された文に対するAttentionの重みを取得\n",
    "attention = torch.sum(attentions[-1], dim=1)[0].detach().numpy()"
   ]
  },
  {
   "cell_type": "code",
   "execution_count": 73,
   "id": "c9240dc6-2bc2-4627-84d9-95a8c2d5711d",
   "metadata": {},
   "outputs": [
    {
     "name": "stdout",
     "output_type": "stream",
     "text": [
      "51 51\n"
     ]
    }
   ],
   "source": [
    "attn = attention[0,:]\n",
    "attn = attn/attn.max()\n",
    "tokens = tokenizer.convert_ids_to_tokens(tokenizer.encode(input_text))\n",
    "\n",
    "print (len(attn), len(tokens))"
   ]
  },
  {
   "cell_type": "code",
   "execution_count": 74,
   "id": "5169858c-eeb9-469a-bd3e-857cddea2149",
   "metadata": {},
   "outputs": [
    {
     "name": "stdout",
     "output_type": "stream",
     "text": [
      "0.18954526 [CLS]\n",
      "0.12903972 昨年\n",
      "0.11135468 他\n",
      "0.18506832 院\n",
      "0.04080171 で\n",
      "0.1582808 an\n",
      "0.067936264 ##ap\n",
      "0.05807882 ##las\n",
      "0.01232619 ##t\n",
      "0.06512184 ##ic\n",
      "0.118905365 o\n",
      "0.061555468 ##li\n",
      "0.03134367 ##go\n",
      "0.019381912 ##de\n",
      "0.021385398 ##n\n",
      "0.0234177 ##d\n",
      "0.027846003 ##ro\n",
      "0.02705255 ##g\n",
      "0.02909264 ##li\n",
      "0.013861548 ##om\n",
      "0.10537929 ##a\n",
      "0.11824307 の\n",
      "0.06603511 診断\n",
      "0.01758679 今回\n",
      "0.15634473 多発\n",
      "0.010893926 性\n",
      "0.0052205212 の\n",
      "0.07104178 再発\n",
      "0.00361242 疑い\n",
      "0.1346438 頭蓋\n",
      "0.024140358 内\n",
      "0.07160173 髄\n",
      "0.0263462 腔\n",
      "0.05059225 播\n",
      "0.06210912 ##種\n",
      "0.004600583 を\n",
      "0.035896298 疑\n",
      "0.041808985 ##う\n",
      "0.23942669 ため\n",
      "0.7670161 脊髄\n",
      "0.31569573 病変\n",
      "0.099310845 の\n",
      "0.4715068 ch\n",
      "0.8040261 ##eck\n",
      "1.0 目的\n",
      "0.030996496 です\n",
      "0.62625563 頭部\n",
      "0.47669944 pl\n",
      "0.66069716 ##ate\n",
      "0.60941124 あり\n",
      "0.028551903 [SEP]\n"
     ]
    }
   ],
   "source": [
    "for a, t in zip(attn, tokens):\n",
    "    print(a,t)"
   ]
  },
  {
   "cell_type": "code",
   "execution_count": 91,
   "id": "fc25ac0c-18b0-447b-8284-3152479c5947",
   "metadata": {
    "tags": []
   },
   "outputs": [],
   "source": [
    "def highlight(word, attn):\n",
    "  html_color = '#%02X%02X%02X' % (255, int(255*(1 - attn)), int(255*(1 - attn)))\n",
    "  return '<span style=\"background-color: {}\">{}</span>'.format(html_color, word)\n",
    "\n",
    "def mk_html(tokens, attn):\n",
    "\n",
    "  html = ''\n",
    "  for i, a in enumerate(attn):\n",
    "    html += highlight(tokenizer.convert_ids_to_tokens(tokenizer.encode(input_text))[i], a)  \n",
    "  html += \"<br><br>\"\n",
    "  return html\n",
    "\n",
    "\n",
    "from IPython.display import display, HTML"
   ]
  },
  {
   "cell_type": "code",
   "execution_count": 92,
   "id": "76ea6a95-54ec-48d3-be9c-d1c5cf2aa88f",
   "metadata": {},
   "outputs": [
    {
     "data": {
      "text/html": [
       "<span style=\"background-color: #FFCECE\">[CLS]</span><span style=\"background-color: #FFDEDE\">昨年</span><span style=\"background-color: #FFE2E2\">他</span><span style=\"background-color: #FFCFCF\">院</span><span style=\"background-color: #FFF4F4\">で</span><span style=\"background-color: #FFD6D6\">an</span><span style=\"background-color: #FFEDED\">##ap</span><span style=\"background-color: #FFF0F0\">##las</span><span style=\"background-color: #FFFBFB\">##t</span><span style=\"background-color: #FFEEEE\">##ic</span><span style=\"background-color: #FFE0E0\">o</span><span style=\"background-color: #FFEFEF\">##li</span><span style=\"background-color: #FFF7F7\">##go</span><span style=\"background-color: #FFFAFA\">##de</span><span style=\"background-color: #FFF9F9\">##n</span><span style=\"background-color: #FFF9F9\">##d</span><span style=\"background-color: #FFF7F7\">##ro</span><span style=\"background-color: #FFF8F8\">##g</span><span style=\"background-color: #FFF7F7\">##li</span><span style=\"background-color: #FFFBFB\">##om</span><span style=\"background-color: #FFE4E4\">##a</span><span style=\"background-color: #FFE0E0\">の</span><span style=\"background-color: #FFEEEE\">診断</span><span style=\"background-color: #FFFAFA\">今回</span><span style=\"background-color: #FFD7D7\">多発</span><span style=\"background-color: #FFFCFC\">性</span><span style=\"background-color: #FFFDFD\">の</span><span style=\"background-color: #FFECEC\">再発</span><span style=\"background-color: #FFFEFE\">疑い</span><span style=\"background-color: #FFDCDC\">頭蓋</span><span style=\"background-color: #FFF8F8\">内</span><span style=\"background-color: #FFECEC\">髄</span><span style=\"background-color: #FFF8F8\">腔</span><span style=\"background-color: #FFF2F2\">播</span><span style=\"background-color: #FFEFEF\">##種</span><span style=\"background-color: #FFFDFD\">を</span><span style=\"background-color: #FFF5F5\">疑</span><span style=\"background-color: #FFF4F4\">##う</span><span style=\"background-color: #FFC1C1\">ため</span><span style=\"background-color: #FF3B3B\">脊髄</span><span style=\"background-color: #FFAEAE\">病変</span><span style=\"background-color: #FFE5E5\">の</span><span style=\"background-color: #FF8686\">ch</span><span style=\"background-color: #FF3131\">##eck</span><span style=\"background-color: #FF0000\">目的</span><span style=\"background-color: #FFF7F7\">です</span><span style=\"background-color: #FF5F5F\">頭部</span><span style=\"background-color: #FF8585\">pl</span><span style=\"background-color: #FF5656\">##ate</span><span style=\"background-color: #FF6363\">あり</span><span style=\"background-color: #FFF7F7\">[SEP]</span><br><br>"
      ],
      "text/plain": [
       "<IPython.core.display.HTML object>"
      ]
     },
     "metadata": {},
     "output_type": "display_data"
    }
   ],
   "source": [
    "html_output = mk_html(tokens, attn)\n",
    "display(HTML(html_output))"
   ]
  },
  {
   "cell_type": "code",
   "execution_count": null,
   "id": "5fc4764c-00ab-4546-b4d4-7ecb4ad16360",
   "metadata": {},
   "outputs": [],
   "source": []
  }
 ],
 "metadata": {
  "kernelspec": {
   "display_name": "Python 3 (ipykernel)",
   "language": "python",
   "name": "python3"
  },
  "language_info": {
   "codemirror_mode": {
    "name": "ipython",
    "version": 3
   },
   "file_extension": ".py",
   "mimetype": "text/x-python",
   "name": "python",
   "nbconvert_exporter": "python",
   "pygments_lexer": "ipython3",
   "version": "3.9.10"
  }
 },
 "nbformat": 4,
 "nbformat_minor": 5
}
