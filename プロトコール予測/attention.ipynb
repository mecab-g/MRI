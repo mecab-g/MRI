{
 "cells": [
  {
   "cell_type": "code",
   "execution_count": 1,
   "id": "06b2e2be-5d66-418d-abd7-c831d4d3c622",
   "metadata": {},
   "outputs": [],
   "source": [
    "import torch\n",
    "from transformers import BertJapaneseTokenizer, BertModel\n",
    "from transformers import AutoModelForCausalLM, AutoTokenizer, PretrainedConfig, AutoModelForCausalLM\n",
    "\n",
    "\n",
    "import matplotlib.pyplot as plt\n",
    "import numpy as np\n",
    "# https://developer.mamezou-tech.com/blogs/2023/03/26/using-transformer-03/\n",
    "# https://www.ai-shift.co.jp/techblog/2089"
   ]
  },
  {
   "cell_type": "code",
   "execution_count": 2,
   "id": "abcec7ac-d66f-4121-8604-64d99f511cb9",
   "metadata": {},
   "outputs": [],
   "source": [
    "model_name = \"../data/model/strf_sonoisa_sentence-bert-base-ja-mean-tokens-v232.75.10\"\n",
    "tokenizer = BertJapaneseTokenizer.from_pretrained(model_name)\n",
    "model = BertModel.from_pretrained(model_name, output_attentions=True)"
   ]
  },
  {
   "cell_type": "code",
   "execution_count": 34,
   "id": "c8654e7e-e863-4035-80a0-b52d8e35594f",
   "metadata": {},
   "outputs": [],
   "source": [
    "sen = \"仙骨部の腫瘍の重症度フォローをお願いします。\"\n",
    "sen = \"仙腸関節炎、強直性脊椎炎疑い 腰椎～仙腸関節までお願いします\"\n",
    "# sen = \"直腸癌の局所再発に対する切除後。 ストーマ閉鎖後。 下肢への放射線を伴う臀部の痛み。 再発はありますか？ 腰部脊柱管狭窄症ですか？ 精査してください\"\n",
    "#sen = \"2/10発症左椎骨動脈解離による脳塞栓の患者｡ 大動脈弓部から頸部動脈のplaque imaging撮像お願いします｡\"\n",
    "# sen = \"cisに対して2013年子宮両側付属器切除､腟断端 再発に対して放射線治療後｡右腟壁下部~右大陰唇皮下にかけて､径2cm程度の腫瘤を触知｡前医の生検にて high grade intraepithelia l squamous neoplasiaと診断されています｡腫瘤のｻｲｽﾞや広がりについて御高診お願いします｡\"\n",
    "# sen = \"昨年他院でanaplastic oligodendrogliomaの診断 今回多発性の再発疑い 頭蓋内髄腔播種を疑うため脊髄病変のcheck目的です 頭部plateあり\"\n",
    "\n",
    "\n",
    "sen = '生下時より右肘内側の腫瘤あり、エコーでは充実性腫瘤と。肉腫？さらなる精査'\n",
    "# sen = '在胎38週5日1954gで出生。臍帯付着部異常（下 腹部）、総排泄腔、膀胱頸部形成不全、鎖肛、恥骨結合離開、馬蹄腎、腸回転異常などを認めcovered cloacal exstrophyと診断しています 。脊髄係留症候群などの合併があり脊椎の形成異常などがないか、また注腸造影で膀胱を確認はしていますが、膀胱や尿管、尿道の確認、また内性器などの構造の確認をお願いします。'\n",
    "sen = '1歳頃より左眉外側に腫瘤を認め、拡大傾向。8月に摘 出術を予定しており、術前評価目的'\n",
    "sen = '松果体部AT/RTに対して11/17から化学療法開 始 痙攣重積後の頭蓋内評価目的です 時間が許す範囲で全脊椎MRIの矢状断もお願 いします。'\n",
    "sen = 'CAS後、follow up 頸動脈MRAも御願いします。'\n",
    "\n",
    "input_text = sen\n",
    "input_ids = tokenizer.encode(input_text, return_tensors='pt')"
   ]
  },
  {
   "cell_type": "code",
   "execution_count": 35,
   "id": "21732549-f703-43d4-ab1f-bd2e823e57de",
   "metadata": {},
   "outputs": [],
   "source": [
    "# Attentionを取得する\n",
    "outputs = model(input_ids)\n",
    "attentions = outputs.attentions\n",
    "# 言語モデルに入力された文に対するAttentionの重みを取得\n",
    "attention = torch.sum(attentions[-1], dim=1)[0].detach().numpy()"
   ]
  },
  {
   "cell_type": "code",
   "execution_count": 36,
   "id": "c9240dc6-2bc2-4627-84d9-95a8c2d5711d",
   "metadata": {},
   "outputs": [
    {
     "name": "stdout",
     "output_type": "stream",
     "text": [
      "20 20\n"
     ]
    }
   ],
   "source": [
    "attn = attention[0,:]\n",
    "attn = attn/attn.max()\n",
    "tokens = tokenizer.convert_ids_to_tokens(tokenizer.encode(input_text))\n",
    "\n",
    "print (len(attn), len(tokens))"
   ]
  },
  {
   "cell_type": "code",
   "execution_count": 37,
   "id": "5169858c-eeb9-469a-bd3e-857cddea2149",
   "metadata": {},
   "outputs": [
    {
     "name": "stdout",
     "output_type": "stream",
     "text": [
      "0.35680762 [CLS]\n",
      "0.42900068 CAS\n",
      "0.33724236 後\n",
      "0.091376856 、\n",
      "0.41041586 f\n",
      "0.2565244 ##oll\n",
      "0.08455805 ##ow\n",
      "0.0715636 up\n",
      "0.10297818 頸\n",
      "0.014746211 ##動\n",
      "0.1213332 脈\n",
      "0.16439924 MR\n",
      "1.0 ##A\n",
      "0.76333874 も\n",
      "0.44811878 御\n",
      "0.42398366 願い\n",
      "0.05829381 し\n",
      "0.06645831 ます\n",
      "0.108171254 。\n",
      "0.11597874 [SEP]\n"
     ]
    }
   ],
   "source": [
    "for a, t in zip(attn, tokens):\n",
    "    print(a,t)"
   ]
  },
  {
   "cell_type": "code",
   "execution_count": 38,
   "id": "fc25ac0c-18b0-447b-8284-3152479c5947",
   "metadata": {
    "tags": []
   },
   "outputs": [],
   "source": [
    "def highlight(word, attn):\n",
    "  html_color = '#%02X%02X%02X' % (255, int(255*(1 - attn)), int(255*(1 - attn)))\n",
    "  return '<span style=\"background-color: {}\">{}</span>'.format(html_color, word)\n",
    "\n",
    "def mk_html(tokens, attn):\n",
    "\n",
    "  html = ''\n",
    "  for i, a in enumerate(attn):\n",
    "    html += highlight(tokenizer.convert_ids_to_tokens(tokenizer.encode(input_text))[i], a)  \n",
    "  html += \"<br><br>\"\n",
    "  return html\n",
    "\n",
    "\n",
    "from IPython.display import display, HTML"
   ]
  },
  {
   "cell_type": "code",
   "execution_count": 39,
   "id": "76ea6a95-54ec-48d3-be9c-d1c5cf2aa88f",
   "metadata": {},
   "outputs": [
    {
     "data": {
      "text/html": [
       "<span style=\"background-color: #FFA4A4\">[CLS]</span><span style=\"background-color: #FF9191\">CAS</span><span style=\"background-color: #FFA9A9\">後</span><span style=\"background-color: #FFE7E7\">、</span><span style=\"background-color: #FF9696\">f</span><span style=\"background-color: #FFBDBD\">##oll</span><span style=\"background-color: #FFE9E9\">##ow</span><span style=\"background-color: #FFECEC\">up</span><span style=\"background-color: #FFE4E4\">頸</span><span style=\"background-color: #FFFBFB\">##動</span><span style=\"background-color: #FFE0E0\">脈</span><span style=\"background-color: #FFD5D5\">MR</span><span style=\"background-color: #FF0000\">##A</span><span style=\"background-color: #FF3C3C\">も</span><span style=\"background-color: #FF8C8C\">御</span><span style=\"background-color: #FF9292\">願い</span><span style=\"background-color: #FFF0F0\">し</span><span style=\"background-color: #FFEEEE\">ます</span><span style=\"background-color: #FFE3E3\">。</span><span style=\"background-color: #FFE1E1\">[SEP]</span><br><br>"
      ],
      "text/plain": [
       "<IPython.core.display.HTML object>"
      ]
     },
     "metadata": {},
     "output_type": "display_data"
    }
   ],
   "source": [
    "html_output = mk_html(tokens, attn)\n",
    "display(HTML(html_output))"
   ]
  },
  {
   "cell_type": "code",
   "execution_count": null,
   "id": "5fc4764c-00ab-4546-b4d4-7ecb4ad16360",
   "metadata": {},
   "outputs": [],
   "source": []
  }
 ],
 "metadata": {
  "kernelspec": {
   "display_name": "Python 3 (ipykernel)",
   "language": "python",
   "name": "python3"
  },
  "language_info": {
   "codemirror_mode": {
    "name": "ipython",
    "version": 3
   },
   "file_extension": ".py",
   "mimetype": "text/x-python",
   "name": "python",
   "nbconvert_exporter": "python",
   "pygments_lexer": "ipython3",
   "version": "3.9.10"
  }
 },
 "nbformat": 4,
 "nbformat_minor": 5
}
