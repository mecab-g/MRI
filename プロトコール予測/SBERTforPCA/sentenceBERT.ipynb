{
 "cells": [
  {
   "cell_type": "code",
   "execution_count": 63,
   "id": "b19614e9",
   "metadata": {},
   "outputs": [],
   "source": [
    "#nokで\n",
    "import pandas as pd\n",
    "import numpy as np\n",
    "import unicodedata\n",
    "import sys\n",
    "import datetime\n",
    "import time\n",
    "import MeCab\n",
    "import collections\n",
    "import mojimoji\n",
    "import numpy as np\n",
    "from pprint import pprint\n",
    "from gensim import corpora\n",
    "from gensim import models\n",
    "\n",
    "from pprint import pprint\n",
    "from scipy import spatial\n",
    "\n",
    "import fasttext \n",
    "import fasttext.util\n",
    "import re\n",
    "\n",
    "from sklearn.preprocessing import OneHotEncoder\n",
    "\n",
    "\n",
    "\n",
    "def is_japanise(str):\n",
    "    import unicodedata\n",
    "    \n",
    "    for ch in str:\n",
    "        name = unicodedata.name(ch)\n",
    "        \n",
    "        if'CJK UNIFIED'in name or'HIRAGANA'in name or'KATAKANA'in name or'BLACK'in name or 'DIGIT' in name or 'SQUARE' in name:\n",
    "            return True\n",
    "        else:\n",
    "            return False\n",
    "#日本語が混じっている単語のリスト作成\n",
    "def wakatis(Str):\n",
    "    \n",
    "    stop_words= [',','｡','.','右','左','*','(',')','委任','/',':','。','、',',','.','+','→']\n",
    "    import MeCab\n",
    "    tagger = MeCab.Tagger(r\"-d /var/lib/mecab/dic/ipadic-utf8/ -u dic/MANBYO_201907_Dic-utf8.dic -Owakati\")              \n",
    "    result = tagger.parse(Str).split()\n",
    "    words = []\n",
    "    stop_words = stop_words\n",
    "    for word in result:\n",
    "        if (re.compile(r'^.*[0-9]+.*$').fullmatch(word) is not None): # 数字が含まれるものは除外\n",
    "            continue\n",
    "        if word in stop_words: # ストップワードに含まれるものは除外\n",
    "            continue\n",
    "        if len(word) < 1: #  1文字、0文字（空文字）は除外\n",
    "            continue\n",
    "        words.append(word)\n",
    "    return words\n",
    "\n",
    "def wakati(Str):\n",
    "    import MeCab\n",
    "    \n",
    "    stop_words=  [',','｡','.','右','左','*','(',')','委任',':','。','、',',','.','+']\n",
    "    tagger = MeCab.Tagger(r\"-d /var/lib/mecab/dic/ipadic-utf8/ -u dic/MANBYO_201907_Dic-utf8.dic -Owakati\")              \n",
    "    result = tagger.parse(Str).split()\n",
    "    words = []\n",
    "    stop_words = stop_words\n",
    "    for word in result:\n",
    "        if (re.compile(r'^.*[0-9]+.*$').fullmatch(word) is not None): # 数字が含まれるものは除外\n",
    "            continue\n",
    "        if word in stop_words: # ストップワードに含まれるものは除外\n",
    "            continue\n",
    "        if len(word) < 1: #  1文字、0文字（空文字）は除外\n",
    "            continue\n",
    "        words.append(word)\n",
    "    words = ' '.join(words)\n",
    "    return words\n",
    "\n",
    "def colchoice2(df,word1,word2=None):\n",
    "    if word2==None:\n",
    "        word2=word1\n",
    "    ss = [item for item in df.columns if item.find(word1)!= -1]\n",
    "    sss = [item for item in ss if item.find(word2)!= -1]\n",
    "    bb = \" \".join([str(_) for _ in sss])\n",
    "    return bb"
   ]
  },
  {
   "cell_type": "code",
   "execution_count": 64,
   "id": "0d1f59a8-3006-493d-8b24-6f41a489d0d8",
   "metadata": {},
   "outputs": [],
   "source": [
    "def meishi(text):\n",
    "    \n",
    "    \n",
    "    stop_words= [',','｡','.','右','左','*','(',')','委任',':','。','、',',','.','+']\n",
    "\n",
    "    mecab = MeCab.Tagger(r\"-d /var/lib/mecab/dic/ipadic-utf8/ -u dic/MANBYO_201907_Dic-utf8.dic\")\n",
    "    result = mecab.parse(text)\n",
    "    lines = result.split('\\n')\n",
    "    nounAndVerb = []#「名詞」と「動詞」を格納するリスト\n",
    "    for line in lines:\n",
    "        feature = line.split('\\t')\n",
    "        if len(feature) == 2: #'EOS'と''を省く\n",
    "            info = feature[1].split(',')\n",
    "            hinshi = info[0]\n",
    "            if hinshi in ('名詞', '動詞'):\n",
    "                nounAndVerb.append(feature[0])\n",
    "    words = []\n",
    "    for word in nounAndVerb:\n",
    "        if (re.compile(r'^.*[0-9]+.*$').fullmatch(word) is not None): # 数字が含まれるものは除外\n",
    "            continue\n",
    "        if word in stop_words: # ストップワードに含まれるものは除外\n",
    "            continue\n",
    "        if len(word) < 1:#  1文字、0文字（空文字）は除外\n",
    "            continue\n",
    "        words.append(word)\n",
    "    return(words)\n",
    "    \n",
    "def meishi2(text):\n",
    "    stop_words= [',','｡','.','右','左','*','(',')','委任',':','。','、',',','.','+']\n",
    "    \n",
    "    words = meishi(text)\n",
    "    words = ' '.join(words)\n",
    "    return(words)\n",
    "    "
   ]
  },
  {
   "cell_type": "code",
   "execution_count": 65,
   "id": "505221a4",
   "metadata": {},
   "outputs": [],
   "source": [
    "#各doc2vecのモデル作成のための準備\n",
    "def vec_test(PATH):\n",
    "    import pandas as pd\n",
    "    import datetime\n",
    "    from sklearn.preprocessing import OneHotEncoder\n",
    "\n",
    "\n",
    "    df=pd.read_csv(PATH,encoding='cp932')  \n",
    "    df=df.rename(columns={'受付':'accept','年齢':'age','性':'sex','部位':'position','方法':'method','臨床診断':'diagnosis','依頼目的':'purpose','依頼科':'section'})\n",
    "    pr=colchoice2(df,'実施','室')\n",
    "    df=df.rename(columns={pr:'room'})\n",
    "    bo=colchoice2(df,'予約')\n",
    "    df=df.rename(columns={bo:'book'})\n",
    "    st=colchoice2(df,'開始')\n",
    "    df=df.rename(columns={st:'start'})\n",
    "    en=colchoice2(df,'終了')\n",
    "    df=df.rename(columns={en:'end'})\n",
    "    \n",
    "    delete =[]\n",
    "    for i in df.columns.values:#日本語,記号のあるcolumnsは除外リストへ\n",
    "        if is_japanise(i)==True:\n",
    "            delete.append(i)\n",
    "    df = df.drop(columns = delete)\n",
    "    #空白を半角へ\n",
    "    df['purpose'] = df['purpose'].replace([' ',' '], ' ')\n",
    "    \n",
    "    df['diagnosis'] = df['diagnosis'].map(str)\n",
    "    df['purpose'] = df['purpose'].map(str)\n",
    "    \n",
    "    #def mojikana(a):\n",
    "    #    a =  mojimoji.zen_to_han(a, kana=False)\n",
    "    #    return a\n",
    "        \n",
    "    df['diagnosis'] = df['diagnosis'].map(mojimoji.zen_to_han)\n",
    "    df['purpose'] = df['purpose'].map(mojimoji.zen_to_han)\n",
    "    #df['diagnosis']=df['diagnosis'].str.replace(' ', '')\n",
    "    #df['purpose']=df['purpose'].str.replace(' ', '')\n",
    "    #df['purpose']=df['purpose'].str.replace('　', '')\n",
    "    \n",
    "    #df['diagnosis']=df['diagnosis'].str.upper()\n",
    "    #df['purpose']=df['purpose'].str.upper()\n",
    "    \n",
    "    \n",
    "    \n",
    "    \n",
    "    df_vectest=df.loc[:,['position','diagnosis','purpose']]\n",
    "    \n",
    "    \n",
    "    df_vectest['position_words']=df_vectest['position'].map(meishi2)\n",
    "    df_vectest['diagnosis_words']=df_vectest['diagnosis'].map(meishi2)\n",
    "    #df_vectest['vec_list']=df_vectest['purpose'].map(wakatis)\n",
    "    df_vectest['wakachi']=df_vectest['purpose'].map(wakati)\n",
    "    df_vectest['meishi2']=df_vectest['purpose'].map(meishi2)\n",
    "    #df_vectest['meishi_list']=df_vectest['purpose'].map(meishi)\n",
    "    \n",
    "    #df_vectest['fast_model']=(df_vectest['position_words'] + ' ' + df_vectest['diagnosis_words'] + ' ' + df_vectest['meishi2'])\n",
    "    df_vectest['fast_model']=(df_vectest['position_words'] + ' ' + df_vectest['diagnosis_words'] + ' ' + df_vectest['meishi2'])\n",
    "    \n",
    "    df_vectest['fast_model']=df_vectest['fast_model'].str.lower()\n",
    "    #df_vectest['purpose']=df_vectest['purpose'].str.lower()\n",
    "    \n",
    "    #df_vectest['fast_model'] = df_vectest['fast_model'].map(mojimoji.zen_to_han)\n",
    "    #df_vectest['purpose'] = df_vectest['purpose'].map(mojimoji.zen_to_han)\n",
    "    \n",
    "    \n",
    "    \n",
    "    #print(len(vectest))\n",
    "    \n",
    "    #df_vectest=df_vectest[df_vectest['meishi'].isnull==False]\n",
    "    #print(len(df_vectest))\n",
    "    \n",
    "\n",
    "    \n",
    "    return df_vectest"
   ]
  },
  {
   "cell_type": "code",
   "execution_count": 66,
   "id": "265d44e9-a9a6-4b59-bf45-0afa880a6ff4",
   "metadata": {},
   "outputs": [],
   "source": [
    "a='SRS以前と比べてgo変化はBPASSどうでしょうか。p/o usフォローも3回お願いﾌｫﾛｰ:脳出血悪性黒色腫'\n",
    "b='足及び足指'"
   ]
  },
  {
   "cell_type": "code",
   "execution_count": 7,
   "id": "bf45f528-893b-4a10-be7f-287eea88f86a",
   "metadata": {},
   "outputs": [
    {
     "name": "stdout",
     "output_type": "stream",
     "text": [
      "SRS以前と比べてgo変化はBPASSどうでしょうか。p/o usフォローも3回お願いﾌｫﾛｰ:脳出血悪性黒色腫\n"
     ]
    }
   ],
   "source": [
    "print(a)"
   ]
  },
  {
   "cell_type": "code",
   "execution_count": 8,
   "id": "71412559-4aec-4fd7-8a0c-386558696d0e",
   "metadata": {},
   "outputs": [
    {
     "data": {
      "text/plain": [
       "'SRS 以前 と 比べ て go 変化 は BPASS どう でしょ う か p / o us フォロー も 回 お願い ﾌｫﾛｰ 脳出血 悪性黒色腫'"
      ]
     },
     "execution_count": 8,
     "metadata": {},
     "output_type": "execute_result"
    }
   ],
   "source": [
    "wakati(a)"
   ]
  },
  {
   "cell_type": "code",
   "execution_count": 9,
   "id": "96103c26-7c8c-42ec-9ed6-041d7abb62e7",
   "metadata": {},
   "outputs": [
    {
     "data": {
      "text/plain": [
       "'SRS 以前 比べ go 変化 BPASS p / o us フォロー 回 お願い ﾌｫﾛｰ 脳出血 悪性黒色腫'"
      ]
     },
     "execution_count": 9,
     "metadata": {},
     "output_type": "execute_result"
    }
   ],
   "source": [
    "meishi2(a)"
   ]
  },
  {
   "cell_type": "code",
   "execution_count": 74,
   "id": "2fe15efd-92a1-4663-8558-6601b1245ab8",
   "metadata": {},
   "outputs": [
    {
     "data": {
      "text/plain": [
       "['SRS',\n",
       " '以前',\n",
       " '比べ',\n",
       " 'go',\n",
       " '変化',\n",
       " 'BPASS',\n",
       " 'p',\n",
       " '/',\n",
       " 'o',\n",
       " 'us',\n",
       " 'フォロー',\n",
       " '回',\n",
       " 'お願い',\n",
       " 'ﾌｫﾛｰ',\n",
       " '脳出血',\n",
       " '悪性黒色腫']"
      ]
     },
     "execution_count": 74,
     "metadata": {},
     "output_type": "execute_result"
    }
   ],
   "source": [
    "meishi(a)"
   ]
  },
  {
   "cell_type": "code",
   "execution_count": 75,
   "id": "23555def-8f17-40ff-b535-9bebd315b15f",
   "metadata": {},
   "outputs": [],
   "source": [
    "### 学習元のデータ整形（fasttext)"
   ]
  },
  {
   "cell_type": "raw",
   "id": "a9ff8076-0fa5-479c-8a41-fa1a3b7520b4",
   "metadata": {},
   "source": [
    "df_vec_test=vec_test('MRI_20200201_20210201.csv')\n",
    "print(len(df_vec_test))\n",
    "df_vec_test[:5]"
   ]
  },
  {
   "cell_type": "code",
   "execution_count": null,
   "id": "49fd1f1a-efa7-4052-b76b-15663eb8f4fc",
   "metadata": {},
   "outputs": [],
   "source": [
    "#df_vec_test.iloc[107]"
   ]
  },
  {
   "cell_type": "raw",
   "id": "7a667eaf-3c04-4078-868a-396b20eb8308",
   "metadata": {},
   "source": [
    "df_vec_test2=vec_test('MRI_20190201_20200131.csv')\n",
    "print(len(df_vec_test2))\n",
    "df_vec_test2[:5]"
   ]
  },
  {
   "cell_type": "raw",
   "id": "95094600-9672-4c56-8049-344cea9bd52a",
   "metadata": {},
   "source": [
    "df = pd.concat([df_vec_test, df_vec_test2], axis=0, ignore_index=True) \n",
    "print(len(df))"
   ]
  },
  {
   "cell_type": "code",
   "execution_count": 18,
   "id": "3ec9af7e-fcb2-48e5-9a0f-2876119d0cb9",
   "metadata": {},
   "outputs": [
    {
     "data": {
      "text/html": [
       "<div>\n",
       "<style scoped>\n",
       "    .dataframe tbody tr th:only-of-type {\n",
       "        vertical-align: middle;\n",
       "    }\n",
       "\n",
       "    .dataframe tbody tr th {\n",
       "        vertical-align: top;\n",
       "    }\n",
       "\n",
       "    .dataframe thead th {\n",
       "        text-align: right;\n",
       "    }\n",
       "</style>\n",
       "<table border=\"1\" class=\"dataframe\">\n",
       "  <thead>\n",
       "    <tr style=\"text-align: right;\">\n",
       "      <th></th>\n",
       "      <th>position</th>\n",
       "      <th>diagnosis</th>\n",
       "      <th>purpose</th>\n",
       "      <th>position_words</th>\n",
       "      <th>diagnosis_words</th>\n",
       "      <th>wakachi</th>\n",
       "      <th>meishi2</th>\n",
       "      <th>fast_model</th>\n",
       "    </tr>\n",
       "  </thead>\n",
       "  <tbody>\n",
       "    <tr>\n",
       "      <th>14404</th>\n",
       "      <td>頭部(委任)</td>\n",
       "      <td>嚥下障害 右声帯麻痺</td>\n",
       "      <td>6</td>\n",
       "      <td>頭部</td>\n",
       "      <td>嚥下障害 右声帯麻痺</td>\n",
       "      <td></td>\n",
       "      <td></td>\n",
       "      <td>頭部 嚥下障害 右声帯麻痺</td>\n",
       "    </tr>\n",
       "  </tbody>\n",
       "</table>\n",
       "</div>"
      ],
      "text/plain": [
       "      position   diagnosis purpose position_words diagnosis_words wakachi  \\\n",
       "14404   頭部(委任)  嚥下障害 右声帯麻痺       6             頭部      嚥下障害 右声帯麻痺           \n",
       "\n",
       "      meishi2      fast_model  \n",
       "14404          頭部 嚥下障害 右声帯麻痺   "
      ]
     },
     "execution_count": 18,
     "metadata": {},
     "output_type": "execute_result"
    }
   ],
   "source": [
    "#名詞なし確認\n",
    "df[df['wakachi']=='']"
   ]
  },
  {
   "cell_type": "code",
   "execution_count": 34,
   "id": "320156ef-1d73-4728-9375-72a25c65d065",
   "metadata": {},
   "outputs": [
    {
     "name": "stdout",
     "output_type": "stream",
     "text": [
      "21730\n",
      "21728\n"
     ]
    }
   ],
   "source": [
    "df=df[df['wakachi']!='']\n",
    "print(len(df))\n",
    "df=df.dropna(subset=['wakachi'])\n",
    "print(len(df))"
   ]
  },
  {
   "cell_type": "code",
   "execution_count": 35,
   "id": "1ee629ec-7f91-480b-9237-32d9a5310501",
   "metadata": {},
   "outputs": [
    {
     "name": "stdout",
     "output_type": "stream",
     "text": [
      "21728\n",
      "21726\n"
     ]
    }
   ],
   "source": [
    "df=df[df['wakachi']!='']\n",
    "print(len(df))\n",
    "df=df.dropna()\n",
    "print(len(df))"
   ]
  },
  {
   "cell_type": "code",
   "execution_count": 37,
   "id": "ec9fe5b2-7542-45d6-b55b-a8b1443edfe8",
   "metadata": {},
   "outputs": [],
   "source": [
    "df.to_csv('str_train_2years', index=False) "
   ]
  },
  {
   "cell_type": "code",
   "execution_count": 47,
   "id": "637e77ea-13b9-4f27-af33-5e6683470402",
   "metadata": {},
   "outputs": [
    {
     "name": "stdout",
     "output_type": "stream",
     "text": [
      "21154\n"
     ]
    }
   ],
   "source": [
    "import pandas as pd\n",
    "df=pd.read_csv('str_train_2years(full)')  \n",
    "docs=df['purpose']#nama\n",
    "wordenb = df['fast_model']#fasttext学習用\n",
    "print(len(df))"
   ]
  },
  {
   "cell_type": "code",
   "execution_count": null,
   "id": "d0ecccb1-3800-4db5-9d5a-8ff4180dfd60",
   "metadata": {},
   "outputs": [],
   "source": []
  },
  {
   "cell_type": "code",
   "execution_count": null,
   "id": "78bab9d3-357c-4d8d-9247-9e5bd831a6a6",
   "metadata": {},
   "outputs": [],
   "source": []
  },
  {
   "cell_type": "code",
   "execution_count": null,
   "id": "da793e45-d59e-4a72-ad2f-22e3e5752c71",
   "metadata": {},
   "outputs": [],
   "source": []
  },
  {
   "cell_type": "raw",
   "id": "35ae0553-ab65-4ac0-bc9d-54e68e5f5ded",
   "metadata": {},
   "source": [
    "#\n",
    "#fasttextのモデル作成\n",
    "#"
   ]
  },
  {
   "cell_type": "code",
   "execution_count": 48,
   "id": "eae1d4c3-e459-4721-a76c-e466c204c1b6",
   "metadata": {},
   "outputs": [
    {
     "data": {
      "text/plain": [
       "11388    頭部 脳 視 神経 膠 腫 年 月 再燃 ､ 化学 療法 再開 後 終了 ､ follo w...\n",
       "11389                泌尿 器 系 下腹 部 前立 腺癌 の 疑い psa と 上昇 あり 精査\n",
       "11390               頭部 脳 転移 性 脳 腫瘍 の 疑い 脳 転移 の 有無 検索 目的 です\n",
       "11391    mra 脳 聴 神経 腫瘍 の 疑い 瀬田 耳鼻 咽喉 科 浅田 優子 先生 より 御 依頼...\n",
       "11392    mra 脳 正常 圧 水頭 症 正常 圧 水頭 症 の 疑い その 他 ﾊﾟｰｷﾝｿﾝ に ...\n",
       "                               ...                        \n",
       "11445    頭部 脳 口腔 底 癌 左側 口底 癌 に 対し ､ 全身 検索 目的 に 入院 中 の 方...\n",
       "11446    骨盤 部 肛門 括約 筋 不全 便 失禁 強直 性 脊椎 炎 の 既往 あり 精査 お 願い...\n",
       "11447    大腿 部 筋 萎縮 性 側索 硬化 症 の 疑い 下肢 の 筋 萎縮 と 筋力 低下 を 認...\n",
       "11448    大腿 部 大腿 悪性 線維 性 組織 球腫 再発 術後 大腿 遠位 です follow he...\n",
       "11449    手 及び 手指 示指 ｸﾞﾛﾑｽ 腫瘍 の 疑い 示指 爪甲 の 変形 あり ます 爪甲 下...\n",
       "Name: fast_model, Length: 62, dtype: object"
      ]
     },
     "execution_count": 48,
     "metadata": {},
     "output_type": "execute_result"
    }
   ],
   "source": [
    "df['fast_model'][11388:11450]"
   ]
  },
  {
   "cell_type": "code",
   "execution_count": 49,
   "id": "b332f53d-2056-4382-8528-f821d1e063d8",
   "metadata": {},
   "outputs": [],
   "source": [
    "#学習元のテキスト\n",
    "df['fast_model'].to_csv('fasttrain_train_meishi.txt', index=False) "
   ]
  },
  {
   "cell_type": "code",
   "execution_count": 55,
   "id": "843d50dc-1722-4017-9d04-be4aeeea65c0",
   "metadata": {},
   "outputs": [
    {
     "name": "stderr",
     "output_type": "stream",
     "text": [
      "Read 0M words\n",
      "Number of words:  9458\n",
      "Number of labels: 0\n",
      "Progress: 100.0% words/sec/thread:   56133 lr:  0.000000 avg.loss:  2.178797 ETA:   0h 0m 0s\n"
     ]
    }
   ],
   "source": [
    "import fasttext \n",
    "import fasttext.util\n",
    "#モデル学習\n",
    "model= fasttext.train_unsupervised(input='fasttrain_train_meishi.txt',dim=300, ws=7 ,model='skipgram', neg=8, \n",
    "                                   epoch=10 ,minCount=1,minn=0 ,wordNgrams=0)#model{cbow, skipgram}\n",
    "model.save_model('fasttext_meishi_model.bin')"
   ]
  },
  {
   "cell_type": "code",
   "execution_count": null,
   "id": "e29389f2-fceb-40a6-8610-089cdaf2add9",
   "metadata": {},
   "outputs": [],
   "source": []
  },
  {
   "cell_type": "code",
   "execution_count": null,
   "id": "f3ee3872-5489-4d9c-87f3-1acfa1c372b7",
   "metadata": {},
   "outputs": [],
   "source": []
  },
  {
   "cell_type": "code",
   "execution_count": null,
   "id": "096b4831-9118-4e02-ac53-286b11a2fc5c",
   "metadata": {},
   "outputs": [],
   "source": []
  },
  {
   "cell_type": "code",
   "execution_count": null,
   "id": "67873d21-7f1c-4f91-9306-10d5bcb7e33d",
   "metadata": {},
   "outputs": [],
   "source": []
  },
  {
   "cell_type": "code",
   "execution_count": null,
   "id": "aadc1257-6a9d-4189-a36f-b2adda341e5c",
   "metadata": {},
   "outputs": [],
   "source": [
    "#モデルを使って文書すべてベクトルに"
   ]
  },
  {
   "cell_type": "code",
   "execution_count": 31,
   "id": "4aa2a56b-3d6a-4109-ac1c-85cb2486acf9",
   "metadata": {},
   "outputs": [],
   "source": [
    "#fasttextでvec作成"
   ]
  },
  {
   "cell_type": "code",
   "execution_count": 10,
   "id": "1ab1ec4b-d25f-4a36-b83a-3339b3073294",
   "metadata": {},
   "outputs": [
    {
     "name": "stderr",
     "output_type": "stream",
     "text": [
      "Warning : `load_model` does not return WordVectorModel or SupervisedModel any more, but a `FastText` object which is very similar.\n"
     ]
    }
   ],
   "source": [
    "import fasttext \n",
    "import fasttext.util\n",
    "ft = fasttext.load_model('fasttext_model/fasttext_meishi_model.bin')"
   ]
  },
  {
   "cell_type": "code",
   "execution_count": 57,
   "id": "4759c7c3",
   "metadata": {},
   "outputs": [],
   "source": [
    "#L1ノルムver\n",
    "#\n",
    "#\n",
    "def FT_vec(docs):\n",
    "    \n",
    "    doc_vecs=[]\n",
    "    for doc in docs:\n",
    "        word_vecs=[]\n",
    "        for word in wakati(doc):\n",
    "            \n",
    "            try:\n",
    "                word_vecs.append(ft[word])\n",
    "            except KeyError  :   \n",
    "                word_vecs.append(np.zeros(300,  dtype = float))\n",
    "       \n",
    "        doc_vec=np.array(word_vecs).mean(axis=0)\n",
    "        doc_vecs.append(doc_vec)\n",
    "    return(np.array(doc_vecs))"
   ]
  },
  {
   "cell_type": "code",
   "execution_count": 58,
   "id": "71fda837-4172-4770-9bdb-cfe3e144aee8",
   "metadata": {},
   "outputs": [
    {
     "name": "stdout",
     "output_type": "stream",
     "text": [
      "21154\n"
     ]
    },
    {
     "data": {
      "text/html": [
       "<div>\n",
       "<style scoped>\n",
       "    .dataframe tbody tr th:only-of-type {\n",
       "        vertical-align: middle;\n",
       "    }\n",
       "\n",
       "    .dataframe tbody tr th {\n",
       "        vertical-align: top;\n",
       "    }\n",
       "\n",
       "    .dataframe thead th {\n",
       "        text-align: right;\n",
       "    }\n",
       "</style>\n",
       "<table border=\"1\" class=\"dataframe\">\n",
       "  <thead>\n",
       "    <tr style=\"text-align: right;\">\n",
       "      <th></th>\n",
       "      <th>position</th>\n",
       "      <th>diagnosis</th>\n",
       "      <th>purpose</th>\n",
       "      <th>position_words</th>\n",
       "      <th>diagnosis_words</th>\n",
       "      <th>wakachi</th>\n",
       "      <th>meishi2</th>\n",
       "      <th>fast_model</th>\n",
       "    </tr>\n",
       "  </thead>\n",
       "  <tbody>\n",
       "    <tr>\n",
       "      <th>0</th>\n",
       "      <td>頭部(脳)</td>\n",
       "      <td>右椎骨動脈閉塞症</td>\n",
       "      <td>Wallenberg synd疑いで加療中の方｡本 日未明より呼びかけ･痛み刺激に反応なく､...</td>\n",
       "      <td>頭部 脳</td>\n",
       "      <td>椎骨 動脈 閉塞 症</td>\n",
       "      <td>Wallenberg synd 疑い で 加療 中 の 方 本 日 未明 より 呼びかけ ･...</td>\n",
       "      <td>疑い 加療 中 方 本 日 未明 呼びかける 痛み 刺激 反応 昏睡 状態 脳 梗塞 評価</td>\n",
       "      <td>頭部 脳 椎骨 動脈 閉塞 症 wallenberg synd 疑い で 加療 中 の 方 ...</td>\n",
       "    </tr>\n",
       "    <tr>\n",
       "      <th>1</th>\n",
       "      <td>頭部(脳)</td>\n",
       "      <td>小脳梗塞の疑い</td>\n",
       "      <td>繰り返すふらつきを主訴に来院｡小脳梗塞除外目的です｡</td>\n",
       "      <td>頭部 脳</td>\n",
       "      <td>小脳 梗塞 の 疑い</td>\n",
       "      <td>繰り返す ふらつき を 主訴 に 来院 小脳 梗塞 除外 目的 です</td>\n",
       "      <td>繰り返す ふらつく 来院 小脳 梗塞 除外 目的</td>\n",
       "      <td>頭部 脳 小脳 梗塞 の 疑い 繰り返す ふらつき を 主訴 に 来院 小脳 梗塞 除外 目...</td>\n",
       "    </tr>\n",
       "    <tr>\n",
       "      <th>2</th>\n",
       "      <td>頭部(委任)</td>\n",
       "      <td>良性発作性めまいの疑い</td>\n",
       "      <td>めまいで来院､末梢性めまいの診断で帰宅としましたが､症状持続と歩行困難感あり､頭蓋内疾患除外...</td>\n",
       "      <td>頭部</td>\n",
       "      <td>良性 発作 性 めまい の 疑い</td>\n",
       "      <td>めまい で 来院 ､ 末梢 性 めまい の 診断 で 帰宅 と し まし た が ､ 症状 ...</td>\n",
       "      <td>めまい 来院 末梢 性 めまい 診断 帰宅 する 症状 持続 歩行 困難 感 ある 頭蓋 内...</td>\n",
       "      <td>頭部 良性 発作 性 めまい の 疑い めまい で 来院 ､ 末梢 性 めまい の 診断 で...</td>\n",
       "    </tr>\n",
       "    <tr>\n",
       "      <th>3</th>\n",
       "      <td>頭部(委任)</td>\n",
       "      <td>ﾏﾙﾌｧﾝ症候群</td>\n",
       "      <td>Malfan症候群 2/4 手術予定 術前脳動脈瘤精査</td>\n",
       "      <td>頭部</td>\n",
       "      <td>ﾏﾙﾌｧﾝ 症候 群</td>\n",
       "      <td>Malfan 症候 群 手術 予定 術前 脳 動脈 瘤 精査</td>\n",
       "      <td>症候群 手術 予定 術 脳 動脈 瘤 精査</td>\n",
       "      <td>頭部 ﾏﾙﾌｧﾝ 症候 群 malfan 症候 群 手術 予定 術前 脳 動脈 瘤 精査</td>\n",
       "    </tr>\n",
       "    <tr>\n",
       "      <th>4</th>\n",
       "      <td>MRA脳</td>\n",
       "      <td>視神経炎の疑い</td>\n",
       "      <td>約1週間前より左眼痛を認め､2/1救急受診:同日は 眼科診察･頭部CTともに特記すべき異常な...</td>\n",
       "      <td>MRA 脳</td>\n",
       "      <td>視 神経 炎 の 疑い</td>\n",
       "      <td>約 週間 前 より 眼痛 を 認め ､ 救急 受診 同日 は 眼科 診察 ･ 頭部 CT と...</td>\n",
       "      <td>週間 前 眼 痛 認める 救急 受診 同日 眼科 診察 頭部 とも 特記 する 異常 症状 ...</td>\n",
       "      <td>mra 脳 視 神経 炎 の 疑い 約 週間 前 より 眼痛 を 認め ､ 救急 受診 同日...</td>\n",
       "    </tr>\n",
       "  </tbody>\n",
       "</table>\n",
       "</div>"
      ],
      "text/plain": [
       "  position    diagnosis                                            purpose  \\\n",
       "0    頭部(脳)     右椎骨動脈閉塞症  Wallenberg synd疑いで加療中の方｡本 日未明より呼びかけ･痛み刺激に反応なく､...   \n",
       "1    頭部(脳)      小脳梗塞の疑い                         繰り返すふらつきを主訴に来院｡小脳梗塞除外目的です｡   \n",
       "2   頭部(委任)  良性発作性めまいの疑い  めまいで来院､末梢性めまいの診断で帰宅としましたが､症状持続と歩行困難感あり､頭蓋内疾患除外...   \n",
       "3   頭部(委任)     ﾏﾙﾌｧﾝ症候群                        Malfan症候群 2/4 手術予定 術前脳動脈瘤精査   \n",
       "4     MRA脳      視神経炎の疑い  約1週間前より左眼痛を認め､2/1救急受診:同日は 眼科診察･頭部CTともに特記すべき異常な...   \n",
       "\n",
       "  position_words   diagnosis_words  \\\n",
       "0           頭部 脳        椎骨 動脈 閉塞 症   \n",
       "1           頭部 脳        小脳 梗塞 の 疑い   \n",
       "2             頭部  良性 発作 性 めまい の 疑い   \n",
       "3             頭部        ﾏﾙﾌｧﾝ 症候 群   \n",
       "4          MRA 脳       視 神経 炎 の 疑い   \n",
       "\n",
       "                                             wakachi  \\\n",
       "0  Wallenberg synd 疑い で 加療 中 の 方 本 日 未明 より 呼びかけ ･...   \n",
       "1                 繰り返す ふらつき を 主訴 に 来院 小脳 梗塞 除外 目的 です   \n",
       "2  めまい で 来院 ､ 末梢 性 めまい の 診断 で 帰宅 と し まし た が ､ 症状 ...   \n",
       "3                     Malfan 症候 群 手術 予定 術前 脳 動脈 瘤 精査   \n",
       "4  約 週間 前 より 眼痛 を 認め ､ 救急 受診 同日 は 眼科 診察 ･ 頭部 CT と...   \n",
       "\n",
       "                                             meishi2  \\\n",
       "0      疑い 加療 中 方 本 日 未明 呼びかける 痛み 刺激 反応 昏睡 状態 脳 梗塞 評価   \n",
       "1                           繰り返す ふらつく 来院 小脳 梗塞 除外 目的   \n",
       "2  めまい 来院 末梢 性 めまい 診断 帰宅 する 症状 持続 歩行 困難 感 ある 頭蓋 内...   \n",
       "3                              症候群 手術 予定 術 脳 動脈 瘤 精査   \n",
       "4  週間 前 眼 痛 認める 救急 受診 同日 眼科 診察 頭部 とも 特記 する 異常 症状 ...   \n",
       "\n",
       "                                          fast_model  \n",
       "0  頭部 脳 椎骨 動脈 閉塞 症 wallenberg synd 疑い で 加療 中 の 方 ...  \n",
       "1  頭部 脳 小脳 梗塞 の 疑い 繰り返す ふらつき を 主訴 に 来院 小脳 梗塞 除外 目...  \n",
       "2  頭部 良性 発作 性 めまい の 疑い めまい で 来院 ､ 末梢 性 めまい の 診断 で...  \n",
       "3       頭部 ﾏﾙﾌｧﾝ 症候 群 malfan 症候 群 手術 予定 術前 脳 動脈 瘤 精査  \n",
       "4  mra 脳 視 神経 炎 の 疑い 約 週間 前 より 眼痛 を 認め ､ 救急 受診 同日...  "
      ]
     },
     "execution_count": 58,
     "metadata": {},
     "output_type": "execute_result"
    }
   ],
   "source": [
    "import pandas as pd\n",
    "df=pd.read_csv('str_train_2years(full)')  \n",
    "\n",
    "docs=df['purpose']#nama\n",
    "docs=docs.str.lower()#小文字にしておく\n",
    "\n",
    "wordenb = df['fast_model']\n",
    "\n",
    "print(len(df))\n",
    "df.head()"
   ]
  },
  {
   "cell_type": "raw",
   "id": "5422c457-83b9-4087-bedf-0afd8578fe18",
   "metadata": {},
   "source": [
    "docs[13970:13980]"
   ]
  },
  {
   "cell_type": "raw",
   "id": "5fb063d7-33ae-4063-bbb8-bd6d65141d64",
   "metadata": {},
   "source": [
    "ftvecs = FT_vec(docs.iloc[13970:13980])\n",
    "ftvecs.shape"
   ]
  },
  {
   "cell_type": "code",
   "execution_count": 59,
   "id": "f61a8d27-4551-40bf-88b6-78417890a959",
   "metadata": {},
   "outputs": [
    {
     "name": "stdout",
     "output_type": "stream",
     "text": [
      "21154\n",
      "21154\n"
     ]
    }
   ],
   "source": [
    "#fasttextでベクトル作成して保存\n",
    "ftvecs = FT_vec(docs)\n",
    "print(len(ftvecs))\n",
    "np.save('FTvec.npy', ftvecs)\n",
    "\n",
    "print(len(docs))\n",
    "np.save('FTstr.npy', docs)"
   ]
  },
  {
   "cell_type": "code",
   "execution_count": 216,
   "id": "b5bacf73-dc87-436b-89f4-ffa267377022",
   "metadata": {},
   "outputs": [
    {
     "name": "stderr",
     "output_type": "stream",
     "text": [
      "The tokenizer class you load from this checkpoint is not the same type as the class this function is called from. It may result in unexpected tokenization. \n",
      "The tokenizer class you load from this checkpoint is 'BertTokenizer'. \n",
      "The class this function is called from is 'BertJapaneseTokenizer'.\n"
     ]
    }
   ],
   "source": [
    "#MODEL_NAME = \"BERT_model/strf_cl-tohoku_bert-base-japanese-whole-word-masking32.75.10\"\n",
    "#MODEL_NAME = \"BERT_model/strf_sonoisa_sentence-bert-base-ja-mean-tokens-v232.75.10\"\n",
    "#MODEL_NAME = \"BERT_model/UTH_BERT_BASE_512_MC_BPE_WWM_V25000_352K\"\n",
    "MODEL_NAME = 'sonoisa/sentence-bert-base-ja-mean-tokens'\n",
    "\n",
    "\n",
    "model = SentenceBertJapanese(MODEL_NAME)\n",
    "def SB_vec(docs):\n",
    "    sBERT = model.encode(docs)\n",
    "    sBERT_vecs=np.array(sBERT)\n",
    "    return (sBERT_vecs)"
   ]
  },
  {
   "cell_type": "code",
   "execution_count": 20,
   "id": "caad8e36-aed9-4449-9ff2-d1b174b88706",
   "metadata": {},
   "outputs": [],
   "source": [
    "#sBERTでモデル作成して保存\n",
    "from transformers import BertJapaneseTokenizer, BertModel\n",
    "import torch\n",
    "\n",
    "class SentenceBertJapanese:\n",
    "    def __init__(self, model_name_or_path, device=None):\n",
    "        self.tokenizer = BertJapaneseTokenizer.from_pretrained(model_name_or_path)\n",
    "        self.model = BertModel.from_pretrained(model_name_or_path)\n",
    "        self.model.eval()\n",
    "\n",
    "        if device is None:\n",
    "            device = \"cuda\" if torch.cuda.is_available() else \"cpu\"\n",
    "        self.device = torch.device(device)\n",
    "        self.model.to(device)\n",
    "\n",
    "    def _mean_pooling(self, model_output, attention_mask):\n",
    "        token_embeddings = model_output[0] #First element of model_output contains all token embeddings\n",
    "        input_mask_expanded = attention_mask.unsqueeze(-1).expand(token_embeddings.size()).float()\n",
    "        return torch.sum(token_embeddings * input_mask_expanded, 1) / torch.clamp(input_mask_expanded.sum(1), min=1e-9)\n",
    "\n",
    "    @torch.no_grad()\n",
    "    def encode(self, sentences, batch_size=8):\n",
    "        all_embeddings = []\n",
    "        iterator = range(0, len(sentences), batch_size)\n",
    "        for batch_idx in iterator:\n",
    "            batch = sentences[batch_idx:batch_idx + batch_size]\n",
    "\n",
    "            encoded_input = self.tokenizer.batch_encode_plus(batch, padding=\"longest\", \n",
    "                                           truncation=True, return_tensors=\"pt\").to(self.device)\n",
    "            model_output = self.model(**encoded_input)\n",
    "            sentence_embeddings = self._mean_pooling(model_output, encoded_input[\"attention_mask\"]).to('cpu')\n",
    "\n",
    "            all_embeddings.extend(sentence_embeddings)\n",
    "\n",
    "        # return torch.stack(all_embeddings).numpy()\n",
    "        return torch.stack(all_embeddings)\n"
   ]
  },
  {
   "cell_type": "code",
   "execution_count": 207,
   "id": "4788d8c0-4fc2-4e31-bfab-f107885985d1",
   "metadata": {},
   "outputs": [
    {
     "name": "stdout",
     "output_type": "stream",
     "text": [
      "21154\n",
      "21154\n"
     ]
    }
   ],
   "source": [
    "sbvecs = SB_vec(docs)\n",
    "print(len(sbvecs))\n",
    "np.save('sbvec.npy', sbvecs)\n",
    "print(len(docs))\n",
    "np.save('sbstr.npy', docs)"
   ]
  },
  {
   "cell_type": "code",
   "execution_count": null,
   "id": "a30f467c-4808-41fa-bed7-8ab792921e82",
   "metadata": {},
   "outputs": [],
   "source": []
  },
  {
   "cell_type": "code",
   "execution_count": null,
   "id": "f97c019d-0fc0-432c-994c-d08e5ca812b7",
   "metadata": {},
   "outputs": [],
   "source": []
  },
  {
   "cell_type": "code",
   "execution_count": null,
   "id": "8d47c344-f3f9-4a6c-aac4-b26829bfcde4",
   "metadata": {},
   "outputs": [],
   "source": []
  },
  {
   "cell_type": "raw",
   "id": "230a6ba1-a569-4c67-86d6-c40bdab12684",
   "metadata": {},
   "source": [
    "\n",
    "#ｓBERTの学習データ作成\n"
   ]
  },
  {
   "cell_type": "code",
   "execution_count": 61,
   "id": "4fa1ba11-c93a-4215-bcdf-203d67ad3b31",
   "metadata": {},
   "outputs": [],
   "source": [
    "FT_vec=np.load('vec&str/FTvec.npy')\n",
    "FT_str=np.load('vec&str/FTstr.npy', allow_pickle=True)"
   ]
  },
  {
   "cell_type": "code",
   "execution_count": 22,
   "id": "e0ef1059",
   "metadata": {},
   "outputs": [],
   "source": [
    "def Vec_eval(docs, vecs, file):\n",
    "    queries = docs\n",
    "    query_embeddings = vecs\n",
    "    positive = []\n",
    "    negative = []\n",
    "    all_query = []\n",
    "    negtive_range_l=len(queries)-3000\n",
    "    negtive_range_u=len(queries)-2999\n",
    "    negtive_range_l2=negtive_range_l-5000\n",
    "    negtive_range_u2=negtive_range_u-5000\n",
    "    \n",
    "    \n",
    "    \n",
    "    for query, query_embedding in zip(queries, query_embeddings):\n",
    "        distances = spatial.distance.cdist([query_embedding], query_embeddings, metric=\"cosine\")[0]\n",
    "        results = zip(range(len(distances)), distances)\n",
    "        results = sorted(results, key=lambda x: x[1])\n",
    "        #通常\n",
    "        all_query.append(query)\n",
    "        for idx, distance in results[1:2]:\n",
    "            a=queries[idx].strip()\n",
    "            positive.append(a)\n",
    "        for idx, distance in results[ negtive_range_l: negtive_range_u]:\n",
    "            b=queries[idx].strip()\n",
    "            negative.append(b)\n",
    "        #逆 \n",
    "        positive.append(query)\n",
    "        for idx, distance in results[1:2]:\n",
    "            a=queries[idx].strip()\n",
    "            all_query.append(a)\n",
    "        for idx, distance in results[ negtive_range_l2: negtive_range_u2]:\n",
    "            b=queries[idx].strip()\n",
    "            negative.append(b)\n",
    "            \n",
    "         #通常２\n",
    "        all_query.append(query)\n",
    "        for idx, distance in results[2:3]:\n",
    "            a=queries[idx].strip()\n",
    "            positive.append(a)\n",
    "        for idx, distance in results[ negtive_range_l+500: negtive_range_u+500]:\n",
    "            b=queries[idx].strip()\n",
    "            negative.append(b)\n",
    "        #逆２\n",
    "        positive.append(query)\n",
    "        for idx, distance in results[2:3]:\n",
    "            a=queries[idx].strip()\n",
    "            all_query.append(a)\n",
    "        for idx, distance in results[ negtive_range_l2+500: negtive_range_u2+500]:\n",
    "            b=queries[idx].strip()\n",
    "            negative.append(b)\n",
    "            \n",
    "        \n",
    "            \n",
    "    print(negtive_range_u, negtive_range_l)\n",
    "    print(len(all_query))\n",
    "    print(len(positive))\n",
    "    print(len(negative))\n",
    "    \n",
    "    \n",
    "    \n",
    "    df_result=pd.DataFrame(all_query)\n",
    "    df_result = df_result.rename(columns={0: 'ancer'})\n",
    "    \n",
    "    df_result['positive']=pd.DataFrame(positive)\n",
    "    df_result['negative']=pd.DataFrame(negative)\n",
    "    \n",
    "    #df = df_result[df_result['positive']!=df_result['ancer']]\n",
    "    df=df_result\n",
    "    print(len(df))\n",
    "    df.to_csv(file, index=False, encoding='cp932')\n",
    "    \n",
    "    return df"
   ]
  },
  {
   "cell_type": "raw",
   "id": "28d2ed58-b05d-40e8-8be0-57c4dd7c2f15",
   "metadata": {},
   "source": [
    "#類似度でつくったデータの出力\n",
    "df_cosine=Vec_eval(docs[:3000], ftvecs[:3000], 'train_sbert_small')"
   ]
  },
  {
   "cell_type": "code",
   "execution_count": 23,
   "id": "cc2d1b77-ae55-4598-b729-6d862bf5900f",
   "metadata": {},
   "outputs": [
    {
     "name": "stdout",
     "output_type": "stream",
     "text": [
      "18729 18728\n",
      "86912\n",
      "86912\n",
      "86912\n",
      "86912\n"
     ]
    }
   ],
   "source": [
    "#類似度でつくったデータの出力\n",
    "df_cosine=Vec_eval(docs, ftvecs, 'train_sbert.csv')"
   ]
  },
  {
   "cell_type": "code",
   "execution_count": 26,
   "id": "f195b30e-115b-4ee2-860a-2a1d495439ab",
   "metadata": {},
   "outputs": [
    {
     "name": "stdout",
     "output_type": "stream",
     "text": [
      "86912\n",
      "['ancer', 'positive', 'negative']\n"
     ]
    }
   ],
   "source": [
    "df=pd.read_csv('train_sbert.csv', encoding='cp932') \n",
    "print(len(df))\n",
    "print(df.columns.values.tolist())"
   ]
  },
  {
   "cell_type": "code",
   "execution_count": 27,
   "id": "9ee85752-d322-4c1f-91e7-8968eb22344b",
   "metadata": {},
   "outputs": [
    {
     "data": {
      "text/html": [
       "<div>\n",
       "<style scoped>\n",
       "    .dataframe tbody tr th:only-of-type {\n",
       "        vertical-align: middle;\n",
       "    }\n",
       "\n",
       "    .dataframe tbody tr th {\n",
       "        vertical-align: top;\n",
       "    }\n",
       "\n",
       "    .dataframe thead th {\n",
       "        text-align: right;\n",
       "    }\n",
       "</style>\n",
       "<table border=\"1\" class=\"dataframe\">\n",
       "  <thead>\n",
       "    <tr style=\"text-align: right;\">\n",
       "      <th></th>\n",
       "      <th>ancer</th>\n",
       "      <th>positive</th>\n",
       "      <th>negative</th>\n",
       "    </tr>\n",
       "  </thead>\n",
       "  <tbody>\n",
       "    <tr>\n",
       "      <th>0</th>\n",
       "      <td>wallenberg synd疑いで加療中の方｡本 日未明より呼びかけ･痛み刺激に反応なく､...</td>\n",
       "      <td>上記ﾌｫﾛｰ｡右内眼角部の腫瘤など､再発や増大有無確認｡右後頭部から後頸部の移行部に痛みもあ...</td>\n",
       "      <td>術後follow up</td>\n",
       "    </tr>\n",
       "    <tr>\n",
       "      <th>1</th>\n",
       "      <td>上記ﾌｫﾛｰ｡右内眼角部の腫瘤など､再発や増大有無確認｡右後頭部から後頸部の移行部に痛みもあ...</td>\n",
       "      <td>wallenberg synd疑いで加療中の方｡本 日未明より呼びかけ･痛み刺激に反応なく､...</td>\n",
       "      <td>神経圧迫病変の有無について精査目的です</td>\n",
       "    </tr>\n",
       "    <tr>\n",
       "      <th>2</th>\n",
       "      <td>wallenberg synd疑いで加療中の方｡本 日未明より呼びかけ･痛み刺激に反応なく､...</td>\n",
       "      <td>上記ﾌｫﾛｰ｡右内眼角部の腫瘤など､再発や増大有無確認｡右後頭部から後頸部の移行部に痛みもあ...</td>\n",
       "      <td>2次性過眠症の除外のため</td>\n",
       "    </tr>\n",
       "    <tr>\n",
       "      <th>3</th>\n",
       "      <td>上記ﾌｫﾛｰ｡右内眼角部の腫瘤など､再発や増大有無確認｡右後頭部から後頸部の移行部に痛みもあ...</td>\n",
       "      <td>wallenberg synd疑いで加療中の方｡本 日未明より呼びかけ･痛み刺激に反応なく､...</td>\n",
       "      <td>右膝打撲後､右膝内側の痛みが継続 以前半月板切除術既往あり</td>\n",
       "    </tr>\n",
       "    <tr>\n",
       "      <th>4</th>\n",
       "      <td>繰り返すふらつきを主訴に来院｡小脳梗塞除外目的です｡</td>\n",
       "      <td>後頚部痛+嘔気で来院された患者様です｡昨日は浮動性の眩暈も認めていたようです｡来院時は神経学...</td>\n",
       "      <td>術後経過観察</td>\n",
       "    </tr>\n",
       "    <tr>\n",
       "      <th>5</th>\n",
       "      <td>後頚部痛+嘔気で来院された患者様です｡昨日は浮動性の眩暈も認めていたようです｡来院時は神経学...</td>\n",
       "      <td>繰り返すふらつきを主訴に来院｡小脳梗塞除外目的です｡</td>\n",
       "      <td>前回との比較お願いします｡</td>\n",
       "    </tr>\n",
       "    <tr>\n",
       "      <th>6</th>\n",
       "      <td>繰り返すふらつきを主訴に来院｡小脳梗塞除外目的です｡</td>\n",
       "      <td>逆行性胆管炎で入院中 入院時に強いめまいやふらつきあり 脳梗塞や脳転移除外目的です</td>\n",
       "      <td>術後翌日 routine+ce&amp;fiesta volumeお 願いします</td>\n",
       "    </tr>\n",
       "    <tr>\n",
       "      <th>7</th>\n",
       "      <td>逆行性胆管炎で入院中 入院時に強いめまいやふらつきあり 脳梗塞や脳転移除外目的です</td>\n",
       "      <td>繰り返すふらつきを主訴に来院｡小脳梗塞除外目的です｡</td>\n",
       "      <td>c型肝炎ｳｲﾙｽ排除後｡精査目的です｡</td>\n",
       "    </tr>\n",
       "    <tr>\n",
       "      <th>8</th>\n",
       "      <td>めまいで来院､末梢性めまいの診断で帰宅としましたが､症状持続と歩行困難感あり､頭蓋内疾患除外...</td>\n",
       "      <td>昨日の1時発症のめまい｡水平眼振あり｡初めてのめまい｡頭蓋内病変精査目的です｡ ct施行で問...</td>\n",
       "      <td>ｸﾘｯﾌﾟ後 t1 t2 flair dwi t2* mra v rも</td>\n",
       "    </tr>\n",
       "    <tr>\n",
       "      <th>9</th>\n",
       "      <td>昨日の1時発症のめまい｡水平眼振あり｡初めてのめまい｡頭蓋内病変精査目的です｡ ct施行で問...</td>\n",
       "      <td>めまいで来院､末梢性めまいの診断で帰宅としましたが､症状持続と歩行困難感あり､頭蓋内疾患除外...</td>\n",
       "      <td>l2/3化膿性脊椎炎です｡ ﾌｫﾛｰ目的です｡</td>\n",
       "    </tr>\n",
       "    <tr>\n",
       "      <th>10</th>\n",
       "      <td>めまいで来院､末梢性めまいの診断で帰宅としましたが､症状持続と歩行困難感あり､頭蓋内疾患除外...</td>\n",
       "      <td>7/8にめまいで救急科入院､一旦軽快するも7/12 にめまい再燃｡頭位変換時に増悪し､bpp...</td>\n",
       "      <td>術後経過観察</td>\n",
       "    </tr>\n",
       "    <tr>\n",
       "      <th>11</th>\n",
       "      <td>7/8にめまいで救急科入院､一旦軽快するも7/12 にめまい再燃｡頭位変換時に増悪し､bpp...</td>\n",
       "      <td>めまいで来院､末梢性めまいの診断で帰宅としましたが､症状持続と歩行困難感あり､頭蓋内疾患除外...</td>\n",
       "      <td>嚢胞性病変 定期ﾌｫﾛｰです｡</td>\n",
       "    </tr>\n",
       "    <tr>\n",
       "      <th>12</th>\n",
       "      <td>malfan症候群 2/4 手術予定 術前脳動脈瘤精査</td>\n",
       "      <td>marfan症候群 解離性動脈瘤で複数回手術 今回は部大動脈瘤術後で拍動性頭痛あり 解離性脳...</td>\n",
       "      <td>右頸部~上肢痛あり 脊柱管狭窄症などありませんでしょうか</td>\n",
       "    </tr>\n",
       "    <tr>\n",
       "      <th>13</th>\n",
       "      <td>marfan症候群 解離性動脈瘤で複数回手術 今回は部大動脈瘤術後で拍動性頭痛あり 解離性脳...</td>\n",
       "      <td>malfan症候群 2/4 手術予定 術前脳動脈瘤精査</td>\n",
       "      <td>転倒後､右臀部､そけい部の疼痛｡股関節骨折･骨盤骨折など精査目的です｡骨盤から股関節にかけて...</td>\n",
       "    </tr>\n",
       "    <tr>\n",
       "      <th>14</th>\n",
       "      <td>malfan症候群 2/4 手術予定 術前脳動脈瘤精査</td>\n",
       "      <td>2/10発症左椎骨動脈解離による脳塞栓の患者｡ 大動脈弓部から頸部動脈のplaque ima...</td>\n",
       "      <td>ｴｺｰで総胆管結石の疑いあり</td>\n",
       "    </tr>\n",
       "    <tr>\n",
       "      <th>15</th>\n",
       "      <td>2/10発症左椎骨動脈解離による脳塞栓の患者｡ 大動脈弓部から頸部動脈のplaque ima...</td>\n",
       "      <td>malfan症候群 2/4 手術予定 術前脳動脈瘤精査</td>\n",
       "      <td>術後follow  撮影後診察</td>\n",
       "    </tr>\n",
       "    <tr>\n",
       "      <th>16</th>\n",
       "      <td>約1週間前より左眼痛を認め､2/1救急受診:同日は 眼科診察･頭部ctともに特記すべき異常な...</td>\n",
       "      <td>2019年11月に左眼の鼻性視神経症の既往がありま す｡その時は耳鼻科手術で改善しました｡ ...</td>\n",
       "      <td>無症候性脳虚血発作</td>\n",
       "    </tr>\n",
       "    <tr>\n",
       "      <th>17</th>\n",
       "      <td>2019年11月に左眼の鼻性視神経症の既往がありま す｡その時は耳鼻科手術で改善しました｡ ...</td>\n",
       "      <td>約1週間前より左眼痛を認め､2/1救急受診:同日は 眼科診察･頭部ctともに特記すべき異常な...</td>\n",
       "      <td>膀胱癌術後｡ctでs4にsol､肝血管腫疑いですが r/o転移｡</td>\n",
       "    </tr>\n",
       "    <tr>\n",
       "      <th>18</th>\n",
       "      <td>約1週間前より左眼痛を認め､2/1救急受診:同日は 眼科診察･頭部ctともに特記すべき異常な...</td>\n",
       "      <td>陳旧性脳出血･虚血性心疾患にて当院定期通院中の患者様です｡昨日18時30分頃より左半身の異常...</td>\n",
       "      <td>左手の違和感</td>\n",
       "    </tr>\n",
       "    <tr>\n",
       "      <th>19</th>\n",
       "      <td>陳旧性脳出血･虚血性心疾患にて当院定期通院中の患者様です｡昨日18時30分頃より左半身の異常...</td>\n",
       "      <td>約1週間前より左眼痛を認め､2/1救急受診:同日は 眼科診察･頭部ctともに特記すべき異常な...</td>\n",
       "      <td>prlの軽度上昇と下垂体の拡大あり follow</td>\n",
       "    </tr>\n",
       "  </tbody>\n",
       "</table>\n",
       "</div>"
      ],
      "text/plain": [
       "                                                ancer  \\\n",
       "0   wallenberg synd疑いで加療中の方｡本 日未明より呼びかけ･痛み刺激に反応なく､...   \n",
       "1   上記ﾌｫﾛｰ｡右内眼角部の腫瘤など､再発や増大有無確認｡右後頭部から後頸部の移行部に痛みもあ...   \n",
       "2   wallenberg synd疑いで加療中の方｡本 日未明より呼びかけ･痛み刺激に反応なく､...   \n",
       "3   上記ﾌｫﾛｰ｡右内眼角部の腫瘤など､再発や増大有無確認｡右後頭部から後頸部の移行部に痛みもあ...   \n",
       "4                          繰り返すふらつきを主訴に来院｡小脳梗塞除外目的です｡   \n",
       "5   後頚部痛+嘔気で来院された患者様です｡昨日は浮動性の眩暈も認めていたようです｡来院時は神経学...   \n",
       "6                          繰り返すふらつきを主訴に来院｡小脳梗塞除外目的です｡   \n",
       "7           逆行性胆管炎で入院中 入院時に強いめまいやふらつきあり 脳梗塞や脳転移除外目的です   \n",
       "8   めまいで来院､末梢性めまいの診断で帰宅としましたが､症状持続と歩行困難感あり､頭蓋内疾患除外...   \n",
       "9   昨日の1時発症のめまい｡水平眼振あり｡初めてのめまい｡頭蓋内病変精査目的です｡ ct施行で問...   \n",
       "10  めまいで来院､末梢性めまいの診断で帰宅としましたが､症状持続と歩行困難感あり､頭蓋内疾患除外...   \n",
       "11  7/8にめまいで救急科入院､一旦軽快するも7/12 にめまい再燃｡頭位変換時に増悪し､bpp...   \n",
       "12                        malfan症候群 2/4 手術予定 術前脳動脈瘤精査   \n",
       "13  marfan症候群 解離性動脈瘤で複数回手術 今回は部大動脈瘤術後で拍動性頭痛あり 解離性脳...   \n",
       "14                        malfan症候群 2/4 手術予定 術前脳動脈瘤精査   \n",
       "15  2/10発症左椎骨動脈解離による脳塞栓の患者｡ 大動脈弓部から頸部動脈のplaque ima...   \n",
       "16  約1週間前より左眼痛を認め､2/1救急受診:同日は 眼科診察･頭部ctともに特記すべき異常な...   \n",
       "17  2019年11月に左眼の鼻性視神経症の既往がありま す｡その時は耳鼻科手術で改善しました｡ ...   \n",
       "18  約1週間前より左眼痛を認め､2/1救急受診:同日は 眼科診察･頭部ctともに特記すべき異常な...   \n",
       "19  陳旧性脳出血･虚血性心疾患にて当院定期通院中の患者様です｡昨日18時30分頃より左半身の異常...   \n",
       "\n",
       "                                             positive  \\\n",
       "0   上記ﾌｫﾛｰ｡右内眼角部の腫瘤など､再発や増大有無確認｡右後頭部から後頸部の移行部に痛みもあ...   \n",
       "1   wallenberg synd疑いで加療中の方｡本 日未明より呼びかけ･痛み刺激に反応なく､...   \n",
       "2   上記ﾌｫﾛｰ｡右内眼角部の腫瘤など､再発や増大有無確認｡右後頭部から後頸部の移行部に痛みもあ...   \n",
       "3   wallenberg synd疑いで加療中の方｡本 日未明より呼びかけ･痛み刺激に反応なく､...   \n",
       "4   後頚部痛+嘔気で来院された患者様です｡昨日は浮動性の眩暈も認めていたようです｡来院時は神経学...   \n",
       "5                          繰り返すふらつきを主訴に来院｡小脳梗塞除外目的です｡   \n",
       "6           逆行性胆管炎で入院中 入院時に強いめまいやふらつきあり 脳梗塞や脳転移除外目的です   \n",
       "7                          繰り返すふらつきを主訴に来院｡小脳梗塞除外目的です｡   \n",
       "8   昨日の1時発症のめまい｡水平眼振あり｡初めてのめまい｡頭蓋内病変精査目的です｡ ct施行で問...   \n",
       "9   めまいで来院､末梢性めまいの診断で帰宅としましたが､症状持続と歩行困難感あり､頭蓋内疾患除外...   \n",
       "10  7/8にめまいで救急科入院､一旦軽快するも7/12 にめまい再燃｡頭位変換時に増悪し､bpp...   \n",
       "11  めまいで来院､末梢性めまいの診断で帰宅としましたが､症状持続と歩行困難感あり､頭蓋内疾患除外...   \n",
       "12  marfan症候群 解離性動脈瘤で複数回手術 今回は部大動脈瘤術後で拍動性頭痛あり 解離性脳...   \n",
       "13                        malfan症候群 2/4 手術予定 術前脳動脈瘤精査   \n",
       "14  2/10発症左椎骨動脈解離による脳塞栓の患者｡ 大動脈弓部から頸部動脈のplaque ima...   \n",
       "15                        malfan症候群 2/4 手術予定 術前脳動脈瘤精査   \n",
       "16  2019年11月に左眼の鼻性視神経症の既往がありま す｡その時は耳鼻科手術で改善しました｡ ...   \n",
       "17  約1週間前より左眼痛を認め､2/1救急受診:同日は 眼科診察･頭部ctともに特記すべき異常な...   \n",
       "18  陳旧性脳出血･虚血性心疾患にて当院定期通院中の患者様です｡昨日18時30分頃より左半身の異常...   \n",
       "19  約1週間前より左眼痛を認め､2/1救急受診:同日は 眼科診察･頭部ctともに特記すべき異常な...   \n",
       "\n",
       "                                             negative  \n",
       "0                                         術後follow up  \n",
       "1                                 神経圧迫病変の有無について精査目的です  \n",
       "2                                        2次性過眠症の除外のため  \n",
       "3                       右膝打撲後､右膝内側の痛みが継続 以前半月板切除術既往あり  \n",
       "4                                              術後経過観察  \n",
       "5                                       前回との比較お願いします｡  \n",
       "6                術後翌日 routine+ce&fiesta volumeお 願いします  \n",
       "7                                 c型肝炎ｳｲﾙｽ排除後｡精査目的です｡  \n",
       "8                 ｸﾘｯﾌﾟ後 t1 t2 flair dwi t2* mra v rも  \n",
       "9                             l2/3化膿性脊椎炎です｡ ﾌｫﾛｰ目的です｡  \n",
       "10                                             術後経過観察  \n",
       "11                                    嚢胞性病変 定期ﾌｫﾛｰです｡  \n",
       "12                       右頸部~上肢痛あり 脊柱管狭窄症などありませんでしょうか  \n",
       "13  転倒後､右臀部､そけい部の疼痛｡股関節骨折･骨盤骨折など精査目的です｡骨盤から股関節にかけて...  \n",
       "14                                     ｴｺｰで総胆管結石の疑いあり  \n",
       "15                                    術後follow  撮影後診察  \n",
       "16                                          無症候性脳虚血発作  \n",
       "17                   膀胱癌術後｡ctでs4にsol､肝血管腫疑いですが r/o転移｡  \n",
       "18                                             左手の違和感  \n",
       "19                           prlの軽度上昇と下垂体の拡大あり follow  "
      ]
     },
     "execution_count": 27,
     "metadata": {},
     "output_type": "execute_result"
    }
   ],
   "source": [
    "df[:20 ]"
   ]
  },
  {
   "cell_type": "code",
   "execution_count": null,
   "id": "eb40a612-60c1-4cec-8f8e-8e55216b0f12",
   "metadata": {},
   "outputs": [],
   "source": []
  },
  {
   "cell_type": "code",
   "execution_count": null,
   "id": "cc034439-8733-4336-98b9-6c1a40087070",
   "metadata": {},
   "outputs": [],
   "source": []
  },
  {
   "cell_type": "code",
   "execution_count": null,
   "id": "528544e3-9692-47f8-bbb1-71b3edde5520",
   "metadata": {},
   "outputs": [],
   "source": []
  },
  {
   "cell_type": "code",
   "execution_count": null,
   "id": "8b050a00-cb4b-41a0-bdcd-dedfc598f456",
   "metadata": {},
   "outputs": [],
   "source": []
  },
  {
   "cell_type": "code",
   "execution_count": null,
   "id": "feaf6a5f-ab71-4289-acf1-54f9ecfc60d1",
   "metadata": {},
   "outputs": [],
   "source": []
  },
  {
   "cell_type": "code",
   "execution_count": null,
   "id": "78839932-2a84-479a-879a-6aba15987d84",
   "metadata": {},
   "outputs": [],
   "source": []
  },
  {
   "cell_type": "code",
   "execution_count": null,
   "id": "6aba1418-4178-4768-9ac5-fd426d0f77c0",
   "metadata": {},
   "outputs": [],
   "source": []
  },
  {
   "cell_type": "raw",
   "id": "5a1641fe-a6b3-4bd0-9883-7d83bf07f437",
   "metadata": {},
   "source": [
    "## ここからｓBERTの学習\n"
   ]
  },
  {
   "cell_type": "code",
   "execution_count": 5,
   "id": "b3ea1e90-ee7d-458c-8b05-9ade53eca2fc",
   "metadata": {},
   "outputs": [
    {
     "name": "stdout",
     "output_type": "stream",
     "text": [
      "5000\n"
     ]
    }
   ],
   "source": [
    "num = 5000\n",
    "PATH = 'str_data/train_sbert.csv'\n",
    "PATHff = 'str_data/train_sbertM_5003.csv'\n",
    "#honnmei \n",
    "PATHf = 'str_data/train_sbertM_5003second.csv'\n",
    "\n",
    "df=pd.read_csv(PATHf, names=('ancer', 'positive','negative'), encoding='cp932') \n",
    "#df=pd.read_csv(PATH,  encoding='cp932') \n",
    "df = df.replace(' ', '')\n",
    "df['ancer'] = df['ancer'].map(mojimoji.zen_to_han) \n",
    "df['positive'] = df['positive'].map(mojimoji.zen_to_han) \n",
    "df['negative'] = df['negative'].map(mojimoji.zen_to_han) \n",
    "\n",
    "\n",
    "df=df[:num]\n",
    "print(len(df))"
   ]
  },
  {
   "cell_type": "code",
   "execution_count": 6,
   "id": "7876da59-694c-4f39-a683-2c0da181f37c",
   "metadata": {},
   "outputs": [
    {
     "data": {
      "text/plain": [
       "ancer       False\n",
       "positive    False\n",
       "negative    False\n",
       "dtype: bool"
      ]
     },
     "execution_count": 6,
     "metadata": {},
     "output_type": "execute_result"
    }
   ],
   "source": [
    "df.isnull().any(axis=0)"
   ]
  },
  {
   "cell_type": "raw",
   "id": "3ce0e281-dd8b-40e1-81de-749f609b8a3b",
   "metadata": {},
   "source": [
    "df['ancer']=df['ancer'].map(wakati)\n",
    "df['positive']=df['positive'].map(wakati)\n",
    "df['negative']=df['negative'].map(wakati)\n",
    "\n",
    "#df_vectest['wakachi']=df_vectest['purpose'].map(wakati)\n"
   ]
  },
  {
   "cell_type": "code",
   "execution_count": 7,
   "id": "ae11647f-5f3b-4847-9912-a4ee089eed9b",
   "metadata": {},
   "outputs": [],
   "source": [
    "def sepa_train_val(df, rate):\n",
    "    df_s = df.sample(frac=1, random_state=0).reset_index(drop=True)\n",
    "    maxnum = len(df_s)\n",
    "    train_num = math.ceil(maxnum*rate)\n",
    "    df_train = df_s[:train_num]\n",
    "    df_val = df_s[train_num:]\n",
    "    print(f'all_data  {len(df_s)}')\n",
    "    print(f'test_data  {len(df_train)}')\n",
    "    print(f'val_data  {len(df_val)}')\n",
    "    return df_train, df_val"
   ]
  },
  {
   "cell_type": "code",
   "execution_count": 8,
   "id": "dd5c2874-e2a9-4e82-bd92-982606fe6c70",
   "metadata": {},
   "outputs": [],
   "source": [
    "from sentence_transformers import models, losses, datasets\n",
    "from sentence_transformers import LoggingHandler, SentenceTransformer, util, InputExample\n",
    "from sentence_transformers.evaluation import ParaphraseMiningEvaluator\n",
    "import math\n",
    "import logging\n",
    "from datetime import datetime\n",
    "import sys\n",
    "import os\n",
    "import gzip\n",
    "import csv\n",
    "import random\n",
    "\n",
    "logging.basicConfig(format='%(asctime)s - %(message)s',\n",
    "                    datefmt='%Y-%m-%d %H:%M:%S',\n",
    "                    level=logging.INFO,\n",
    "                    handlers=[LoggingHandler()])"
   ]
  },
  {
   "cell_type": "code",
   "execution_count": 9,
   "id": "81454308-8efa-410f-a1b6-6a2d54367a45",
   "metadata": {},
   "outputs": [
    {
     "name": "stdout",
     "output_type": "stream",
     "text": [
      "all_data  5000\n",
      "test_data  4500\n",
      "val_data  500\n"
     ]
    }
   ],
   "source": [
    "df_train, df_val = sepa_train_val(df, 0.9)"
   ]
  },
  {
   "cell_type": "code",
   "execution_count": 10,
   "id": "64d44608-98a7-4293-b182-cf56998505f9",
   "metadata": {},
   "outputs": [
    {
     "data": {
      "text/html": [
       "<div>\n",
       "<style scoped>\n",
       "    .dataframe tbody tr th:only-of-type {\n",
       "        vertical-align: middle;\n",
       "    }\n",
       "\n",
       "    .dataframe tbody tr th {\n",
       "        vertical-align: top;\n",
       "    }\n",
       "\n",
       "    .dataframe thead th {\n",
       "        text-align: right;\n",
       "    }\n",
       "</style>\n",
       "<table border=\"1\" class=\"dataframe\">\n",
       "  <thead>\n",
       "    <tr style=\"text-align: right;\">\n",
       "      <th></th>\n",
       "      <th>ancer</th>\n",
       "      <th>positive</th>\n",
       "      <th>negative</th>\n",
       "    </tr>\n",
       "  </thead>\n",
       "  <tbody>\n",
       "    <tr>\n",
       "      <th>0</th>\n",
       "      <td>10/4に左共同偏視､左上下肢麻痺にて救急搬送｡脳 波では右頭頂葉~後頭葉にかけててんかん重...</td>\n",
       "      <td>10/14発熱､頭痛､15日に意識障害､全身痙攣で 発症して入院｡左後頭葉にdwi/flai...</td>\n",
       "      <td>化学療法･放射線治療中 経過観察 routine+cve&amp;fiesta volume お願いします</td>\n",
       "    </tr>\n",
       "    <tr>\n",
       "      <th>1</th>\n",
       "      <td>2018年4月に左分水嶺領域に散在するｱﾃﾛｰﾑ血 栓性脳梗塞をきたした経緯あり｡今回4月1...</td>\n",
       "      <td>3月28日頃から浮動感あり｡30年前に脳下垂体手術歴あり｡亜急性期虚血性病変はないでしょうか...</td>\n",
       "      <td>多発性肝細胞癌あり｡4/13からﾚﾝﾊﾞﾁﾆﾌﾞ開始 治療効果判定目的</td>\n",
       "    </tr>\n",
       "    <tr>\n",
       "      <th>2</th>\n",
       "      <td>2019年夏から起立性低血圧著明｡ 軽度の失調､rbd等あり｡ msaの可能性に対し評価お願...</td>\n",
       "      <td>ﾊﾟｰｷﾝｿﾝ病治療中も､発症3年半でadlの急激な 低下あり､多系統萎縮症､進行性核上性麻...</td>\n",
       "      <td>難治性の高血圧症の精査をしております｡ 5/30単純ctにて腹腔動脈~右腎動脈の石灰化ある ...</td>\n",
       "    </tr>\n",
       "    <tr>\n",
       "      <th>3</th>\n",
       "      <td>2019年2月に脳転移に対して定位放射線治療後､化 学療法を継続中｡9月に入って腫瘍ﾏｰｶｰ...</td>\n",
       "      <td>定位放射線治療後2回目の評価｡脳転移増大･増加傾向の確認｡</td>\n",
       "      <td>術前評価 routine+ce&amp;fiesta volume､ stealth cd作成お 願...</td>\n",
       "    </tr>\n",
       "    <tr>\n",
       "      <th>4</th>\n",
       "      <td>10年前から右下腿に皮下腫瘍｡次第に増大｡ 神経鞘腫または血管平滑筋腫の疑いです｡ 性状の確...</td>\n",
       "      <td>少し前に気付かれた､左第5指pip内側の15mm大 淡明な皮下腫瘍｡粘液嚢腫など嚢腫性の病変...</td>\n",
       "      <td>膵管拡張､厳重検察中｡</td>\n",
       "    </tr>\n",
       "    <tr>\n",
       "      <th>...</th>\n",
       "      <td>...</td>\n",
       "      <td>...</td>\n",
       "      <td>...</td>\n",
       "    </tr>\n",
       "    <tr>\n",
       "      <th>4495</th>\n",
       "      <td>11/15に意識消失発作 tiaの既往あり 伊藤内科ｸﾘﾆｯｸより精査依頼の紹介 頭蓋内器質...</td>\n",
       "      <td>物忘れで美崎ﾌｧﾐﾘｰｸﾘﾆｯｸより精査依頼の紹介頭蓋内器質病変の除外</td>\n",
       "      <td>術前評価 routine+mra</td>\n",
       "    </tr>\n",
       "    <tr>\n",
       "      <th>4496</th>\n",
       "      <td>2/23発症の右椎骨動脈解離と右延髄外側脳梗塞の患 者さんです｡経過ﾌｫﾛｰ目的です｡dwi...</td>\n",
       "      <td>右aica領域の梗塞もしくは炎症性疾患の疑いの方で す｡ 炎症性疾患としての証拠は乏しく､脳...</td>\n",
       "      <td>定期検査です｡</td>\n",
       "    </tr>\n",
       "    <tr>\n",
       "      <th>4497</th>\n",
       "      <td>10年前に開頭術で摘出術施行</td>\n",
       "      <td>10年前に摘出術施行</td>\n",
       "      <td>pet-ctで胆嚢に集積あり ctで胆嚢腺筋症もしくは胆嚢癌の可能性あり 精査願います</td>\n",
       "    </tr>\n",
       "    <tr>\n",
       "      <th>4498</th>\n",
       "      <td>2015年8月再燃､化学療法再開後終了､follow up study｡前回腫瘤の造影効果増...</td>\n",
       "      <td>follow up study｡</td>\n",
       "      <td>歩行困難あり｡l5分離すべり症あり｡腰部脊柱管狭窄 症など精査目的です｡</td>\n",
       "    </tr>\n",
       "    <tr>\n",
       "      <th>4499</th>\n",
       "      <td>2018.10月より後頸部から左眼の奥の頭痛が続き ます｡精査のためbpasと出来る範囲で眼...</td>\n",
       "      <td>右眼眼球運動障害､眼球突出の方です｡ 眼窩内腫瘍､甲状腺眼症､眼窩特発性炎症などを疑っています｡</td>\n",
       "      <td>乳癌術後ﾎﾙﾓﾝ療法中｡最近下部腰椎付近に痛みあり｡ﾏｰｶｰ上昇なく症状に変動あり｡左指先の...</td>\n",
       "    </tr>\n",
       "  </tbody>\n",
       "</table>\n",
       "<p>4500 rows × 3 columns</p>\n",
       "</div>"
      ],
      "text/plain": [
       "                                                  ancer  \\\n",
       "0     10/4に左共同偏視､左上下肢麻痺にて救急搬送｡脳 波では右頭頂葉~後頭葉にかけててんかん重...   \n",
       "1     2018年4月に左分水嶺領域に散在するｱﾃﾛｰﾑ血 栓性脳梗塞をきたした経緯あり｡今回4月1...   \n",
       "2     2019年夏から起立性低血圧著明｡ 軽度の失調､rbd等あり｡ msaの可能性に対し評価お願...   \n",
       "3     2019年2月に脳転移に対して定位放射線治療後､化 学療法を継続中｡9月に入って腫瘍ﾏｰｶｰ...   \n",
       "4     10年前から右下腿に皮下腫瘍｡次第に増大｡ 神経鞘腫または血管平滑筋腫の疑いです｡ 性状の確...   \n",
       "...                                                 ...   \n",
       "4495  11/15に意識消失発作 tiaの既往あり 伊藤内科ｸﾘﾆｯｸより精査依頼の紹介 頭蓋内器質...   \n",
       "4496  2/23発症の右椎骨動脈解離と右延髄外側脳梗塞の患 者さんです｡経過ﾌｫﾛｰ目的です｡dwi...   \n",
       "4497                                     10年前に開頭術で摘出術施行   \n",
       "4498  2015年8月再燃､化学療法再開後終了､follow up study｡前回腫瘤の造影効果増...   \n",
       "4499  2018.10月より後頸部から左眼の奥の頭痛が続き ます｡精査のためbpasと出来る範囲で眼...   \n",
       "\n",
       "                                               positive  \\\n",
       "0     10/14発熱､頭痛､15日に意識障害､全身痙攣で 発症して入院｡左後頭葉にdwi/flai...   \n",
       "1     3月28日頃から浮動感あり｡30年前に脳下垂体手術歴あり｡亜急性期虚血性病変はないでしょうか...   \n",
       "2     ﾊﾟｰｷﾝｿﾝ病治療中も､発症3年半でadlの急激な 低下あり､多系統萎縮症､進行性核上性麻...   \n",
       "3                         定位放射線治療後2回目の評価｡脳転移増大･増加傾向の確認｡   \n",
       "4     少し前に気付かれた､左第5指pip内側の15mm大 淡明な皮下腫瘍｡粘液嚢腫など嚢腫性の病変...   \n",
       "...                                                 ...   \n",
       "4495                物忘れで美崎ﾌｧﾐﾘｰｸﾘﾆｯｸより精査依頼の紹介頭蓋内器質病変の除外   \n",
       "4496  右aica領域の梗塞もしくは炎症性疾患の疑いの方で す｡ 炎症性疾患としての証拠は乏しく､脳...   \n",
       "4497                                         10年前に摘出術施行   \n",
       "4498                                   follow up study｡   \n",
       "4499   右眼眼球運動障害､眼球突出の方です｡ 眼窩内腫瘍､甲状腺眼症､眼窩特発性炎症などを疑っています｡   \n",
       "\n",
       "                                               negative  \n",
       "0     化学療法･放射線治療中 経過観察 routine+cve&fiesta volume お願いします  \n",
       "1                   多発性肝細胞癌あり｡4/13からﾚﾝﾊﾞﾁﾆﾌﾞ開始 治療効果判定目的  \n",
       "2     難治性の高血圧症の精査をしております｡ 5/30単純ctにて腹腔動脈~右腎動脈の石灰化ある ...  \n",
       "3     術前評価 routine+ce&fiesta volume､ stealth cd作成お 願...  \n",
       "4                                           膵管拡張､厳重検察中｡  \n",
       "...                                                 ...  \n",
       "4495                                   術前評価 routine+mra  \n",
       "4496                                            定期検査です｡  \n",
       "4497        pet-ctで胆嚢に集積あり ctで胆嚢腺筋症もしくは胆嚢癌の可能性あり 精査願います  \n",
       "4498               歩行困難あり｡l5分離すべり症あり｡腰部脊柱管狭窄 症など精査目的です｡  \n",
       "4499  乳癌術後ﾎﾙﾓﾝ療法中｡最近下部腰椎付近に痛みあり｡ﾏｰｶｰ上昇なく症状に変動あり｡左指先の...  \n",
       "\n",
       "[4500 rows x 3 columns]"
      ]
     },
     "execution_count": 10,
     "metadata": {},
     "output_type": "execute_result"
    }
   ],
   "source": [
    "df_train"
   ]
  },
  {
   "cell_type": "code",
   "execution_count": 11,
   "id": "b9bc0393-0de8-44e8-baeb-6e150d147aea",
   "metadata": {},
   "outputs": [],
   "source": [
    "def Loaddata(df):\n",
    "    samples = []\n",
    "    for an,posi,nega in zip (df['ancer'],df['positive'],df['negative']):\n",
    "        samples.append(InputExample(texts=[an, posi, nega]))     \n",
    "    dedup = {}\n",
    "    for sample in samples:\n",
    "        key = \"\".join(sample.texts)\n",
    "        dedup[key] = sample\n",
    "\n",
    "    return(list(dedup.values()))"
   ]
  },
  {
   "cell_type": "code",
   "execution_count": 12,
   "id": "45da190c-582b-4413-bdaf-6708a9ac75d5",
   "metadata": {},
   "outputs": [],
   "source": [
    " def register(sent):\n",
    "    if sent not in sentences_reverse_map:\n",
    "      id = str(len(sentences_reverse_map))\n",
    "      sentences_reverse_map[sent] = id\n",
    "      sentences_map[id] = sent\n",
    "      return id\n",
    "    else:\n",
    "      return sentences_reverse_map[sent]"
   ]
  },
  {
   "cell_type": "code",
   "execution_count": 13,
   "id": "170a9238-74e2-4d74-83a0-69cb229b9243",
   "metadata": {},
   "outputs": [],
   "source": [
    "#学習データ\n",
    "train_samples = Loaddata(df_train)"
   ]
  },
  {
   "cell_type": "code",
   "execution_count": 14,
   "id": "da6a6fcb-2a05-415f-b10c-88effbe2f57a",
   "metadata": {},
   "outputs": [
    {
     "data": {
      "text/plain": [
       "4447"
      ]
     },
     "execution_count": 14,
     "metadata": {},
     "output_type": "execute_result"
    }
   ],
   "source": [
    "len(train_samples)"
   ]
  },
  {
   "cell_type": "code",
   "execution_count": 15,
   "id": "3784a89d-4e68-4344-b7be-94352dedaf65",
   "metadata": {},
   "outputs": [
    {
     "name": "stdout",
     "output_type": "stream",
     "text": [
      "2019/3/28､左視床外側､左前頭葉梗塞｡ ･塞栓源検索目的に､大動脈~頸部血管のplaque imaging(t1cube) ･入院時mriでltccf疑う像あり､頭蓋内mra の再検｡ ･可能であればdwi をお願い致します\n",
      "同日夜間発症左半身麻痺の方 血栓回収の可能性があるため早期のmri施行を御願いします dwi､adc､t1､t2､flair､mra､aslを御願いします\n",
      "+++++++++++++++++++++\n",
      "['0', '1']\n",
      "10cm大の腫瘤あり 精査目的です\n",
      "卵巣腫瘍あり､精査目的です｡ 6cmの腫瘤があります｡\n",
      "+++++++++++++++++++++\n",
      "['2', '3']\n",
      "2019/9/24自転車転倒｡受傷時の記憶なし｡左 前額部挫創と全身打撲｡受傷翌日も頭痛と嘔気持続､受傷前から病着までの記憶なし｡頭部ctにてやや右側浮 腫状?頭痛や嘔気遷延しているため､daiや微小出血 ､脳挫傷等検索目的｡\n",
      "10/10受傷の交通外傷｡外傷性sahの疑い｡頭部 ctﾌｫﾛｰにて血腫増悪認めず｡当初嘔気強く3日間 経過観察入院し10/12退院｡10/13朝から顔色 不良｡傾眠傾向と嘔気あり､頭部ctﾌｫﾛｰｱｯﾌﾟ｡ dai､微少出血､脳挫傷等検索目的｡\n",
      "+++++++++++++++++++++\n",
      "['4', '5']\n",
      "2018年10月から脳転移を指摘｡化学療法変更･脳 転移に対して定位放射線治療後初回評価｡\n",
      "lk脳転移に対して放射線治療後3ヵ月\n",
      "+++++++++++++++++++++\n",
      "['6', '7']\n",
      "10年前にも左顎下部がま腫にて他院で硬化療法施行｡ 1月から再び左顎下部腫脹あり､ｴｺｰではφ2cm大 のldaあり､がま腫再発s/oの患者様です｡口腔か ら頸部精査お願いします｡\n",
      "2020年6月18日 左頬部腫瘤の精査依頼にて皮膚 科より御紹介         左頬部中央部に10mm大の弾性軟･ 可動性のある腫瘤認める｡         左顎下部にも15mm大?の耳鼻科診 断で反応性疑うlnあり｡ 眼窩下~鎖骨上まで撮影願います｡ 左頬部および両側頸部検索願います｡ 左頬部腫瘤は10mmもありません｡thin sliceお願いしたいです｡\n",
      "+++++++++++++++++++++\n",
      "['8', '9']\n",
      "10/17  19時からの右下垂手｡橈骨神経麻痺の 可能性を疑います｡脳梗塞など中枢性病変がないかの検索目的です｡\n",
      "10日前より左難聴とめまいを自覚｡ 聴神経腫瘍や中枢性の可能性がないかの評価目的\n",
      "+++++++++++++++++++++\n",
      "['10', '11']\n",
      "10月11日発症､右突発性難聴症例｡中枢疾患除外目 的\n",
      "5月16日発症の右突発性難聴症例､中枢疾患除外のためmri撮影\n",
      "+++++++++++++++++++++\n",
      "['12', '13']\n",
      "10年前頸椎術後｡ 3月に右上肢の痛みの後にc6-7ﾚﾍﾞﾙの筋力低下と 筋萎縮が出現｡ 腕神経叢を含み､上腕から前腕にかけ筋肉の信号変化など評価ください｡造影もお願いします｡\n",
      "右c5ﾚﾍﾞﾙの筋力低下と､右前胸部から肩の神経痛｡ 精査お願いします｡\n",
      "+++++++++++++++++++++\n",
      "['14', '15']\n",
      "2/22からの右th8ﾚﾍﾞﾙ以下の温痛覚障害で入院｡以前の単純の脊髄mriでは病変はないですが､症状は継続してます｡頭部mriでは左下角付近にt2高信号病変を認め多発性硬化症等を考えています｡造影も含めth8-下位頸髄ﾚﾍﾞﾙの精査目的です｡\n",
      "進行性の両下肢遠位感覚障害･感覚失調による歩行障害､他院のmriではth8-9ﾚﾍﾞﾙにt2高信号の陰 影疑います､精査目的です｡\n",
      "+++++++++++++++++++++\n",
      "['16', '17']\n",
      "13年前受傷の陳旧例です｡他院持ち込みmriではa clの連続性はありそうにも見受けられます｡ aclの走行に沿った画像を追加撮影お願いいたします ｡\n",
      "右膝痛です｡持参画像では､大腿骨骨髄内の信号変化あります｡腫瘍性病変では無く､いわゆるcortical defectだとおもっています｡非典型的な所見 は､骨内を横切る低信号の所見です｡骨折線の可能性がありますが､珍しいです｡持参ではaxialも無いの で撮影です｡お願いします｡\n",
      "+++++++++++++++++++++\n",
      "['18', '19']\n",
      "2018年7月3日に右acl再建+骨切り術を行いま した｡ 脛骨近位部にﾌﾟﾚｰﾄ挿入あり｡ 4週程前より右膝関節痛と腫脹が出現｡acl評価をお 願いいたします｡ aclの走行に沿ったｽﾗｲｽもお願いいたします｡\n",
      "acl損傷です｡ 1週間前に左膝を捻り､血性関節液あり｡半月板損傷や骨挫傷の有無についても精査をお願いします aclの走行に沿ったｽﾗｲｽも追加撮影お願いします ｡\n",
      "+++++++++++++++++++++\n",
      "['20', '21']\n"
     ]
    }
   ],
   "source": [
    "sentences_map = {} # id -> sent\n",
    "sentences_reverse_map = {} # sent -> id\n",
    "duplicates_list = [] # (id1, id2)\n",
    "\n",
    "#idを返す\n",
    "df=df_val[1:12]\n",
    "for i,j in zip (df['ancer'],df['positive']) :\n",
    "    print(i)\n",
    "    print(j)\n",
    "    #a=[i,j]\n",
    "    #print(type(a))\n",
    "    \n",
    "    ids = [register(sent) for sent in [i,j]]\n",
    "    print('+++++++++++++++++++++')\n",
    "    print(ids)\n",
    "    duplicates_list.append(tuple(ids))"
   ]
  },
  {
   "cell_type": "code",
   "execution_count": 16,
   "id": "2fd128ba-1d61-48f4-817c-4ca3786121fc",
   "metadata": {},
   "outputs": [],
   "source": [
    "def load_data_for_paraphrase_mining(df):\n",
    "    sentences_map = {} # id -> sent\n",
    "    sentences_reverse_map = {} # sent -> id\n",
    "    duplicates_list = [] # (id1, id2)\n",
    "\n",
    "#idを返す\n",
    "#あれば既存のIDをなければ新規のIDを\n",
    "    def register(sent):\n",
    "        if sent not in sentences_reverse_map:\n",
    "            id = str(len(sentences_reverse_map))\n",
    "            sentences_reverse_map[sent] = id\n",
    "            sentences_map[id] = sent\n",
    "            return id\n",
    "        else:\n",
    "            return sentences_reverse_map[sent]\n",
    "\n",
    "  \n",
    "    for i,j in zip (df['ancer'],df['positive']) :\n",
    "        ids = [register(sent) for sent in [i,j]]\n",
    "        duplicates_list.append(tuple(ids))\n",
    "\n",
    "  \n",
    "    return sentences_map, duplicates_list"
   ]
  },
  {
   "cell_type": "code",
   "execution_count": 17,
   "id": "0696de44-e2b2-4b1f-b3cd-6bd1a57f97cf",
   "metadata": {},
   "outputs": [],
   "source": [
    "sentences_map, duplicates_list = load_data_for_paraphrase_mining(df_val)"
   ]
  },
  {
   "cell_type": "code",
   "execution_count": 18,
   "id": "25b6c472-708c-4e11-a40c-c9e45c7d7229",
   "metadata": {},
   "outputs": [],
   "source": [
    "import os\n",
    "import json\n",
    "#import tensorflow as tf\n",
    "from sentence_transformers import models, SentenceTransformer \n",
    "from transformers import ElectraModel, AutoTokenizer, PretrainedConfig, BertJapaneseTokenizer\n",
    "#from sudachitra import ElectraSudachipyTokenizer\n",
    "\n",
    "def load_model(model_name, max_seq_length=75):\n",
    "    word_embedding_model = models.Transformer(model_name, max_seq_length=max_seq_length)\n",
    "    pooling_model = models.Pooling(word_embedding_model.get_word_embedding_dimension(), pooling_mode='mean')\n",
    "    model = SentenceTransformer(modules=[word_embedding_model, pooling_model])\n",
    "    return model"
   ]
  },
  {
   "cell_type": "code",
   "execution_count": 26,
   "id": "37df092f-dcc0-4182-af31-01d60709bed6",
   "metadata": {},
   "outputs": [
    {
     "data": {
      "text/plain": [
       "'./strf_sonoisa_sentence-bert-base-ja-mean-tokens-v2'"
      ]
     },
     "execution_count": 26,
     "metadata": {},
     "output_type": "execute_result"
    }
   ],
   "source": [
    "#model_name = \"cl-tohoku/bert-base-japanese-whole-word-masking\"\n",
    "model_name =  \"sonoisa/sentence-bert-base-ja-mean-tokens-v2\"\n",
    "\n",
    "model_save_path = \"./strf_{}\".format(model_name.replace(\"gs://\",\"\").replace(\"/\",\"_\"))\n",
    "model_save_path\n",
    "# './strf_rinna_japanese-roberta-base'"
   ]
  },
  {
   "cell_type": "code",
   "execution_count": 27,
   "id": "24cbf2a9-6bbc-4290-953b-6f440cff4c07",
   "metadata": {},
   "outputs": [],
   "source": [
    "train_batch_size = 32\n",
    "#64\n",
    "max_seq_length = 75\n",
    "\n",
    "num_epochs = 10"
   ]
  },
  {
   "cell_type": "code",
   "execution_count": 28,
   "id": "2f42c66b-bd16-47ac-9a3e-2b752a1875b1",
   "metadata": {},
   "outputs": [
    {
     "name": "stdout",
     "output_type": "stream",
     "text": [
      "2022-05-04 12:33:57 - Use pytorch device: cuda\n"
     ]
    }
   ],
   "source": [
    "model = load_model(model_name, max_seq_length=max_seq_length)"
   ]
  },
  {
   "cell_type": "code",
   "execution_count": 29,
   "id": "ac64a4f9-dd52-41dc-99b9-d370b4312d71",
   "metadata": {},
   "outputs": [
    {
     "data": {
      "text/plain": [
       "'BertJapaneseTokenizer'"
      ]
     },
     "execution_count": 29,
     "metadata": {},
     "output_type": "execute_result"
    }
   ],
   "source": [
    "model.tokenizer.__class__.__name__"
   ]
  },
  {
   "cell_type": "code",
   "execution_count": 30,
   "id": "97f8f99c-802d-4ecc-b158-6a109c132bef",
   "metadata": {},
   "outputs": [],
   "source": [
    "train_dataloader = datasets.NoDuplicatesDataLoader(train_samples, batch_size=train_batch_size)\n",
    "train_loss = losses.MultipleNegativesRankingLoss(model)\n",
    "dev_evaluator = ParaphraseMiningEvaluator(sentences_map, duplicates_list, name=\"paramin-jsnli-dev\")"
   ]
  },
  {
   "cell_type": "code",
   "execution_count": 31,
   "id": "a519e47a-015e-4e97-9df3-d944ffc17a7b",
   "metadata": {},
   "outputs": [
    {
     "name": "stdout",
     "output_type": "stream",
     "text": [
      "2022-05-04 12:33:57 - Warmup-steps: 138\n"
     ]
    }
   ],
   "source": [
    "warmup_steps = math.ceil(len(train_dataloader) * num_epochs * 0.1) #10% of train data for warm-up\n",
    "logging.info(\"Warmup-steps: {}\".format(warmup_steps))\n",
    "# 2021-09-28 06:16:56 - Warmup-steps: 614"
   ]
  },
  {
   "cell_type": "code",
   "execution_count": null,
   "id": "41bf75e6-5539-4e28-addd-b5c2bae8a1ed",
   "metadata": {},
   "outputs": [],
   "source": [
    "model.fit(train_objectives=[(train_dataloader, train_loss)],\n",
    "          evaluator=dev_evaluator,\n",
    "          epochs=num_epochs,\n",
    "          evaluation_steps=int(len(train_dataloader)*0.1),\n",
    "          warmup_steps=warmup_steps,\n",
    "          output_path=model_save_path,\n",
    "          use_amp=False\n",
    "          )\n",
    "\n",
    "# ...\n",
    "# 2021-09-28 06:47:33 - Paraphrase Mining Evaluation"
   ]
  },
  {
   "cell_type": "code",
   "execution_count": null,
   "id": "bad17149-7f88-4e01-8bd6-edb56a826b1a",
   "metadata": {},
   "outputs": [],
   "source": []
  },
  {
   "cell_type": "code",
   "execution_count": null,
   "id": "b7974770-4bc4-41fe-a43f-bb9109d306e3",
   "metadata": {},
   "outputs": [],
   "source": []
  },
  {
   "cell_type": "code",
   "execution_count": null,
   "id": "927e6795-282e-4058-ab26-5cf164e42d3c",
   "metadata": {},
   "outputs": [],
   "source": []
  },
  {
   "cell_type": "code",
   "execution_count": null,
   "id": "c353c3ae-5a74-41a9-9f4f-7d296558c4b0",
   "metadata": {},
   "outputs": [],
   "source": []
  },
  {
   "cell_type": "code",
   "execution_count": null,
   "id": "435f2d99-b3f9-4534-868c-9418a781894b",
   "metadata": {},
   "outputs": [],
   "source": []
  },
  {
   "cell_type": "code",
   "execution_count": null,
   "id": "dcb8eb59-bd57-47d7-8dfd-7ebe7faaa351",
   "metadata": {},
   "outputs": [],
   "source": []
  },
  {
   "cell_type": "code",
   "execution_count": null,
   "id": "39463fcc-e978-4b92-95c8-3c9d997fabc7",
   "metadata": {},
   "outputs": [],
   "source": []
  },
  {
   "cell_type": "code",
   "execution_count": null,
   "id": "96587b4f-86aa-4c05-a2d5-c9ceaf22cc75",
   "metadata": {},
   "outputs": [],
   "source": []
  },
  {
   "cell_type": "code",
   "execution_count": null,
   "id": "ec5087a9-8e01-464f-b4be-3a599a045191",
   "metadata": {},
   "outputs": [],
   "source": []
  },
  {
   "cell_type": "code",
   "execution_count": null,
   "id": "3a67ca99-e5c4-48c8-ab4c-436e7bde8b1f",
   "metadata": {},
   "outputs": [],
   "source": []
  },
  {
   "cell_type": "code",
   "execution_count": null,
   "id": "41fc6a46-d0e2-42b5-976c-321f03d2df1b",
   "metadata": {},
   "outputs": [],
   "source": []
  },
  {
   "cell_type": "raw",
   "id": "4d69ef47-72e9-4dd3-afef-6190af030d7d",
   "metadata": {},
   "source": [
    "\n",
    "#類似文書検索\n"
   ]
  },
  {
   "cell_type": "code",
   "execution_count": 67,
   "id": "f49307f5-f7d0-4b60-b1cc-95f48b4bce26",
   "metadata": {},
   "outputs": [],
   "source": [
    "ft_vec=np.load('vec&str/FTvec.npy')\n",
    "ft_str=np.load('vec&str/FTstr.npy', allow_pickle=True)"
   ]
  },
  {
   "cell_type": "code",
   "execution_count": 68,
   "id": "715dcaa0-0dbf-4ecc-90fc-43939065b9fc",
   "metadata": {},
   "outputs": [],
   "source": [
    "so_vec=np.load('vec&str/sbvec_so.npy')\n",
    "so_str=np.load('vec&str/sbstr_so.npy', allow_pickle=True)"
   ]
  },
  {
   "cell_type": "code",
   "execution_count": 69,
   "id": "739f5dfc-6216-4588-9e97-787ed73117c4",
   "metadata": {},
   "outputs": [],
   "source": [
    "th_vec=np.load('vec&str/sbvec_th.npy')\n",
    "th_str=np.load('vec&str/sbstr_th.npy', allow_pickle=True)"
   ]
  },
  {
   "cell_type": "code",
   "execution_count": 70,
   "id": "2fb47a58-e1b1-4528-be86-cb554142d565",
   "metadata": {},
   "outputs": [],
   "source": [
    "uth_vec=np.load('vec&str/sbvec_uth.npy')\n",
    "uth_str=np.load('vec&str/sbstr_uth.npy', allow_pickle=True)"
   ]
  },
  {
   "cell_type": "code",
   "execution_count": 71,
   "id": "b0b4cad9-ffe7-45de-a1c3-5bc102a481b2",
   "metadata": {},
   "outputs": [],
   "source": [
    "moto_vec=np.load('vec&str/sbvec_motoso.npy')\n",
    "moto_str=np.load('vec&str/sbstr_motoso.npy', allow_pickle=True)"
   ]
  },
  {
   "cell_type": "code",
   "execution_count": 72,
   "id": "1df78a07-fdda-4edf-b267-7db78bcf9566",
   "metadata": {},
   "outputs": [
    {
     "name": "stderr",
     "output_type": "stream",
     "text": [
      "Warning : `load_model` does not return WordVectorModel or SupervisedModel any more, but a `FastText` object which is very similar.\n"
     ]
    }
   ],
   "source": [
    "import fasttext \n",
    "import fasttext.util\n",
    "ft = fasttext.load_model('fasttext_model/fasttext_meishi_model.bin')"
   ]
  },
  {
   "cell_type": "code",
   "execution_count": 12,
   "id": "06c336d3-7198-4cfc-b0cc-6c91b83ac46e",
   "metadata": {},
   "outputs": [],
   "source": [
    "#学習データ修正用\n",
    "#ftvecs = Vec\n",
    "#docs = Str\n",
    "#df = pd.read_csv('train_sbert.csv', encoding='cp932')\n",
    "#df.iloc[425:427]"
   ]
  },
  {
   "cell_type": "code",
   "execution_count": 31,
   "id": "8928a204-d1e3-4093-9819-a496cbd38d62",
   "metadata": {},
   "outputs": [],
   "source": [
    "MODEL_NAME = \"BERT_model/strf_cl-tohoku_bert-base-japanese-whole-word-masking32.75.10\"\n",
    "#MODEL_NAME = \"BERT_model/strf_sonoisa_sentence-bert-base-ja-mean-tokens-v232.75.10\"\n",
    "#MODEL_NAME = \"BERT_model/UTH_BERT_BASE_512_MC_BPE_WWM_V25000_352K\"\n",
    "#MODEL_NAME = 'sonoisa/sentence-bert-base-ja-mean-tokens-v2'\n",
    "\n",
    "\n",
    "model = SentenceBertJapanese(MODEL_NAME)\n",
    "def SB_vec(docs):\n",
    "    sBERT = model.encode(docs)\n",
    "    sBERT_vecs=np.array(sBERT)\n",
    "    return (sBERT_vecs)"
   ]
  },
  {
   "cell_type": "code",
   "execution_count": 73,
   "id": "2f22b84c-ccfe-40b2-a4f9-8ee13fb152f6",
   "metadata": {},
   "outputs": [],
   "source": [
    "def makevec_ft (doc):\n",
    "        word_vecs=[]\n",
    "        for word in meishi2(doc):\n",
    "            try:\n",
    "                word_vecs.append(ft[word])\n",
    "            except KeyError  :   \n",
    "                word_vecs.append(np.zeros(300,  dtype = float))\n",
    "        doc_vec=np.array(word_vecs).mean(axis=0)\n",
    "        return(np.array(doc_vec)).T"
   ]
  },
  {
   "cell_type": "code",
   "execution_count": 74,
   "id": "0f19ae71-ee4e-4863-a1ba-1c48bd770f37",
   "metadata": {},
   "outputs": [],
   "source": [
    "def find_sim_vec(one_str, docs, vecs , closest_n=5):\n",
    "    #queries = docs[:num]\n",
    "    #query_embeddings = vecs[:num]#このクエリ数個に対してsentenceから相関が高いものが選択される\n",
    "    one_vec = makevec_ft (one_str)\n",
    "    sentences=docs\n",
    "    sentence_vectors =vecs#全てのベクトル\n",
    "    \n",
    "    closest_n = closest_n\n",
    "    \n",
    "    distances = spatial.distance.cdist([one_vec], sentence_vectors, metric=\"cosine\")[0]\n",
    "\n",
    "    results = zip(range(len(distances)), distances)\n",
    "    results = sorted(results, key=lambda x: x[1])\n",
    "        \n",
    "    print(f'Main Word:___{one_str}___')\n",
    "    for idx, distance in results[0:closest_n]:\n",
    "        print(sentences[idx].strip(), \"(Score: %.4f)\" % (distance / 2))\n",
    "        "
   ]
  },
  {
   "cell_type": "code",
   "execution_count": 75,
   "id": "ec21a058-22f6-4e5d-b0c3-58fcf956ccf2",
   "metadata": {},
   "outputs": [],
   "source": [
    "def find_sim_vec_sbert(one_str, docs, vecs , closest_n=5):\n",
    "    #queries = docs[:num]\n",
    "    #query_embeddings = vecs[:num]#このクエリ数個に対してsentenceから相関が高いものが選択される\n",
    "    one_vec = SB_vec ([one_str]).squeeze()\n",
    "    sentences=docs\n",
    "    sentence_vectors =vecs#全てのベクトル\n",
    "    \n",
    "    closest_n = closest_n\n",
    "    \n",
    "    distances = spatial.distance.cdist([one_vec], sentence_vectors, metric=\"cosine\")[0]\n",
    "\n",
    "    results = zip(range(len(distances)), distances)\n",
    "    results = sorted(results, key=lambda x: x[1])\n",
    "        \n",
    "    print(f'Main Word:___{one_str}___')\n",
    "    for idx, distance in results[0:closest_n]:\n",
    "        print(sentences[idx].strip(), \"(Score: %.4f)\" % (distance / 2))\n",
    "        "
   ]
  },
  {
   "cell_type": "code",
   "execution_count": 76,
   "id": "afef4da1-d344-4d85-99ec-5fc113562e9a",
   "metadata": {},
   "outputs": [
    {
     "data": {
      "text/plain": [
       "(768,)"
      ]
     },
     "execution_count": 76,
     "metadata": {},
     "output_type": "execute_result"
    }
   ],
   "source": [
    "dd = SB_vec([a]).squeeze()\n",
    "dd.shape"
   ]
  },
  {
   "cell_type": "code",
   "execution_count": 180,
   "id": "8a51576f-f80b-48d6-a913-60f27e629f8c",
   "metadata": {},
   "outputs": [
    {
     "data": {
      "text/plain": [
       "(300,)"
      ]
     },
     "execution_count": 180,
     "metadata": {},
     "output_type": "execute_result"
    }
   ],
   "source": [
    "ss =  makevec_ft(a)\n",
    "ss.shape"
   ]
  },
  {
   "cell_type": "code",
   "execution_count": 136,
   "id": "b720efaf-1f71-4dbc-be22-f4415dc6487b",
   "metadata": {},
   "outputs": [],
   "source": [
    "a='10/27に右膝の人工関節置換術目的で入院｡昨日夕 から動作時に増強する両上肢や顔面のﾐｵｸﾛｰﾇｽあり｡精査です｡ dvtや頸動脈ﾌﾟﾗｰｸの既往あります｡'\n",
    "#a='右精索に圧痛を伴う腫瘤を2ヶ認めます｡usでは内部 が充実性です｡mriでいかがでしょうか｡'\n",
    "#a='子宮頸癌ⅱa2期に対し広汎子宮全摘術施行し､ccr t施行した患者｡心窩部痛と発熱で入院し､造影ctに て肝s5に膿瘍または転移性腫瘍を疑う腫瘤を認め､腹 部ｴｺｰにて血流を伴うことから腫瘍を疑っております｡造影mriで腫瘍か膿瘍か精査をお願いいたします｡'\n",
    "#a='右大腿横紋筋肉腫の疑いに対して生検後 頭部ctで右前頭葉深部白質の低吸収域を指摘され､単純mriを撮影した際に松果体部の腫瘤を指摘されました｡造影mriによる精査をお願いします｡早産で他院nicu入院歴ありますが､退院時mriでは異常の指摘はなかったとのことです｡'\n",
    "#a='8月下旬からの両側耳鳴(右<左)の方です｡聴神経腫 瘍を含め､頭蓋内疾患の精査目的です｡ ※8月に交通事故(追突される)による頚椎捻挫で治療 中です｡交通事故後､頸椎mri撮影された際､冷感と 気分不快があったが､20分ほどだったので何とか我慢 して撮影できたとのこと｡配慮をお願いいたします｡'\n",
    "#a='10月半ばに気づいた左坐骨結節部の50mm程度の皮下腫瘤です。関節などに関連したものでしょうか?'\n",
    "#a='2019年5月20日隣家の郵便ﾎﾟｽﾄに黄色い液体を 入れた｡防犯ｶﾒﾗに写っているが本人否認､逮捕され同年6月12日の措置鑑定で滋賀県立精神医療ｾﾝﾀｰ に措置入院となった患者｡入院時検査にて甲状腺機能亢進と好中球減少を認め､甲状腺機能亢進症への対応と精神症状の治療のため､当院に転院措置入院となった｡ 器質因子除外目的です'\n",
    "#a='1年前から右側頭部に存在する15mm大の皮下腫瘤で す｡質的な評価､また下床が脂肪組織内かそれよりも下と隣接しているのかなどについてご評価をお願いいたします｡'\n",
    "#a='両側乳癌の術後､肝転移に対し化学療法中｡1月のmr iで左頭頂葉皮質部に小さな脳転移の疑いを指摘｡経過比較をお願いします'\n",
    "#a='右膝側半月板切除後 骨壊死の精査目的'\n",
    "#a='多発狭窄病変あります 大動脈~頸部のplaque imagingお願い致 します'\n",
    "#a='左ﾒﾆｴｰﾙ病として当科ﾌｫﾛｰ中の患者様です｡1月25日に強いめまい発作あり､1月26日再診｡1月 26日受診時にも水平左向き眼振があり､左ﾒﾆｴｰﾙ 病発作の可能性が高いとは考えています｡ 聴神経腫瘍や中枢性の除外目的にmriをお願いします ｡'\n",
    "#a='左母趾の疼痛あり 炎症の程度評価 骨折の有無など'\n",
    "#a= \"子宮頸部に生検でendocervical glan dular hyperplasiaと診断された主腫 瘤性病変あり｡ 多発子宮筋腫 悪性評価目的 病変位置確認目的 ｼﾈmriもお願いします お忙しいところ恐縮ですが､至急読影お願いします｡\""
   ]
  },
  {
   "cell_type": "code",
   "execution_count": 137,
   "id": "8786d314-861d-4415-add6-8d29b6c5433f",
   "metadata": {},
   "outputs": [
    {
     "name": "stdout",
     "output_type": "stream",
     "text": [
      "/ に 膝 の 人工関節 置換 術 目的 で 入院 昨日 夕 から 動作 時 に 増強 する 両 上肢 や 顔面 の ﾐｵｸﾛｰﾇｽ あり 精査 です dvt や 頸動脈 ﾌﾟﾗｰｸ の 既往 あり ます\n"
     ]
    }
   ],
   "source": [
    "print(wakati(a))"
   ]
  },
  {
   "cell_type": "code",
   "execution_count": 138,
   "id": "fa8eaa26-bb18-48c6-b984-b0d47b5c4f3f",
   "metadata": {},
   "outputs": [
    {
     "name": "stdout",
     "output_type": "stream",
     "text": [
      "['/', '膝', '人工関節', '置換', '術', '目的', '入院', '昨日', '夕', '動作', '時', '増強', 'する', '上肢', '顔面', 'ﾐｵｸﾛｰﾇｽ', 'あり', '精査', 'dvt', '頸動脈', 'ﾌﾟﾗｰｸ', '既往', 'あり']\n",
      "/ 膝 人工関節 置換 術 目的 入院 昨日 夕 動作 時 増強 する 上肢 顔面 ﾐｵｸﾛｰﾇｽ あり 精査 dvt 頸動脈 ﾌﾟﾗｰｸ 既往 あり\n"
     ]
    }
   ],
   "source": [
    "print(meishi(a))\n",
    "print(meishi2(a))"
   ]
  },
  {
   "cell_type": "code",
   "execution_count": 139,
   "id": "24b4535a-3767-4cc2-b242-5f53d2100469",
   "metadata": {},
   "outputs": [],
   "source": [
    "#各手技評価"
   ]
  },
  {
   "cell_type": "code",
   "execution_count": 140,
   "id": "d52e698d-e1e2-4405-a56d-75e3819ed869",
   "metadata": {},
   "outputs": [
    {
     "name": "stdout",
     "output_type": "stream",
     "text": [
      "Main Word:___10/27に右膝の人工関節置換術目的で入院｡昨日夕 から動作時に増強する両上肢や顔面のﾐｵｸﾛｰﾇｽあり｡精査です｡ dvtや頸動脈ﾌﾟﾗｰｸの既往あります｡___\n",
      "10/27に右膝の人工関節置換術目的で入院｡昨日夕 から動作時に増強する両上肢や顔面のﾐｵｸﾛｰﾇｽあり｡精査です｡ dvtや頸動脈ﾌﾟﾗｰｸの既往あります｡ (Score: 0.0065)\n",
      "本日22時頃ﾊﾟｿｺﾝ作業中に呂律困難あり｡脳底動脈 紡錘状動脈瘤で当院脳外科ﾌｫﾛｰ中の患者｡頭蓋内病変の精査目的です｡ (Score: 0.0237)\n",
      "2020/9/8より右耳後部及び右後頭部痛の訴えあ り 頭部mriでの精査目的 大動脈弁狭窄に生体弁置換術後 冠動脈ｽﾃﾝﾄ留置･ﾊﾞｲﾊﾟｽ術後 胸部大動脈瘤術後 脂質異常症や糖尿病に対して投薬加療中 栗東はた内科医院 畑 和憲 先生より御紹介 病診 体内金属あり:声帯ﾁﾀﾝ片(2cm)､心臓ｽﾃﾝﾄ ､心臓の手術で肋骨にﾜｲﾔｰあり (Score: 0.0269)\n",
      "昨年末よりふらつき､及び易転倒性あり｡脳神経内科対診にて前頭葉徴候や両下肢四肢失調症状指摘あり｡ｱﾙｺｰﾙ多飲や食事量減少､体重減少と関連している可能性あり｡wernicke脳症等､頭蓋内疾患検索目的 ｡ (Score: 0.0270)\n",
      "10/10受傷の交通外傷｡外傷性sahの疑い｡頭部 ctﾌｫﾛｰにて血腫増悪認めず｡当初嘔気強く3日間 経過観察入院し10/12退院｡10/13朝から顔色 不良｡傾眠傾向と嘔気あり､頭部ctﾌｫﾛｰｱｯﾌﾟ｡ dai､微少出血､脳挫傷等検索目的｡ (Score: 0.0279)\n"
     ]
    }
   ],
   "source": [
    "find_sim_vec(a, ft_str, ft_vec)"
   ]
  },
  {
   "cell_type": "code",
   "execution_count": 141,
   "id": "c5d0f10c-38c7-4f13-9d4b-4eeb9814e4c7",
   "metadata": {},
   "outputs": [
    {
     "name": "stderr",
     "output_type": "stream",
     "text": [
      "Some weights of the model checkpoint at BERT_model/UTH_BERT_BASE_512_MC_BPE_WWM_V25000_352K were not used when initializing BertModel: ['cls.predictions.transform.dense.weight', 'cls.predictions.transform.LayerNorm.bias', 'cls.seq_relationship.bias', 'cls.predictions.transform.dense.bias', 'cls.predictions.decoder.bias', 'cls.predictions.decoder.weight', 'cls.predictions.bias', 'cls.seq_relationship.weight', 'cls.predictions.transform.LayerNorm.weight']\n",
      "- This IS expected if you are initializing BertModel from the checkpoint of a model trained on another task or with another architecture (e.g. initializing a BertForSequenceClassification model from a BertForPreTraining model).\n",
      "- This IS NOT expected if you are initializing BertModel from the checkpoint of a model that you expect to be exactly identical (initializing a BertForSequenceClassification model from a BertForSequenceClassification model).\n",
      "Asking to truncate to max_length but no maximum length is provided and the model has no predefined maximum length. Default to no truncation.\n"
     ]
    },
    {
     "name": "stdout",
     "output_type": "stream",
     "text": [
      "Main Word:___10/27に右膝の人工関節置換術目的で入院｡昨日夕 から動作時に増強する両上肢や顔面のﾐｵｸﾛｰﾇｽあり｡精査です｡ dvtや頸動脈ﾌﾟﾗｰｸの既往あります｡___\n",
      "10/27に右膝の人工関節置換術目的で入院｡昨日夕 から動作時に増強する両上肢や顔面のﾐｵｸﾛｰﾇｽあり｡精査です｡ dvtや頸動脈ﾌﾟﾗｰｸの既往あります｡ (Score: 0.0000)\n",
      "rt. petrotentorial mening ioma 摘出術後､ｶﾞﾝﾏﾅｲﾌ後 (Score: 0.0303)\n",
      "rt. petrotentorial mening ioma 摘出術後､ｶﾞﾝﾏﾅｲﾌ後 (Score: 0.0303)\n",
      "mci､ｱﾙﾂﾊｲﾏｰ型認知症s/oのかた｡経時変 化ﾌｫﾛｰ目的です｡ (Score: 0.0323)\n",
      "acom動脈瘤 large 未破裂 4d-flow dataお願いします (Score: 0.0335)\n"
     ]
    }
   ],
   "source": [
    "MODEL_NAME = \"BERT_model/UTH_BERT_BASE_512_MC_BPE_WWM_V25000_352K\"\n",
    "model = SentenceBertJapanese(MODEL_NAME)\n",
    "def SB_vec(docs):\n",
    "    sBERT = model.encode(docs)\n",
    "    sBERT_vecs=np.array(sBERT)\n",
    "    return (sBERT_vecs)\n",
    "\n",
    "find_sim_vec_sbert(a, uth_str, uth_vec, )"
   ]
  },
  {
   "cell_type": "code",
   "execution_count": 142,
   "id": "130e67fa-97a3-4b2b-9467-4f1bcf47d26f",
   "metadata": {},
   "outputs": [
    {
     "name": "stdout",
     "output_type": "stream",
     "text": [
      "Main Word:___10/27に右膝の人工関節置換術目的で入院｡昨日夕 から動作時に増強する両上肢や顔面のﾐｵｸﾛｰﾇｽあり｡精査です｡ dvtや頸動脈ﾌﾟﾗｰｸの既往あります｡___\n",
      "10/27に右膝の人工関節置換術目的で入院｡昨日夕 から動作時に増強する両上肢や顔面のﾐｵｸﾛｰﾇｽあり｡精査です｡ dvtや頸動脈ﾌﾟﾗｰｸの既往あります｡ (Score: 0.0000)\n",
      "左上肢のﾐｵｸﾛｰﾇｽあり､中枢病変の確認目的です｡脳幹の異常ないでしょうか｡ (Score: 0.1894)\n",
      "6/18にてんかん発作があった方です｡ﾍﾟｰｽﾒｰｶ ｰ留置されおります｡てんかんの原因となるような器質性疾患がないか確認目的です｡mra､冠状断もお願い します｡ (Score: 0.2188)\n",
      "左半身のﾐｵｸﾛｰﾇｽが間欠的に出現｡ 日本脳炎後です｡ 器質的疾患の評価をお願い致します｡ (Score: 0.2205)\n",
      "左内頚動脈のﾌﾟﾗｰｸが以前からみとめられている方です｡ 今回atoaを疑う左大脳皮質の脳梗塞があり､入院中 です｡ﾌﾟﾗｰｸの状態評価目的での撮影をお願いいたします｡ 冠動脈ｽﾃﾝﾄ留置されていますが､mri撮影問題あ りません｡ (Score: 0.2456)\n"
     ]
    }
   ],
   "source": [
    "MODEL_NAME = \"BERT_model/strf_cl-tohoku_bert-base-japanese-whole-word-masking32.75.10\"\n",
    "model = SentenceBertJapanese(MODEL_NAME)\n",
    "\n",
    "def SB_vec(docs):\n",
    "    sBERT = model.encode(docs)\n",
    "    sBERT_vecs=np.array(sBERT)\n",
    "    return (sBERT_vecs)\n",
    "find_sim_vec_sbert(a, th_str, th_vec, )"
   ]
  },
  {
   "cell_type": "code",
   "execution_count": 143,
   "id": "2d3d8ad3-db72-41cd-8c15-62a29fa11436",
   "metadata": {},
   "outputs": [
    {
     "name": "stdout",
     "output_type": "stream",
     "text": [
      "Main Word:___10/27に右膝の人工関節置換術目的で入院｡昨日夕 から動作時に増強する両上肢や顔面のﾐｵｸﾛｰﾇｽあり｡精査です｡ dvtや頸動脈ﾌﾟﾗｰｸの既往あります｡___\n",
      "10/27に右膝の人工関節置換術目的で入院｡昨日夕 から動作時に増強する両上肢や顔面のﾐｵｸﾛｰﾇｽあり｡精査です｡ dvtや頸動脈ﾌﾟﾗｰｸの既往あります｡ (Score: 0.0000)\n",
      "左上肢のﾐｵｸﾛｰﾇｽあり､中枢病変の確認目的です｡脳幹の異常ないでしょうか｡ (Score: 0.2236)\n",
      "左内頚動脈のﾌﾟﾗｰｸが以前からみとめられている方です｡ 今回atoaを疑う左大脳皮質の脳梗塞があり､入院中 です｡ﾌﾟﾗｰｸの状態評価目的での撮影をお願いいたします｡ 冠動脈ｽﾃﾝﾄ留置されていますが､mri撮影問題あ りません｡ (Score: 0.2278)\n",
      "6/18にてんかん発作があった方です｡ﾍﾟｰｽﾒｰｶ ｰ留置されおります｡てんかんの原因となるような器質性疾患がないか確認目的です｡mra､冠状断もお願い します｡ (Score: 0.2354)\n",
      "左半身のﾐｵｸﾛｰﾇｽが間欠的に出現｡ 日本脳炎後です｡ 器質的疾患の評価をお願い致します｡ (Score: 0.2445)\n"
     ]
    }
   ],
   "source": [
    "MODEL_NAME = \"BERT_model/strf_sonoisa_sentence-bert-base-ja-mean-tokens-v232.75.10\"\n",
    "model = SentenceBertJapanese(MODEL_NAME)\n",
    "def SB_vec(docs):\n",
    "    sBERT = model.encode(docs)\n",
    "    sBERT_vecs=np.array(sBERT)\n",
    "    return (sBERT_vecs)\n",
    "find_sim_vec_sbert(a, so_str, so_vec, )"
   ]
  },
  {
   "cell_type": "code",
   "execution_count": 144,
   "id": "4e792f79-f987-4230-ba4c-1b4faebb740a",
   "metadata": {},
   "outputs": [
    {
     "name": "stderr",
     "output_type": "stream",
     "text": [
      "The tokenizer class you load from this checkpoint is not the same type as the class this function is called from. It may result in unexpected tokenization. \n",
      "The tokenizer class you load from this checkpoint is 'BertTokenizer'. \n",
      "The class this function is called from is 'BertJapaneseTokenizer'.\n"
     ]
    },
    {
     "name": "stdout",
     "output_type": "stream",
     "text": [
      "Main Word:___10/27に右膝の人工関節置換術目的で入院｡昨日夕 から動作時に増強する両上肢や顔面のﾐｵｸﾛｰﾇｽあり｡精査です｡ dvtや頸動脈ﾌﾟﾗｰｸの既往あります｡___\n",
      "10/27に右膝の人工関節置換術目的で入院｡昨日夕 から動作時に増強する両上肢や顔面のﾐｵｸﾛｰﾇｽあり｡精査です｡ dvtや頸動脈ﾌﾟﾗｰｸの既往あります｡ (Score: 0.0000)\n",
      "上記術後｡右下肢痛増悪あり精査目的｡腰椎固定金属ｲﾝﾌﾟﾗﾝﾄあります｡ (Score: 0.0919)\n",
      "病診:遠藤ｸﾘﾆｯｸ 遠藤徹先生よりご紹介｡h28 年頃から腰痛､両下肢痛あり増悪寛解を繰り返し､r1 年10月受診｡腰椎手術歴あり｡脊柱管狭窄症を疑い腰 椎単純mriの依頼｡ (Score: 0.0926)\n",
      "右腓骨神経麻痺後にて当科定期通院中｡診察中に偶発的に右大腿後面に直径10cm大の皮下腫瘤あり｡mri による御精査お願い致します｡ (Score: 0.0937)\n",
      "炎症性脳炎､感染性脳炎､脳幹梗塞鑑別にて入院中の方ですが､mriﾌｫﾛｰ､精査目的です｡ 左膝に10年程まえに､十字靱帯の手術後金属留置中｡ mri施行歴あり｡ (Score: 0.0972)\n"
     ]
    }
   ],
   "source": [
    "MODEL_NAME = 'sonoisa/sentence-bert-base-ja-mean-tokens'\n",
    "model = SentenceBertJapanese(MODEL_NAME)\n",
    "def SB_vec(docs):\n",
    "    sBERT = model.encode(docs)\n",
    "    sBERT_vecs=np.array(sBERT)\n",
    "    return (sBERT_vecs)\n",
    "find_sim_vec_sbert(a, moto_str, moto_vec, )"
   ]
  },
  {
   "cell_type": "code",
   "execution_count": 145,
   "id": "1666b5db-4e4a-47d2-ba71-483bc77bc466",
   "metadata": {},
   "outputs": [],
   "source": [
    "#mecabtest"
   ]
  },
  {
   "cell_type": "raw",
   "id": "29dcc023-85ce-49b6-b81c-0a7fbaa22d60",
   "metadata": {},
   "source": [
    "a='MRCPとMRAを悪性黒色腫とグリオーマの人にお願い4dflow'"
   ]
  },
  {
   "cell_type": "raw",
   "id": "8300728c-ec5e-4f85-a6b7-88311d8f4ce1",
   "metadata": {},
   "source": [
    "import MeCab\n",
    "tagger = MeCab.Tagger(r\"-d /var/lib/mecab/dic/ipadic-utf8/ -u MANBYO_201907_Dic-utf8.dic -Owakati\")        \n",
    "result = tagger.parse(a).split()"
   ]
  },
  {
   "cell_type": "raw",
   "id": "6cf1ffec-5a5f-4a21-ad34-6f36865dde80",
   "metadata": {},
   "source": [
    "result"
   ]
  },
  {
   "cell_type": "code",
   "execution_count": null,
   "id": "6ff82056-bc54-4040-bfaf-4e20fe7c6978",
   "metadata": {},
   "outputs": [],
   "source": []
  },
  {
   "cell_type": "code",
   "execution_count": null,
   "id": "904cc522-19f4-400a-9268-1e294b75b704",
   "metadata": {},
   "outputs": [],
   "source": []
  },
  {
   "cell_type": "code",
   "execution_count": null,
   "id": "23923fb0-f30e-4354-8beb-dab6925caa6e",
   "metadata": {},
   "outputs": [],
   "source": []
  },
  {
   "cell_type": "code",
   "execution_count": null,
   "id": "b1cf3c40-0347-475a-aa23-ea545ee1a6a2",
   "metadata": {},
   "outputs": [],
   "source": []
  },
  {
   "cell_type": "code",
   "execution_count": null,
   "id": "77a963e1-ec10-47c1-b8c5-83ebdd9e3c4a",
   "metadata": {},
   "outputs": [],
   "source": []
  },
  {
   "cell_type": "code",
   "execution_count": null,
   "id": "be378c84-4934-4a67-b7ce-cee3f39d78b1",
   "metadata": {},
   "outputs": [],
   "source": []
  },
  {
   "cell_type": "code",
   "execution_count": null,
   "id": "bc5919e0-c13e-462a-ad6c-fafd4eaf432b",
   "metadata": {},
   "outputs": [],
   "source": []
  },
  {
   "cell_type": "code",
   "execution_count": 23,
   "id": "696a35aa-f8da-42a4-9e62-50b27f085520",
   "metadata": {},
   "outputs": [],
   "source": [
    "#三次元表示用\n"
   ]
  },
  {
   "cell_type": "code",
   "execution_count": 19,
   "id": "1a2b6405-a1d3-4379-a082-d28aa1771236",
   "metadata": {},
   "outputs": [],
   "source": [
    "import matplotlib.pyplot as plt\n",
    "import matplotlib as mpl\n",
    "mpl.rcParams['font.family'] = 'IPAexGothic'\n",
    "from sklearn.decomposition import PCA"
   ]
  },
  {
   "cell_type": "code",
   "execution_count": null,
   "id": "dadc800b-f648-4d2e-aede-c84c40bbc459",
   "metadata": {},
   "outputs": [],
   "source": [
    "data_pca= pca.transform(ftvecs[:15])\n",
    "data_pca.shape"
   ]
  },
  {
   "cell_type": "code",
   "execution_count": 115,
   "id": "7b65b79d-db1c-433d-8dca-2219480eb7d2",
   "metadata": {},
   "outputs": [
    {
     "data": {
      "text/plain": [
       "PCA(n_components=2)"
      ]
     },
     "execution_count": 115,
     "metadata": {},
     "output_type": "execute_result"
    }
   ],
   "source": [
    "pca = PCA(n_components=2)\n",
    "pca.fit(ftvecs)"
   ]
  },
  {
   "cell_type": "code",
   "execution_count": 116,
   "id": "ac3365f2-f967-4033-8013-577c146df338",
   "metadata": {},
   "outputs": [],
   "source": [
    "def OUT_vev_str(STR):\n",
    "    a = FT_vec(STR)\n",
    "    a = pca.transform(a)\n",
    "    return STR,a\n",
    "    "
   ]
  },
  {
   "cell_type": "code",
   "execution_count": 130,
   "id": "6291d254-7050-4514-8782-dfaaaba5625d",
   "metadata": {},
   "outputs": [],
   "source": [
    "docs,data_pca = OUT_vev_str(['大腸癌多発肝転移に対し､化学療法施行 肝転移に対する効果判定お願いします｡',\n",
    "                             'mrcpで膵頭部にipmn｡ 他院では癒合不全も疑われましたが当院のmrcpでは 否定的｡ipmn のfollow upです｡',\n",
    "                             '胆石症､総胆管結石切石後です｡ 胆摘術前 胆道系評価お願いします｡',\n",
    "                             '直腸癌術後､pet-ctで肝臓に集積を認めました｡ 肝臓再発の精査お願いします｡ ',\n",
    "                             'ctで胆嚢結石､胆嚢管石灰化､膵嚢胞｡胆膵中心に｡',\n",
    "                             '健診にて､肝腫瘤性病変の疑い､胆泥の疑い､胆嚢壁肥厚､胆嚢結石､脂肪肝などを指摘されている｡精査希望｡',\n",
    "                             '本日8時呂律困難発症の脳梗塞疑い｡',\n",
    "                             '2月4日左上下肢麻痺と構音障害で脳梗塞発症｡tpa 投与､血管内治療施行しました｡梗塞巣および血管狭窄病変のﾌｫﾛｰｱｯﾌﾟ目的です｡',\n",
    "                             '心原性脳塞栓ﾌｫﾛ-目的｡右片麻痺あるがも歩行可能です',\n",
    "                             ])"
   ]
  },
  {
   "cell_type": "code",
   "execution_count": 113,
   "id": "19196200-63de-4c24-ae1f-01cf5d1897b6",
   "metadata": {},
   "outputs": [
    {
     "data": {
      "image/png": "[encoded data removed]",
      "text/plain": [
       "<Figure size 1440x864 with 1 Axes>"
      ]
     },
     "metadata": {},
     "output_type": "display_data"
    }
   ],
   "source": [
    "#三次元\n",
    "fig = plt.figure(figsize=(20,12),facecolor='w')\n",
    "ax = fig.add_subplot(projection='3d')\n",
    "\n",
    "i = 0\n",
    "while i < 7:\n",
    "    #点プロット\n",
    "    ax.text(data_pca[i][0], data_pca[i][1], data_pca[i][2], docs[i])\n",
    "    #ax.scatter(x, y, z, color='green')\n",
    "    ax.scatter(data_pca[i][0], data_pca[i][1], data_pca[i][2], docs[i], color='r')\n",
    " \n",
    "    i += 1\n",
    "#\n",
    "#\n",
    "#ax.set_xlim(-2, 2)\n",
    "#ax.set_ylim(-2, 2)\n",
    "#ax.set_zlim(-2, 2)\n",
    "\n",
    "plt.show()\n",
    "fig.savefig('STR.png')"
   ]
  },
  {
   "cell_type": "code",
   "execution_count": 131,
   "id": "4fd4283c-919d-49a3-8459-eb185d628be9",
   "metadata": {},
   "outputs": [
    {
     "data": {
      "image/png": "[encoded data removed]",
      "text/plain": [
       "<Figure size 1440x864 with 1 Axes>"
      ]
     },
     "metadata": {},
     "output_type": "display_data"
    }
   ],
   "source": [
    "#2次元\n",
    "fig=plt.figure(figsize=(20,12),facecolor='w')\n",
    "\n",
    "plt.rcParams[\"font.size\"] = 10\n",
    "i = 0\n",
    "while i < 8:\n",
    "    #点プロット\n",
    "    plt.plot(data_pca[i][0], data_pca[i][1], marker=\"x\", color='b')\n",
    " \n",
    "    #文字プロット\n",
    "    plt.annotate(docs[i], (data_pca[i][0], data_pca[i][1]), size=12)\n",
    " \n",
    "    i += 1\n",
    "\n",
    "plt.show()\n",
    "fig.savefig('STR.png')"
   ]
  },
  {
   "cell_type": "code",
   "execution_count": null,
   "id": "23226378-b1cd-4a93-9f9b-ccf1a4631719",
   "metadata": {},
   "outputs": [],
   "source": []
  },
  {
   "cell_type": "code",
   "execution_count": 1,
   "id": "42aeafed-aea4-476e-88af-a41fbed5a9e6",
   "metadata": {},
   "outputs": [
    {
     "data": {
      "text/plain": [
       "['/usr/share/fonts/truetype/dejavu/DejaVuSans.ttf',\n",
       " '/usr/share/fonts/truetype/dejavu/DejaVuSansMono.ttf',\n",
       " '/usr/share/fonts/truetype/dejavu/DejaVuSerif.ttf',\n",
       " '/usr/share/fonts/truetype/dejavu/DejaVuSansMono-Bold.ttf',\n",
       " '/usr/share/fonts/truetype/dejavu/ipaexg.ttf',\n",
       " '/usr/share/fonts/truetype/dejavu/DejaVuSerif-Bold.ttf',\n",
       " '/usr/share/fonts/truetype/dejavu/DejaVuSans-Bold.ttf']"
      ]
     },
     "execution_count": 1,
     "metadata": {},
     "output_type": "execute_result"
    }
   ],
   "source": [
    "#フォントファイルの置き場所\n",
    "import matplotlib.font_manager as fm\n",
    "fm.findSystemFonts()"
   ]
  },
  {
   "cell_type": "code",
   "execution_count": 2,
   "id": "348e6b29-407e-4527-9a40-e22e776ab63f",
   "metadata": {},
   "outputs": [
    {
     "name": "stdout",
     "output_type": "stream",
     "text": [
      "['sans-serif']\n"
     ]
    }
   ],
   "source": [
    "import matplotlib\n",
    "print(matplotlib.rcParams['font.family'])"
   ]
  },
  {
   "cell_type": "code",
   "execution_count": 3,
   "id": "a2ff60f1-9c17-4bfd-b1cf-b1b1b2b61428",
   "metadata": {},
   "outputs": [
    {
     "name": "stdout",
     "output_type": "stream",
     "text": [
      "['STIXSizeTwoSym', 'STIXSizeOneSym', 'cmb10', 'STIXNonUnicode', 'cmex10', 'DejaVu Serif', 'cmss10', 'STIXGeneral', 'cmmi10', 'STIXSizeTwoSym', 'STIXGeneral', 'DejaVu Serif Display', 'DejaVu Sans Mono', 'DejaVu Sans', 'cmsy10', 'STIXGeneral', 'DejaVu Sans Mono', 'DejaVu Serif', 'STIXSizeFourSym', 'STIXNonUnicode', 'STIXSizeThreeSym', 'cmr10', 'STIXSizeFourSym', 'STIXSizeThreeSym', 'DejaVu Sans', 'STIXNonUnicode', 'DejaVu Serif', 'DejaVu Sans Display', 'DejaVu Sans Mono', 'DejaVu Sans Mono', 'DejaVu Serif', 'STIXSizeFiveSym', 'STIXNonUnicode', 'DejaVu Sans', 'STIXSizeOneSym', 'cmtt10', 'DejaVu Sans', 'STIXGeneral', 'DejaVu Sans', 'DejaVu Sans Mono', 'DejaVu Serif', 'DejaVu Sans Mono', 'IPAexGothic', 'DejaVu Serif', 'DejaVu Sans']\n"
     ]
    }
   ],
   "source": [
    "import matplotlib.font_manager\n",
    "print([f.name for f in matplotlib.font_manager.fontManager.ttflist])"
   ]
  },
  {
   "cell_type": "code",
   "execution_count": 4,
   "id": "451732dd-e292-4be2-b34a-7dfa746d5f43",
   "metadata": {},
   "outputs": [
    {
     "data": {
      "text/plain": [
       "'/usr/local/lib/python3.9/site-packages/matplotlib/mpl-data/matplotlibrc'"
      ]
     },
     "execution_count": 4,
     "metadata": {},
     "output_type": "execute_result"
    }
   ],
   "source": [
    "import matplotlib\n",
    "matplotlib.matplotlib_fname()"
   ]
  },
  {
   "cell_type": "code",
   "execution_count": 5,
   "id": "0c590002-5caf-4c69-b3bd-71b6e4656bb5",
   "metadata": {},
   "outputs": [
    {
     "data": {
      "text/plain": [
       "'/root/.config/matplotlib'"
      ]
     },
     "execution_count": 5,
     "metadata": {},
     "output_type": "execute_result"
    }
   ],
   "source": [
    "import matplotlib as mpl\n",
    "mpl.get_configdir()"
   ]
  },
  {
   "cell_type": "code",
   "execution_count": 6,
   "id": "446eaab4-1807-479c-9bab-2da3ea5fced6",
   "metadata": {},
   "outputs": [
    {
     "data": {
      "text/plain": [
       "Text(0.5, 1.0, 'あんぎお')"
      ]
     },
     "execution_count": 6,
     "metadata": {},
     "output_type": "execute_result"
    },
    {
     "data": {
      "image/png": "[encoded data removed]",
      "text/plain": [
       "<Figure size 432x288 with 1 Axes>"
      ]
     },
     "metadata": {
      "needs_background": "light"
     },
     "output_type": "display_data"
    }
   ],
   "source": [
    "import matplotlib.pyplot as plt\n",
    "plt.figure\n",
    "mpl.rcParams['font.family'] = 'IPAexGothic'\n",
    "plt.title('あんぎお')"
   ]
  },
  {
   "cell_type": "code",
   "execution_count": null,
   "id": "4f9afbbf-f544-4f2c-bd51-71ccf11f5706",
   "metadata": {},
   "outputs": [],
   "source": [
    "IPAexGothic"
   ]
  },
  {
   "cell_type": "code",
   "execution_count": null,
   "id": "bab03576-28f6-4775-883e-e64cfff87214",
   "metadata": {},
   "outputs": [],
   "source": []
  }
 ],
 "metadata": {
  "kernelspec": {
   "display_name": "Python 3 (ipykernel)",
   "language": "python",
   "name": "python3"
  },
  "language_info": {
   "codemirror_mode": {
    "name": "ipython",
    "version": 3
   },
   "file_extension": ".py",
   "mimetype": "text/x-python",
   "name": "python",
   "nbconvert_exporter": "python",
   "pygments_lexer": "ipython3",
   "version": "3.9.10"
  }
 },
 "nbformat": 4,
 "nbformat_minor": 5
}
