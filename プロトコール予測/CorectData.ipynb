{
 "cells": [
  {
   "cell_type": "code",
   "execution_count": 51,
   "id": "c4de2c3a-2a8a-4e35-9583-b5a68c6a1f40",
   "metadata": {},
   "outputs": [],
   "source": [
    "import numpy as np\n",
    "import pandas as pd "
   ]
  },
  {
   "cell_type": "code",
   "execution_count": 52,
   "id": "dfbff31e-5526-4e2a-95ce-30f6ec3b09da",
   "metadata": {},
   "outputs": [],
   "source": [
    "import matplotlib.pyplot as plt\n",
    "import seaborn as sns\n",
    "from sklearn.metrics import mean_squared_error\n",
    "from sklearn.model_selection import train_test_split\n"
   ]
  },
  {
   "cell_type": "code",
   "execution_count": 53,
   "id": "096f0c0b-1fe0-49e1-80f3-735265733b0a",
   "metadata": {},
   "outputs": [],
   "source": [
    "from modules import TrainData, one_hot ,position_transform, wakati, meishi,FastText_Vectrizer,rename_section,exam_preprosses,to_vec"
   ]
  },
  {
   "cell_type": "code",
   "execution_count": 54,
   "id": "2f006c21-8400-455f-9f4c-c1b403220d3d",
   "metadata": {},
   "outputs": [],
   "source": [
    "# データの修正"
   ]
  },
  {
   "cell_type": "code",
   "execution_count": 95,
   "id": "00b12104-66c9-4b01-a160-df2f13333803",
   "metadata": {},
   "outputs": [],
   "source": [
    "df = pd.read_csv('DATA20200401_20220331(修正後).csv', encoding='cp932', header=None)"
   ]
  },
  {
   "cell_type": "code",
   "execution_count": 96,
   "id": "5f898fac-69b0-4cc3-935c-9121cec2933d",
   "metadata": {},
   "outputs": [
    {
     "data": {
      "text/plain": [
       "array(['A1', 'A2', 'AB1', 'AB3', 'AB4', 'AB5', 'AB6', 'B1', 'B2', 'BL1',\n",
       "       'C1', 'C2', 'C３', 'C3', 'C3.', 'DW', 'H1', 'H10', 'H12', 'H13',\n",
       "       'H13 ', 'H14', 'H15', 'H16', 'H17', 'H18', 'H19', 'H2', 'H20',\n",
       "       'H3', 'H4', 'H5', 'H6', 'H6\\n', 'H7', 'H７', 'H7.', 'H8', 'H８',\n",
       "       'H9', 'HS', 'K1', 'K2', 'L1', 'L2', 'L3', 'L4', 'L5', 'LI1',\n",
       "       'LI1\\n', 'LI2', 'LI3', 'LI3\\n', 'LI4', 'N1', 'P1', 'PL1', 'R1',\n",
       "       'R2', 'S1', 'S1\\n', 'S2', 'S3', 'S4', 'S5', 'S6', 'S7', 'S9', 'U1',\n",
       "       'U2', 'U3', 'U4', 'U5', nan], dtype=object)"
      ]
     },
     "execution_count": 96,
     "metadata": {},
     "output_type": "execute_result"
    }
   ],
   "source": [
    "# ラベルの間違い修正\n",
    "df[3].unique()"
   ]
  },
  {
   "cell_type": "code",
   "execution_count": 97,
   "id": "d060e0de-ec3d-4e3b-b78d-a25892523154",
   "metadata": {},
   "outputs": [],
   "source": [
    "df[3]=df[3].replace(['C３', 'C3', 'C3.'], 'C3')\n",
    "df[3]=df[3].replace(['H13', 'H13 '], 'H13')\n",
    "df[3]=df[3].replace(['H6', 'H6\\n'], 'H6')\n",
    "df[3]=df[3].replace(['H7', 'H７', 'H7.'], 'H7')\n",
    "df[3]=df[3].replace(['H8', 'H８'], 'H8')\n",
    "df[3]=df[3].replace(['LI3\\n'], 'LI3')\n",
    "df[3]=df[3].replace(['S1', 'S1\\n'], 'S1')\n",
    "df[3]=df[3].replace(['LI1','LI1\\n'], 'LI1')"
   ]
  },
  {
   "cell_type": "code",
   "execution_count": 98,
   "id": "2024df53-4961-48c6-b02d-86cffb3dbdf2",
   "metadata": {},
   "outputs": [
    {
     "data": {
      "text/html": [
       "<div>\n",
       "<style scoped>\n",
       "    .dataframe tbody tr th:only-of-type {\n",
       "        vertical-align: middle;\n",
       "    }\n",
       "\n",
       "    .dataframe tbody tr th {\n",
       "        vertical-align: top;\n",
       "    }\n",
       "\n",
       "    .dataframe thead th {\n",
       "        text-align: right;\n",
       "    }\n",
       "</style>\n",
       "<table border=\"1\" class=\"dataframe\">\n",
       "  <thead>\n",
       "    <tr style=\"text-align: right;\">\n",
       "      <th></th>\n",
       "      <th>0</th>\n",
       "      <th>1</th>\n",
       "      <th>2</th>\n",
       "      <th>3</th>\n",
       "      <th>4</th>\n",
       "      <th>5</th>\n",
       "      <th>6</th>\n",
       "      <th>7</th>\n",
       "      <th>8</th>\n",
       "    </tr>\n",
       "  </thead>\n",
       "  <tbody>\n",
       "    <tr>\n",
       "      <th>4063</th>\n",
       "      <td>11</td>\n",
       "      <td>女</td>\n",
       "      <td>耳鼻</td>\n",
       "      <td>H14</td>\n",
       "      <td>頭部(脳)</td>\n",
       "      <td>嗅球プロトコル。先天性嗅覚障害です ３Tでお願いします。</td>\n",
       "      <td>くも膜のう胞</td>\n",
       "      <td>依頼通りに嗅球プロトコル</td>\n",
       "      <td>単純</td>\n",
       "    </tr>\n",
       "  </tbody>\n",
       "</table>\n",
       "</div>"
      ],
      "text/plain": [
       "       0  1   2    3      4                             5       6  \\\n",
       "4063  11  女  耳鼻  H14  頭部(脳)  嗅球プロトコル。先天性嗅覚障害です ３Tでお願いします。  くも膜のう胞   \n",
       "\n",
       "                 7   8  \n",
       "4063  依頼通りに嗅球プロトコル  単純  "
      ]
     },
     "execution_count": 98,
     "metadata": {},
     "output_type": "execute_result"
    }
   ],
   "source": [
    "df[df[3]=='H14']"
   ]
  },
  {
   "cell_type": "code",
   "execution_count": 99,
   "id": "d0174b2b-e311-453a-96fa-c91d677c5acf",
   "metadata": {},
   "outputs": [],
   "source": [
    "df[2] = df[2].replace('H1', '脳外')"
   ]
  },
  {
   "cell_type": "code",
   "execution_count": 100,
   "id": "d6688531-f98c-4ae5-b99f-799ba8a464a3",
   "metadata": {},
   "outputs": [],
   "source": [
    "df[3] = df[3].replace('H14', 'N1')"
   ]
  },
  {
   "cell_type": "code",
   "execution_count": 101,
   "id": "9a7615ab-1306-4d4e-b406-f7fd8e85b532",
   "metadata": {},
   "outputs": [
    {
     "data": {
      "text/html": [
       "<div>\n",
       "<style scoped>\n",
       "    .dataframe tbody tr th:only-of-type {\n",
       "        vertical-align: middle;\n",
       "    }\n",
       "\n",
       "    .dataframe tbody tr th {\n",
       "        vertical-align: top;\n",
       "    }\n",
       "\n",
       "    .dataframe thead th {\n",
       "        text-align: right;\n",
       "    }\n",
       "</style>\n",
       "<table border=\"1\" class=\"dataframe\">\n",
       "  <thead>\n",
       "    <tr style=\"text-align: right;\">\n",
       "      <th></th>\n",
       "      <th>0</th>\n",
       "      <th>1</th>\n",
       "      <th>2</th>\n",
       "      <th>3</th>\n",
       "      <th>4</th>\n",
       "      <th>5</th>\n",
       "      <th>6</th>\n",
       "      <th>7</th>\n",
       "      <th>8</th>\n",
       "    </tr>\n",
       "  </thead>\n",
       "  <tbody>\n",
       "    <tr>\n",
       "      <th>3</th>\n",
       "      <td>55</td>\n",
       "      <td>男</td>\n",
       "      <td>血内</td>\n",
       "      <td>A2</td>\n",
       "      <td>下肢血管：静脈（単純）</td>\n",
       "      <td>上記症例。　左下肢血栓症の疑い。本人の訴えは、大腿部から下腿にかけてです。　本人の強い希望に...</td>\n",
       "      <td>多発性骨髄腫</td>\n",
       "      <td>NaN</td>\n",
       "      <td>単純</td>\n",
       "    </tr>\n",
       "    <tr>\n",
       "      <th>128</th>\n",
       "      <td>80</td>\n",
       "      <td>女</td>\n",
       "      <td>放科</td>\n",
       "      <td>AB3</td>\n",
       "      <td>骨盤部</td>\n",
       "      <td>病診：いしやま内科整形外科よりご紹介。腹部不快感で受診。腹部エコーで卵巣腫大の疑い。精査目的。</td>\n",
       "      <td>卵巣腫瘍の疑い</td>\n",
       "      <td>NaN</td>\n",
       "      <td>単純</td>\n",
       "    </tr>\n",
       "    <tr>\n",
       "      <th>206</th>\n",
       "      <td>32</td>\n",
       "      <td>女</td>\n",
       "      <td>脳内</td>\n",
       "      <td>AB3</td>\n",
       "      <td>婦人科下腹部</td>\n",
       "      <td>NMDA受容体脳炎疑いで救急搬送。下腹部CTで奇形 腫の疑いあり。MRIにて精査お願いします。</td>\n",
       "      <td>卵巣奇形腫の疑い</td>\n",
       "      <td>NaN</td>\n",
       "      <td>単純</td>\n",
       "    </tr>\n",
       "    <tr>\n",
       "      <th>327</th>\n",
       "      <td>45</td>\n",
       "      <td>女</td>\n",
       "      <td>放科</td>\n",
       "      <td>AB3</td>\n",
       "      <td>婦人科下腹部</td>\n",
       "      <td>病診 不整出血にて受診、自然に改善したが、その際の診察エコーにて左卵巣腫瘍を疑う（卵管血腫？...</td>\n",
       "      <td>卵巣腫瘍</td>\n",
       "      <td>NaN</td>\n",
       "      <td>単純</td>\n",
       "    </tr>\n",
       "    <tr>\n",
       "      <th>375</th>\n",
       "      <td>52</td>\n",
       "      <td>女</td>\n",
       "      <td>母女</td>\n",
       "      <td>AB3</td>\n",
       "      <td>婦人科下腹部</td>\n",
       "      <td>急性腹症で救急受診した患者。 骨盤内に充実部分を伴う嚢胞性腫瘤および腹水あり。 精査目的です。</td>\n",
       "      <td>卵巣癌の疑い</td>\n",
       "      <td>NaN</td>\n",
       "      <td>単純＋造影Gd</td>\n",
       "    </tr>\n",
       "    <tr>\n",
       "      <th>...</th>\n",
       "      <td>...</td>\n",
       "      <td>...</td>\n",
       "      <td>...</td>\n",
       "      <td>...</td>\n",
       "      <td>...</td>\n",
       "      <td>...</td>\n",
       "      <td>...</td>\n",
       "      <td>...</td>\n",
       "      <td>...</td>\n",
       "    </tr>\n",
       "    <tr>\n",
       "      <th>18754</th>\n",
       "      <td>84</td>\n",
       "      <td>女</td>\n",
       "      <td>救急</td>\n",
       "      <td>S5</td>\n",
       "      <td>全脊椎(単純)Sagのみ</td>\n",
       "      <td>1ヶ月ほど前より背部痛あり。3/23CTで複数の圧 迫骨折指摘を指摘された。何とか歩行できて...</td>\n",
       "      <td>胸腰椎圧迫骨折</td>\n",
       "      <td>NaN</td>\n",
       "      <td>単純</td>\n",
       "    </tr>\n",
       "    <tr>\n",
       "      <th>18761</th>\n",
       "      <td>89</td>\n",
       "      <td>女</td>\n",
       "      <td>心外</td>\n",
       "      <td>S5</td>\n",
       "      <td>全脊椎(単純)Sagのみ</td>\n",
       "      <td>亜急性に進行する下肢運動障害あり。 頸椎～胸椎～腰椎の腫瘍性病変や脊髄疾患精査目的です。</td>\n",
       "      <td>脊髄腫瘍</td>\n",
       "      <td>NaN</td>\n",
       "      <td>単純</td>\n",
       "    </tr>\n",
       "    <tr>\n",
       "      <th>18839</th>\n",
       "      <td>44</td>\n",
       "      <td>女</td>\n",
       "      <td>脳外</td>\n",
       "      <td>S6</td>\n",
       "      <td>脊椎(委任)</td>\n",
       "      <td>全脊髄FIESTA axial (volumeでな くても良いから脂肪抑制) かならずaxi...</td>\n",
       "      <td>脳脊髄液漏出症の疑い</td>\n",
       "      <td>NaN</td>\n",
       "      <td>単純</td>\n",
       "    </tr>\n",
       "    <tr>\n",
       "      <th>19285</th>\n",
       "      <td>25</td>\n",
       "      <td>男</td>\n",
       "      <td>整形</td>\n",
       "      <td>U3</td>\n",
       "      <td>手関節</td>\n",
       "      <td>左TFCC損傷疑いです ECU腱は腱鞘から脱臼している状況です。</td>\n",
       "      <td>左ＴＦＣＣ損傷</td>\n",
       "      <td>NaN</td>\n",
       "      <td>単純</td>\n",
       "    </tr>\n",
       "    <tr>\n",
       "      <th>19336</th>\n",
       "      <td>14</td>\n",
       "      <td>男</td>\n",
       "      <td>小児</td>\n",
       "      <td>NaN</td>\n",
       "      <td>頚部</td>\n",
       "      <td>3月より右頚部リンパ節腫脹あり。増大傾向あり近医受診、近医で生検後、当院に5月22日受診。悪...</td>\n",
       "      <td>右頚部リンパ節腫瘍</td>\n",
       "      <td>2枠あり。こちらにまとめて記載します。\\r\\nBUN CRE n.p 腎機能OK\\r\\n同意...</td>\n",
       "      <td>単純＋造影Gd</td>\n",
       "    </tr>\n",
       "  </tbody>\n",
       "</table>\n",
       "<p>463 rows × 9 columns</p>\n",
       "</div>"
      ],
      "text/plain": [
       "        0  1   2    3             4  \\\n",
       "3      55  男  血内   A2   下肢血管：静脈（単純）   \n",
       "128    80  女  放科  AB3           骨盤部   \n",
       "206    32  女  脳内  AB3        婦人科下腹部   \n",
       "327    45  女  放科  AB3        婦人科下腹部   \n",
       "375    52  女  母女  AB3        婦人科下腹部   \n",
       "...    .. ..  ..  ...           ...   \n",
       "18754  84  女  救急   S5  全脊椎(単純)Sagのみ   \n",
       "18761  89  女  心外   S5  全脊椎(単純)Sagのみ   \n",
       "18839  44  女  脳外   S6        脊椎(委任)   \n",
       "19285  25  男  整形   U3           手関節   \n",
       "19336  14  男  小児  NaN            頚部   \n",
       "\n",
       "                                                       5           6  \\\n",
       "3      上記症例。　左下肢血栓症の疑い。本人の訴えは、大腿部から下腿にかけてです。　本人の強い希望に...      多発性骨髄腫   \n",
       "128      病診：いしやま内科整形外科よりご紹介。腹部不快感で受診。腹部エコーで卵巣腫大の疑い。精査目的。     卵巣腫瘍の疑い   \n",
       "206      NMDA受容体脳炎疑いで救急搬送。下腹部CTで奇形 腫の疑いあり。MRIにて精査お願いします。    卵巣奇形腫の疑い   \n",
       "327    病診 不整出血にて受診、自然に改善したが、その際の診察エコーにて左卵巣腫瘍を疑う（卵管血腫？...        卵巣腫瘍   \n",
       "375      急性腹症で救急受診した患者。 骨盤内に充実部分を伴う嚢胞性腫瘤および腹水あり。 精査目的です。      卵巣癌の疑い   \n",
       "...                                                  ...         ...   \n",
       "18754  1ヶ月ほど前より背部痛あり。3/23CTで複数の圧 迫骨折指摘を指摘された。何とか歩行できて...     胸腰椎圧迫骨折   \n",
       "18761       亜急性に進行する下肢運動障害あり。 頸椎～胸椎～腰椎の腫瘍性病変や脊髄疾患精査目的です。        脊髄腫瘍   \n",
       "18839  全脊髄FIESTA axial (volumeでな くても良いから脂肪抑制) かならずaxi...  脳脊髄液漏出症の疑い   \n",
       "19285                   左TFCC損傷疑いです ECU腱は腱鞘から脱臼している状況です。     左ＴＦＣＣ損傷   \n",
       "19336  3月より右頚部リンパ節腫脹あり。増大傾向あり近医受診、近医で生検後、当院に5月22日受診。悪...   右頚部リンパ節腫瘍   \n",
       "\n",
       "                                                       7        8  \n",
       "3                                                    NaN       単純  \n",
       "128                                                  NaN       単純  \n",
       "206                                                  NaN       単純  \n",
       "327                                                  NaN       単純  \n",
       "375                                                  NaN  単純＋造影Gd  \n",
       "...                                                  ...      ...  \n",
       "18754                                                NaN       単純  \n",
       "18761                                                NaN       単純  \n",
       "18839                                                NaN       単純  \n",
       "19285                                                NaN       単純  \n",
       "19336  2枠あり。こちらにまとめて記載します。\\r\\nBUN CRE n.p 腎機能OK\\r\\n同意...  単純＋造影Gd  \n",
       "\n",
       "[463 rows x 9 columns]"
      ]
     },
     "execution_count": 101,
     "metadata": {},
     "output_type": "execute_result"
    }
   ],
   "source": [
    "df[df.isnull().any(axis=1)]"
   ]
  },
  {
   "cell_type": "code",
   "execution_count": 102,
   "id": "7e224bbf-7297-453d-9ee1-60df0e3fd9aa",
   "metadata": {},
   "outputs": [],
   "source": [
    "df = df.dropna()"
   ]
  },
  {
   "cell_type": "code",
   "execution_count": 103,
   "id": "bb0183f1-68dd-44ae-923b-bc1570cd971b",
   "metadata": {},
   "outputs": [],
   "source": [
    "df.loc[df[2].str.contains('総診'), 2] = '救急'\n",
    "df.loc[df[2].str.contains('ﾍﾟｲﾝ'), 2] = '麻酔'"
   ]
  },
  {
   "cell_type": "code",
   "execution_count": 104,
   "id": "713f931d-fd0e-492a-8b7b-c8545492ddbb",
   "metadata": {},
   "outputs": [],
   "source": [
    "del df[7]"
   ]
  },
  {
   "cell_type": "code",
   "execution_count": 105,
   "id": "8ef9dafd-625f-4261-b961-4292f3f6fec4",
   "metadata": {},
   "outputs": [],
   "source": [
    "df[3] = df[3].replace('S7', 'S6')\n",
    "df[3] = df[3].replace('LI4', 'LI3')"
   ]
  },
  {
   "cell_type": "code",
   "execution_count": 106,
   "id": "a1e17347-a988-433e-bcf1-03d960107014",
   "metadata": {},
   "outputs": [
    {
     "data": {
      "text/plain": [
       "array(['A1', 'A2', 'AB1', 'AB3', 'AB4', 'AB5', 'AB6', 'B1', 'B2', 'BL1',\n",
       "       'C1', 'C2', 'C3', 'DW', 'H1', 'H10', 'H12', 'H13', 'N1', 'H15',\n",
       "       'H16', 'H17', 'H18', 'H19', 'H2', 'H20', 'H3', 'H4', 'H5', 'H6',\n",
       "       'H7', 'H8', 'H9', 'HS', 'K1', 'K2', 'L1', 'L2', 'L3', 'L4', 'L5',\n",
       "       'LI1', 'LI2', 'LI3', 'P1', 'PL1', 'R1', 'R2', 'S1', 'S2', 'S3',\n",
       "       'S4', 'S5', 'S6', 'S9', 'U1', 'U2', 'U3', 'U4', 'U5'], dtype=object)"
      ]
     },
     "execution_count": 106,
     "metadata": {},
     "output_type": "execute_result"
    }
   ],
   "source": [
    "df[3].unique()"
   ]
  },
  {
   "cell_type": "code",
   "execution_count": 107,
   "id": "a22454fa-e32d-452c-94b9-851ab3cef19a",
   "metadata": {},
   "outputs": [
    {
     "data": {
      "text/plain": [
       "array(['脳内', '心外', '腎内', '皮膚', '循内', '内泌', '形外', '小児', '消外', '整形', '消内',\n",
       "       '腫内', '放科', '泌尿', '救急', '母女', '乳一', '耳鼻', '精神', '呼外', '血内', '呼内',\n",
       "       '口外', '脳外', '眼科', '麻酔'], dtype=object)"
      ]
     },
     "execution_count": 107,
     "metadata": {},
     "output_type": "execute_result"
    }
   ],
   "source": [
    "df[2].unique()"
   ]
  },
  {
   "cell_type": "code",
   "execution_count": 108,
   "id": "7ee399e3-144c-44a4-bcb5-1e878de4651d",
   "metadata": {},
   "outputs": [
    {
     "data": {
      "text/plain": [
       "array(['胸部委任', '下肢血管：動脈（単純）', '下腿部', '下腹部(一般)', '腰椎(髄)', '骨盤部',\n",
       "       '上腹部(肝胆膵他）', '上腹部委任', '腎臓', '婦人科下腹部', '泌尿器系下腹部', '胎児撮影(AFG)',\n",
       "       '腸管(経口法)', 'MRdevice骨盤部', 'MRdevice腹部', '下肢(委任)', '眼窩', '胸部(郭)',\n",
       "       '頚部', '頚部(委任)', '肩関節', '肩軟部', '股関節', '上下顎部', '上肢(委任)', '上腹部血管(造影）',\n",
       "       '上腕部', '脊椎(委任)', '前腕部', '足関節', '足及び足指', '大腿部', '頭部(委任)', '頭部(脳)',\n",
       "       '内耳(後頭蓋窩)', '乳房', '副鼻腔', '膝関節', '手関節', '手及び手指', '手首軟部', '足首軟部',\n",
       "       '膝軟部', '肘関節', '肘軟部', '膀胱', '縦隔', 'MRdevice胸部', '心臓', '乳房Dynamic',\n",
       "       'WB MRI', '全脊椎(単純)Sagのみ', 'MRA頚部', 'MRA脳', 'MRdevice頭頸部', '顎関節',\n",
       "       '頭部,頚部(他)', '下垂体', '下垂体Dynamic', '全脊椎(造影)Sagのみ', '頚椎(髄)',\n",
       "       '上腹部血管(単純）', '腎動脈（単純)', '副腎', '下腹部血管(単純）', 'MRdevice下肢',\n",
       "       '上肢血管（造影）', '下肢血管：動脈（造影）', '胆道系(MRCP)', '前立腺', '下腹部委任', '直腸',\n",
       "       '尿路系MR[VCG(単純)]', '胸椎(髄)', 'MRdevice上肢'], dtype=object)"
      ]
     },
     "execution_count": 108,
     "metadata": {},
     "output_type": "execute_result"
    }
   ],
   "source": [
    "df[4].unique()"
   ]
  },
  {
   "cell_type": "code",
   "execution_count": 109,
   "id": "a8258e25-41ee-4272-a6d6-f9ec290fea7d",
   "metadata": {},
   "outputs": [],
   "source": [
    "df=df.rename(columns={0:'year',1:'sex',2:'section',3:'label',4:'position',5:'purpose',6:'diagnosis',8:'CE'})"
   ]
  },
  {
   "cell_type": "code",
   "execution_count": 110,
   "id": "b5b60051-c211-454b-8f71-1a4959e89685",
   "metadata": {},
   "outputs": [
    {
     "data": {
      "text/html": [
       "<div>\n",
       "<style scoped>\n",
       "    .dataframe tbody tr th:only-of-type {\n",
       "        vertical-align: middle;\n",
       "    }\n",
       "\n",
       "    .dataframe tbody tr th {\n",
       "        vertical-align: top;\n",
       "    }\n",
       "\n",
       "    .dataframe thead th {\n",
       "        text-align: right;\n",
       "    }\n",
       "</style>\n",
       "<table border=\"1\" class=\"dataframe\">\n",
       "  <thead>\n",
       "    <tr style=\"text-align: right;\">\n",
       "      <th></th>\n",
       "      <th>year</th>\n",
       "      <th>sex</th>\n",
       "      <th>section</th>\n",
       "      <th>label</th>\n",
       "      <th>position</th>\n",
       "      <th>purpose</th>\n",
       "      <th>diagnosis</th>\n",
       "      <th>CE</th>\n",
       "    </tr>\n",
       "  </thead>\n",
       "  <tbody>\n",
       "    <tr>\n",
       "      <th>0</th>\n",
       "      <td>46</td>\n",
       "      <td>男</td>\n",
       "      <td>脳内</td>\n",
       "      <td>A1</td>\n",
       "      <td>胸部委任</td>\n",
       "      <td>脳梗塞原因検査中の方です。 恐縮ですが、大動脈プラークイメージおよび、頚部動脈プラークイメー...</td>\n",
       "      <td>アテローム血栓性脳梗塞・急性期</td>\n",
       "      <td>単純</td>\n",
       "    </tr>\n",
       "    <tr>\n",
       "      <th>1</th>\n",
       "      <td>72</td>\n",
       "      <td>男</td>\n",
       "      <td>脳内</td>\n",
       "      <td>A1</td>\n",
       "      <td>胸部委任</td>\n",
       "      <td>動脈硬化リスクの高い方。 無症候性脳梗塞の繰り返しのためAorta imag eも含め、弓部...</td>\n",
       "      <td>冠動脈バイパス術後 左鎖骨下動脈狭窄症</td>\n",
       "      <td>単純</td>\n",
       "    </tr>\n",
       "    <tr>\n",
       "      <th>2</th>\n",
       "      <td>72</td>\n",
       "      <td>女</td>\n",
       "      <td>心外</td>\n",
       "      <td>A1</td>\n",
       "      <td>胸部委任</td>\n",
       "      <td>術前精査</td>\n",
       "      <td>鎖骨下動脈瘤</td>\n",
       "      <td>単純</td>\n",
       "    </tr>\n",
       "    <tr>\n",
       "      <th>4</th>\n",
       "      <td>48</td>\n",
       "      <td>男</td>\n",
       "      <td>腎内</td>\n",
       "      <td>A2</td>\n",
       "      <td>下肢血管：動脈（単純）</td>\n",
       "      <td>糖尿病、血液透析中の患者さん。 両下肢の歩行時痺れ痛み。間欠性跛行あり。 ASOの精査目的</td>\n",
       "      <td>下肢閉塞性動脈硬化症</td>\n",
       "      <td>単純</td>\n",
       "    </tr>\n",
       "    <tr>\n",
       "      <th>5</th>\n",
       "      <td>60</td>\n",
       "      <td>女</td>\n",
       "      <td>皮膚</td>\n",
       "      <td>A2</td>\n",
       "      <td>下肢血管：動脈（単純）</td>\n",
       "      <td>上記で加療中です。足趾潰瘍と色調不良の悪化あります。血管の 状態悪化ありますでしょうか。</td>\n",
       "      <td>四肢バージャー病</td>\n",
       "      <td>単純</td>\n",
       "    </tr>\n",
       "    <tr>\n",
       "      <th>...</th>\n",
       "      <td>...</td>\n",
       "      <td>...</td>\n",
       "      <td>...</td>\n",
       "      <td>...</td>\n",
       "      <td>...</td>\n",
       "      <td>...</td>\n",
       "      <td>...</td>\n",
       "      <td>...</td>\n",
       "    </tr>\n",
       "    <tr>\n",
       "      <th>19331</th>\n",
       "      <td>64</td>\n",
       "      <td>女</td>\n",
       "      <td>整形</td>\n",
       "      <td>U5</td>\n",
       "      <td>肘関節</td>\n",
       "      <td>右肘痛精査目的</td>\n",
       "      <td>関節リウマチ・肘関節</td>\n",
       "      <td>単純</td>\n",
       "    </tr>\n",
       "    <tr>\n",
       "      <th>19332</th>\n",
       "      <td>67</td>\n",
       "      <td>女</td>\n",
       "      <td>整形</td>\n",
       "      <td>U5</td>\n",
       "      <td>肘関節</td>\n",
       "      <td>1ヶ月ほど前～左肘内側のしこり、圧痛あり CTで1cm程度の腫瘤？あります</td>\n",
       "      <td>関節リウマチ</td>\n",
       "      <td>単純</td>\n",
       "    </tr>\n",
       "    <tr>\n",
       "      <th>19333</th>\n",
       "      <td>73</td>\n",
       "      <td>男</td>\n",
       "      <td>整形</td>\n",
       "      <td>U5</td>\n",
       "      <td>肘関節</td>\n",
       "      <td>左肘部管症候群疑い　尺骨神経精査</td>\n",
       "      <td>左肘部管症候群</td>\n",
       "      <td>単純</td>\n",
       "    </tr>\n",
       "    <tr>\n",
       "      <th>19334</th>\n",
       "      <td>73</td>\n",
       "      <td>男</td>\n",
       "      <td>整形</td>\n",
       "      <td>U5</td>\n",
       "      <td>肘関節</td>\n",
       "      <td>肘部管精査目的　左尺骨神経障害</td>\n",
       "      <td>左肘部管症候群</td>\n",
       "      <td>単純</td>\n",
       "    </tr>\n",
       "    <tr>\n",
       "      <th>19335</th>\n",
       "      <td>52</td>\n",
       "      <td>女</td>\n",
       "      <td>整形</td>\n",
       "      <td>U5</td>\n",
       "      <td>肘軟部</td>\n",
       "      <td>左肘の腫瘍は無いかどうかの精査です。症状は後骨間神経麻痺があります。腫瘍などの存在で神経の圧...</td>\n",
       "      <td>左後骨間神経麻痺</td>\n",
       "      <td>単純</td>\n",
       "    </tr>\n",
       "  </tbody>\n",
       "</table>\n",
       "<p>18874 rows × 8 columns</p>\n",
       "</div>"
      ],
      "text/plain": [
       "       year sex section label     position  \\\n",
       "0        46   男      脳内    A1         胸部委任   \n",
       "1        72   男      脳内    A1         胸部委任   \n",
       "2        72   女      心外    A1         胸部委任   \n",
       "4        48   男      腎内    A2  下肢血管：動脈（単純）   \n",
       "5        60   女      皮膚    A2  下肢血管：動脈（単純）   \n",
       "...     ...  ..     ...   ...          ...   \n",
       "19331    64   女      整形    U5          肘関節   \n",
       "19332    67   女      整形    U5          肘関節   \n",
       "19333    73   男      整形    U5          肘関節   \n",
       "19334    73   男      整形    U5          肘関節   \n",
       "19335    52   女      整形    U5          肘軟部   \n",
       "\n",
       "                                                 purpose            diagnosis  \\\n",
       "0      脳梗塞原因検査中の方です。 恐縮ですが、大動脈プラークイメージおよび、頚部動脈プラークイメー...      アテローム血栓性脳梗塞・急性期   \n",
       "1      動脈硬化リスクの高い方。 無症候性脳梗塞の繰り返しのためAorta imag eも含め、弓部...  冠動脈バイパス術後 左鎖骨下動脈狭窄症   \n",
       "2                                                   術前精査               鎖骨下動脈瘤   \n",
       "4          糖尿病、血液透析中の患者さん。 両下肢の歩行時痺れ痛み。間欠性跛行あり。 ASOの精査目的           下肢閉塞性動脈硬化症   \n",
       "5           上記で加療中です。足趾潰瘍と色調不良の悪化あります。血管の 状態悪化ありますでしょうか。             四肢バージャー病   \n",
       "...                                                  ...                  ...   \n",
       "19331                                            右肘痛精査目的           関節リウマチ・肘関節   \n",
       "19332              1ヶ月ほど前～左肘内側のしこり、圧痛あり CTで1cm程度の腫瘤？あります               関節リウマチ   \n",
       "19333                                   左肘部管症候群疑い　尺骨神経精査              左肘部管症候群   \n",
       "19334                                    肘部管精査目的　左尺骨神経障害              左肘部管症候群   \n",
       "19335  左肘の腫瘍は無いかどうかの精査です。症状は後骨間神経麻痺があります。腫瘍などの存在で神経の圧...             左後骨間神経麻痺   \n",
       "\n",
       "       CE  \n",
       "0      単純  \n",
       "1      単純  \n",
       "2      単純  \n",
       "4      単純  \n",
       "5      単純  \n",
       "...    ..  \n",
       "19331  単純  \n",
       "19332  単純  \n",
       "19333  単純  \n",
       "19334  単純  \n",
       "19335  単純  \n",
       "\n",
       "[18874 rows x 8 columns]"
      ]
     },
     "execution_count": 110,
     "metadata": {},
     "output_type": "execute_result"
    }
   ],
   "source": [
    "df"
   ]
  },
  {
   "cell_type": "code",
   "execution_count": 111,
   "id": "3aea4623-7d20-444d-aff6-c4f451fb55f4",
   "metadata": {},
   "outputs": [],
   "source": [
    "position_list = df['position'].unique()\n",
    "\n",
    "df['position']=df['position'].replace( list(filter(lambda x: '下肢血管' in x,position_list)), '下肢血管')\n",
    "df['position']=df['position'].replace( list(filter(lambda x: '頚部' in x,position_list)), '頚部')\n",
    "df['position']=df['position'].replace( list(filter(lambda x: '上肢' in x,position_list)), '上肢')\n",
    "df['position']=df['position'].replace( list(filter(lambda x: 'MRdevice' in x,position_list)), 'MRdevice')\n",
    "df['position']=df['position'].replace( list(filter(lambda x: '全脊椎' in x,position_list)), '全脊椎')\n",
    "df['position']=df['position'].replace( list(filter(lambda x: '腹部血管' in x,position_list)), '腹部血管')\n",
    "df['position']=df['position'].replace( list(filter(lambda x: '下垂体' in x,position_list)), '下垂体')\n",
    "df['position']=df['position'].replace( list(filter(lambda x: '乳房' in x,position_list)), '乳房')\n",
    "df['position']=df['position'].replace( list(filter(lambda x: '乳房' in x,position_list)), '乳房')\n",
    "\n",
    "\n",
    "\n",
    "df['position']=df['position'].replace( ['縦隔','胸部(郭)'], '胸郭')\n",
    "df['position']=df['position'].replace( ['尿路系MR[VCG(単純)]', '泌尿器系下腹部'], '泌尿器系下腹部')\n",
    "df['position']=df['position'].replace( ['下腹部委任', '下腹部(一般)'], '下腹部')"
   ]
  },
  {
   "cell_type": "code",
   "execution_count": 112,
   "id": "38d3960d-e8d9-4ee6-aa50-52b964880842",
   "metadata": {},
   "outputs": [
    {
     "name": "stdout",
     "output_type": "stream",
     "text": [
      "Int64Index([ 1371,  1372,  2589,  2887,  2888,  2953,  2955,  2957,  4713,\n",
      "             4715,  4716,  4717,  4718,  4719,  4720,  4721,  4723,  4724,\n",
      "             4725,  4726,  8156, 10046, 10047, 10048, 10049, 10050, 10051,\n",
      "            10052, 10053, 10054, 10055, 10056, 10057, 10058, 10059, 10060,\n",
      "            11735, 12277, 12531, 12776, 12777, 13803, 13804, 13805, 13806,\n",
      "            17354, 17492, 17493, 17494, 17495, 18396],\n",
      "           dtype='int64')\n"
     ]
    }
   ],
   "source": [
    "#条件にマッチしたIndexを取得\n",
    "drop_index = df.index[(df['position'] == 'MRdevice') | \n",
    "                      (df['position'] == 'WB MRI') | \n",
    "                      (df['label'] == 'DW') \n",
    "                     ]\n",
    "#drop_index + df.index[df['position'] == 'WB MRI']\n",
    "\n",
    "print(drop_index)\n",
    "#条件にマッチしたIndexを削除\n",
    "df = df.drop(drop_index)"
   ]
  },
  {
   "cell_type": "code",
   "execution_count": 113,
   "id": "6db57147-0d08-4c33-830d-e2ca4afb4ee0",
   "metadata": {},
   "outputs": [],
   "source": [
    "CE_list = df['CE'].unique()\n",
    "df['CE']=df['CE'].replace( list(filter(lambda x: '造影' in x,CE_list)), '造影')"
   ]
  },
  {
   "cell_type": "code",
   "execution_count": 114,
   "id": "df053e83-f8ca-4bf2-98c8-6d52ee6811cc",
   "metadata": {},
   "outputs": [
    {
     "data": {
      "text/plain": [
       "頭部(脳)        4473\n",
       "頭部(委任)       3472\n",
       "胆道系(MRCP)    1542\n",
       "婦人科下腹部       1159\n",
       "腰椎(髄)         976\n",
       "上腹部(肝胆膵他）     747\n",
       "下垂体           554\n",
       "頚椎(髄)         529\n",
       "膝関節           452\n",
       "MRA脳          390\n",
       "全脊椎           382\n",
       "前立腺           357\n",
       "骨盤部           356\n",
       "肩関節           353\n",
       "頚部            287\n",
       "大腿部           265\n",
       "乳房            240\n",
       "内耳(後頭蓋窩)      200\n",
       "上下顎部          185\n",
       "胸椎(髄)         166\n",
       "眼窩            122\n",
       "股関節           110\n",
       "胸郭            108\n",
       "副鼻腔           104\n",
       "泌尿器系下腹部       101\n",
       "腎臓            100\n",
       "上腹部委任          98\n",
       "膀胱             88\n",
       "下腹部            83\n",
       "手及び手指          69\n",
       "足及び足指          65\n",
       "上腕部            64\n",
       "胸部委任           56\n",
       "下腿部            52\n",
       "心臓             45\n",
       "手関節            43\n",
       "顎関節            43\n",
       "足関節            40\n",
       "脊椎(委任)         38\n",
       "胎児撮影(AFG)      33\n",
       "肩軟部            28\n",
       "前腕部            28\n",
       "膝軟部            27\n",
       "腸管(経口法)        25\n",
       "腎動脈（単純)        25\n",
       "肘関節            23\n",
       "副腎             20\n",
       "下肢血管           19\n",
       "下肢(委任)         19\n",
       "手首軟部           14\n",
       "上肢             13\n",
       "肘軟部            11\n",
       "腹部血管           10\n",
       "足首軟部            8\n",
       "直腸              6\n",
       "Name: position, dtype: int64"
      ]
     },
     "execution_count": 114,
     "metadata": {},
     "output_type": "execute_result"
    }
   ],
   "source": [
    "df['position'].value_counts()"
   ]
  },
  {
   "cell_type": "code",
   "execution_count": 115,
   "id": "4d32bc23-5fec-4843-831e-2d51566cc602",
   "metadata": {},
   "outputs": [
    {
     "data": {
      "text/plain": [
       "H2     2785\n",
       "H7     1627\n",
       "LI2    1598\n",
       "H6     1092\n",
       "S4      894\n",
       "AB4     776\n",
       "H5      762\n",
       "B1      732\n",
       "H1      638\n",
       "H8      587\n",
       "LI3     522\n",
       "N1      491\n",
       "S1      476\n",
       "P1      403\n",
       "L2      401\n",
       "AB3     371\n",
       "S5      359\n",
       "U2      333\n",
       "H4      324\n",
       "H10     323\n",
       "B2      261\n",
       "H19     255\n",
       "C3      242\n",
       "H9      221\n",
       "LI1     203\n",
       "H3      195\n",
       "S6      167\n",
       "R1      138\n",
       "S3      137\n",
       "K1      136\n",
       "H13     121\n",
       "C1      109\n",
       "BL1     106\n",
       "H18     100\n",
       "AB1      89\n",
       "L3       80\n",
       "AB5      70\n",
       "L1       69\n",
       "H15      64\n",
       "R2       60\n",
       "H12      57\n",
       "H17      49\n",
       "C2       45\n",
       "S2       44\n",
       "PL1      41\n",
       "K2       39\n",
       "L4       36\n",
       "U3       34\n",
       "HS       30\n",
       "L5       26\n",
       "AB6      25\n",
       "A2       19\n",
       "H20      18\n",
       "U5       10\n",
       "S9       10\n",
       "U4        9\n",
       "H16       6\n",
       "U1        5\n",
       "A1        3\n",
       "Name: label, dtype: int64"
      ]
     },
     "execution_count": 115,
     "metadata": {},
     "output_type": "execute_result"
    }
   ],
   "source": [
    "df['label'].value_counts()"
   ]
  },
  {
   "cell_type": "code",
   "execution_count": 116,
   "id": "c9f5ae67-6956-47ee-afd5-d09be2950afe",
   "metadata": {},
   "outputs": [],
   "source": [
    "df['label'] = df['label'].replace({'H14':'N1'})"
   ]
  },
  {
   "cell_type": "code",
   "execution_count": 117,
   "id": "a7bc1206-0b6e-4d85-9fdc-16b9ba16e7c9",
   "metadata": {},
   "outputs": [
    {
     "data": {
      "text/plain": [
       "array(['A1', 'A2', 'AB1', 'AB3', 'AB4', 'AB5', 'AB6', 'B1', 'B2', 'BL1',\n",
       "       'C1', 'C2', 'C3', 'H1', 'H10', 'H12', 'H13', 'N1', 'H15', 'H16',\n",
       "       'H17', 'H18', 'H19', 'H2', 'H20', 'H3', 'H4', 'H5', 'H6', 'H7',\n",
       "       'H8', 'H9', 'HS', 'K1', 'K2', 'L1', 'L2', 'L3', 'L4', 'L5', 'LI1',\n",
       "       'LI2', 'LI3', 'P1', 'PL1', 'R1', 'R2', 'S1', 'S2', 'S3', 'S4',\n",
       "       'S5', 'S6', 'S9', 'U1', 'U2', 'U3', 'U4', 'U5'], dtype=object)"
      ]
     },
     "execution_count": 117,
     "metadata": {},
     "output_type": "execute_result"
    }
   ],
   "source": [
    "df['label'].unique()"
   ]
  },
  {
   "cell_type": "code",
   "execution_count": 118,
   "id": "b2bbde68-8cf1-4093-ae83-2b46ab601d9a",
   "metadata": {},
   "outputs": [
    {
     "data": {
      "text/plain": [
       "脳外    4416\n",
       "整形    2548\n",
       "脳内    2205\n",
       "消内    1928\n",
       "母女    1197\n",
       "小児     729\n",
       "泌尿     655\n",
       "呼内     654\n",
       "消外     565\n",
       "耳鼻     564\n",
       "呼外     542\n",
       "放科     461\n",
       "皮膚     381\n",
       "乳一     327\n",
       "精神     273\n",
       "口外     213\n",
       "循内     205\n",
       "眼科     181\n",
       "血内     173\n",
       "救急     146\n",
       "内泌     145\n",
       "心外      99\n",
       "腎内      72\n",
       "麻酔      69\n",
       "形外      47\n",
       "腫内      28\n",
       "Name: section, dtype: int64"
      ]
     },
     "execution_count": 118,
     "metadata": {},
     "output_type": "execute_result"
    }
   ],
   "source": [
    "df['section'].value_counts()"
   ]
  },
  {
   "cell_type": "code",
   "execution_count": 119,
   "id": "656fc7ae-bb3e-46d4-83cf-5db34f457ab5",
   "metadata": {},
   "outputs": [
    {
     "data": {
      "text/plain": [
       "year         False\n",
       "sex          False\n",
       "section      False\n",
       "label        False\n",
       "position     False\n",
       "purpose      False\n",
       "diagnosis    False\n",
       "CE           False\n",
       "dtype: bool"
      ]
     },
     "execution_count": 119,
     "metadata": {},
     "output_type": "execute_result"
    }
   ],
   "source": [
    "df.isnull().all(axis=0)"
   ]
  },
  {
   "cell_type": "code",
   "execution_count": 120,
   "id": "9eace76f-4502-4ad0-983f-c27eb9c9bb3f",
   "metadata": {},
   "outputs": [],
   "source": [
    "df.to_csv(\"CorrectedData.csv\",index=False)"
   ]
  },
  {
   "cell_type": "code",
   "execution_count": 121,
   "id": "c1ec71a1-43ca-4ba8-91c8-44344ada6ec5",
   "metadata": {},
   "outputs": [],
   "source": [
    "df = pd.read_csv(\"CorrecedData.csv\")"
   ]
  },
  {
   "cell_type": "code",
   "execution_count": 6,
   "id": "de96c7af-3b74-41fa-be4c-a5ae60c6bd16",
   "metadata": {},
   "outputs": [],
   "source": [
    "df =exam_preprosses(df)"
   ]
  },
  {
   "cell_type": "code",
   "execution_count": 8,
   "id": "63564e40-975b-40e2-8c9c-0d23a0498645",
   "metadata": {},
   "outputs": [
    {
     "name": "stderr",
     "output_type": "stream",
     "text": [
      "Warning : `load_model` does not return WordVectorModel or SupervisedModel any more, but a `FastText` object which is very similar.\n",
      "/workspace/MRI/2022_MRI_Sc/MRI_SC/PP.py:399: SettingWithCopyWarning: \n",
      "A value is trying to be set on a copy of a slice from a DataFrame.\n",
      "Try using .loc[row_indexer,col_indexer] = value instead\n",
      "\n",
      "See the caveats in the documentation: https://pandas.pydata.org/pandas-docs/stable/user_guide/indexing.html#returning-a-view-versus-a-copy\n",
      "  df['new_diagnosis'] = df['diagnosis'].copy().apply(meishi)\n"
     ]
    }
   ],
   "source": [
    "df = to_vec(df)"
   ]
  },
  {
   "cell_type": "code",
   "execution_count": null,
   "id": "271804c1-e523-4267-a350-5554164f1ba5",
   "metadata": {},
   "outputs": [],
   "source": [
    "df.to_csv(\"data/vector_data(RP).csv\")"
   ]
  },
  {
   "cell_type": "code",
   "execution_count": null,
   "id": "6f4c52f0-b573-4eb7-a30e-d989812f8f6a",
   "metadata": {},
   "outputs": [],
   "source": []
  },
  {
   "cell_type": "code",
   "execution_count": 412,
   "id": "3040f803-de85-4ab2-bbe1-7ae00e3edb18",
   "metadata": {},
   "outputs": [],
   "source": [
    "df = pd.read_csv(\"CorrecedData.csv\")"
   ]
  },
  {
   "cell_type": "code",
   "execution_count": null,
   "id": "719bb981-6126-4039-82e4-d2e38ff1dffe",
   "metadata": {},
   "outputs": [],
   "source": []
  },
  {
   "cell_type": "code",
   "execution_count": null,
   "id": "23cd9a36-d8a3-4d03-981e-9788b5ad1e7b",
   "metadata": {},
   "outputs": [],
   "source": []
  },
  {
   "cell_type": "code",
   "execution_count": null,
   "id": "2750df1f-8911-45c7-8dd7-84b5c8636543",
   "metadata": {},
   "outputs": [],
   "source": []
  },
  {
   "cell_type": "code",
   "execution_count": null,
   "id": "d3fa1408-9b8d-4c77-8aa4-710bf239003b",
   "metadata": {},
   "outputs": [],
   "source": [
    "#前処理後データ"
   ]
  },
  {
   "cell_type": "code",
   "execution_count": 7,
   "id": "0604f313-bf6a-496a-a25b-171b82badc92",
   "metadata": {},
   "outputs": [],
   "source": [
    "df=pd.read_csv(\"data/vector_data(RP).csv\")\n",
    "#df=df.drop(\"Unnamed: 0\", axis=1)"
   ]
  },
  {
   "cell_type": "code",
   "execution_count": 10,
   "id": "6701b2fc-bf9f-473e-ba6b-3bfdcbc8d6f7",
   "metadata": {},
   "outputs": [],
   "source": [
    "#学習データ、テストデータ、検証データ作成"
   ]
  },
  {
   "cell_type": "code",
   "execution_count": 11,
   "id": "8f89ad27-2e63-471c-8ed3-a32cfac16bc7",
   "metadata": {},
   "outputs": [],
   "source": [
    "train, test = train_test_split(df, test_size=0.3, random_state=0)"
   ]
  },
  {
   "cell_type": "code",
   "execution_count": 12,
   "id": "cf414c87-d390-4161-9196-1ddb6e8153fc",
   "metadata": {},
   "outputs": [],
   "source": [
    "train, val  = train_test_split(train, test_size=0.3, random_state=0)"
   ]
  },
  {
   "cell_type": "code",
   "execution_count": 13,
   "id": "7fd13fcf-67d9-4767-abf8-a25a9e11f426",
   "metadata": {},
   "outputs": [
    {
     "name": "stdout",
     "output_type": "stream",
     "text": [
      "6565 2052 1642 10259\n"
     ]
    }
   ],
   "source": [
    "print(len(train),len(test),len(val),len(df))"
   ]
  },
  {
   "cell_type": "code",
   "execution_count": 14,
   "id": "03bffbda-44f5-44c3-bfdd-12f2214d53fa",
   "metadata": {},
   "outputs": [],
   "source": [
    "drop_col = ['exam_time','No',\"section\",\"position\",\"purpose\",\"diagnosis\",\"method\",\"EmegencyorNight_exam\"]\n",
    "\n",
    "y = np.squeeze(df[['exam_time']])\n",
    "x = df.drop(drop_col,axis=1).values  \n",
    "\n",
    "y_train = np.squeeze(train[['exam_time']])\n",
    "x_train = train.drop(drop_col,axis=1).values  \n",
    "\n",
    "y_test = np.squeeze(test[['exam_time']])\n",
    "x_test = test.drop(drop_col,axis=1).values \n",
    "                    \n",
    "y_val = np.squeeze(val[['exam_time']])\n",
    "x_val = val.drop(drop_col,axis=1).values  "
   ]
  },
  {
   "cell_type": "code",
   "execution_count": 15,
   "id": "f71c37e9-5659-4f88-8d2a-914e0d4c86d2",
   "metadata": {},
   "outputs": [],
   "source": [
    "#LightGBM"
   ]
  },
  {
   "cell_type": "code",
   "execution_count": 18,
   "id": "8d5679a8-73f3-493b-82a0-ae7caa4eda76",
   "metadata": {},
   "outputs": [],
   "source": [
    "seed = 0\n",
    "# モデル作成\n",
    "model = LGBMRegressor(boosting_type='gbdt', objective='regression',\n",
    "                      random_state=seed, n_estimators=10000)  # チューニング前のモデル\n",
    "\n",
    "params = {\n",
    "             'reg_alpha':0.5,\n",
    "             'reg_lambda':0.5, \n",
    "             'num_leaves':500,\n",
    "             'colsample_bytree':  0.5, \n",
    "             'subsample': 0.5, \n",
    "             'subsample_freq':  5,\n",
    "             'min_child_samples':50\n",
    "             }\n",
    "# 学習時fitパラメータ指定\n",
    "fit_params = {'callbacks': [lgb.early_stopping(stopping_rounds=100, verbose=True),\n",
    "                           lgb.log_evaluation(0)],  # 学習中のコマンドライン出力\n",
    "              'eval_metric': 'rmse',  # early_stopping_roundsの評価指標\n",
    "              'eval_set': [(x_train, y_train), (x_val, y_val)], \n",
    "              }"
   ]
  },
  {
   "cell_type": "code",
   "execution_count": 19,
   "id": "c8600a23-94b9-49ca-babe-59578eb4b8de",
   "metadata": {},
   "outputs": [
    {
     "data": {
      "text/plain": [
       "LGBMRegressor(colsample_bytree=0.5, min_child_samples=50, n_estimators=10000,\n",
       "              num_leaves=500, objective='regression', random_state=123,\n",
       "              reg_alpha=0.5, reg_lambda=0.5, subsample=0.5, subsample_freq=5)"
      ]
     },
     "execution_count": 19,
     "metadata": {},
     "output_type": "execute_result"
    }
   ],
   "source": [
    "model.set_params(**params)"
   ]
  },
  {
   "cell_type": "code",
   "execution_count": 20,
   "id": "d5d94fcd-cc35-4036-93d4-27b2098892e3",
   "metadata": {},
   "outputs": [
    {
     "name": "stdout",
     "output_type": "stream",
     "text": [
      "Training until validation scores don't improve for 100 rounds\n",
      "Early stopping, best iteration is:\n",
      "[36]\ttraining's rmse: 7.498\ttraining's l2: 56.22\tvalid_1's rmse: 9.32758\tvalid_1's l2: 87.0038\n"
     ]
    },
    {
     "data": {
      "text/plain": [
       "LGBMRegressor(colsample_bytree=0.5, min_child_samples=50, n_estimators=10000,\n",
       "              num_leaves=500, objective='regression', random_state=123,\n",
       "              reg_alpha=0.5, reg_lambda=0.5, subsample=0.5, subsample_freq=5)"
      ]
     },
     "execution_count": 20,
     "metadata": {},
     "output_type": "execute_result"
    }
   ],
   "source": [
    "model.fit(x_train, y_train,**fit_params)"
   ]
  },
  {
   "cell_type": "code",
   "execution_count": 34,
   "id": "502daea3-6812-4326-8e25-990c5a732473",
   "metadata": {},
   "outputs": [
    {
     "data": {
      "text/html": [
       "<div>\n",
       "<style scoped>\n",
       "    .dataframe tbody tr th:only-of-type {\n",
       "        vertical-align: middle;\n",
       "    }\n",
       "\n",
       "    .dataframe tbody tr th {\n",
       "        vertical-align: top;\n",
       "    }\n",
       "\n",
       "    .dataframe thead th {\n",
       "        text-align: right;\n",
       "    }\n",
       "</style>\n",
       "<table border=\"1\" class=\"dataframe\">\n",
       "  <thead>\n",
       "    <tr style=\"text-align: right;\">\n",
       "      <th></th>\n",
       "      <th>col</th>\n",
       "      <th>imp</th>\n",
       "    </tr>\n",
       "  </thead>\n",
       "  <tbody>\n",
       "    <tr>\n",
       "      <th>0</th>\n",
       "      <td>pur_vec0</td>\n",
       "      <td>21</td>\n",
       "    </tr>\n",
       "    <tr>\n",
       "      <th>1</th>\n",
       "      <td>pur_vec22</td>\n",
       "      <td>18</td>\n",
       "    </tr>\n",
       "    <tr>\n",
       "      <th>2</th>\n",
       "      <td>diag_vec67</td>\n",
       "      <td>17</td>\n",
       "    </tr>\n",
       "    <tr>\n",
       "      <th>3</th>\n",
       "      <td>pur_vec23</td>\n",
       "      <td>16</td>\n",
       "    </tr>\n",
       "    <tr>\n",
       "      <th>4</th>\n",
       "      <td>pur_vec49</td>\n",
       "      <td>16</td>\n",
       "    </tr>\n",
       "    <tr>\n",
       "      <th>5</th>\n",
       "      <td>pur_vec5</td>\n",
       "      <td>16</td>\n",
       "    </tr>\n",
       "    <tr>\n",
       "      <th>6</th>\n",
       "      <td>pur_vec42</td>\n",
       "      <td>15</td>\n",
       "    </tr>\n",
       "    <tr>\n",
       "      <th>7</th>\n",
       "      <td>diag_vec83</td>\n",
       "      <td>15</td>\n",
       "    </tr>\n",
       "    <tr>\n",
       "      <th>8</th>\n",
       "      <td>diag_vec49</td>\n",
       "      <td>15</td>\n",
       "    </tr>\n",
       "    <tr>\n",
       "      <th>9</th>\n",
       "      <td>pur_vec10</td>\n",
       "      <td>14</td>\n",
       "    </tr>\n",
       "  </tbody>\n",
       "</table>\n",
       "</div>"
      ],
      "text/plain": [
       "          col  imp\n",
       "0    pur_vec0   21\n",
       "1   pur_vec22   18\n",
       "2  diag_vec67   17\n",
       "3   pur_vec23   16\n",
       "4   pur_vec49   16\n",
       "5    pur_vec5   16\n",
       "6   pur_vec42   15\n",
       "7  diag_vec83   15\n",
       "8  diag_vec49   15\n",
       "9   pur_vec10   14"
      ]
     },
     "execution_count": 34,
     "metadata": {},
     "output_type": "execute_result"
    }
   ],
   "source": [
    "# 説明変数の重要度を保存する\n",
    "df_imp = pd.DataFrame({\"col\": df.drop(drop_col,axis=1).columns,\n",
    "                       \"imp\": model.feature_importances_})\n",
    "df_imp.sort_values(\"imp\", ascending=False, ignore_index=True)[:10]"
   ]
  },
  {
   "cell_type": "code",
   "execution_count": null,
   "id": "831a8576-1fd1-4d9f-a45d-817c39ab61f0",
   "metadata": {},
   "outputs": [],
   "source": []
  },
  {
   "cell_type": "code",
   "execution_count": 35,
   "id": "df82f087-6af9-457d-a3ff-8070b5397dbc",
   "metadata": {},
   "outputs": [],
   "source": [
    "#モデルでの予測結果\n",
    "y_test_pred = model.predict(x_test)\n",
    "y_train_pred = model.predict(x_train)\n",
    "y_val_pred = model.predict(x_val)"
   ]
  },
  {
   "cell_type": "code",
   "execution_count": 40,
   "id": "32d7ea38-8852-4f59-8878-e4656167afaf",
   "metadata": {},
   "outputs": [
    {
     "name": "stdout",
     "output_type": "stream",
     "text": [
      "rmse: 10.0847\n"
     ]
    }
   ],
   "source": [
    "#テストでの結果\n",
    "print(\"rmse: {:.4f}\".format(\n",
    "    np.sqrt(mean_squared_error(y_test, y_test_pred)),\n",
    "))"
   ]
  },
  {
   "cell_type": "code",
   "execution_count": 41,
   "id": "142f2269-879f-4838-ba1b-d16c59af2f23",
   "metadata": {},
   "outputs": [
    {
     "data": {
      "image/png": "[encoded data removed]",
      "text/plain": [
       "<Figure size 1008x720 with 3 Axes>"
      ]
     },
     "metadata": {
      "needs_background": "light"
     },
     "output_type": "display_data"
    }
   ],
   "source": [
    "fig = plt.figure(figsize=(14, 10))\n",
    "\n",
    "fig.add_subplot(1, 3,2)\n",
    "plt.title(\"valid\")\n",
    "sns.scatterplot(x=y_val, y=y_val_pred)\n",
    "plt.xlim(-5, 100)\n",
    "plt.ylim(-5, 100)\n",
    "plt.xlabel(\"true\")\n",
    "plt.ylabel(\"pred\")\n",
    "plt.grid()\n",
    "\n",
    "fig.add_subplot(1, 3,1)\n",
    "plt.title(\"test\")\n",
    "sns.scatterplot(x=y_test, y=y_test_pred)\n",
    "plt.xlim(-5, 100)\n",
    "plt.ylim(-5, 100)\n",
    "plt.xlabel(\"true\")\n",
    "plt.ylabel(\"pred\")\n",
    "plt.grid()\n",
    "\n",
    "fig.add_subplot(1, 3,3)\n",
    "plt.title(\"train\")\n",
    "sns.scatterplot(x=y_train, y=y_train_pred)\n",
    "plt.xlim(-5, 100)\n",
    "plt.ylim(-5, 100)\n",
    "plt.xlabel(\"test\")\n",
    "plt.ylabel(\"pred\")\n",
    "plt.grid()"
   ]
  },
  {
   "cell_type": "code",
   "execution_count": 46,
   "id": "2776fe99-c382-4511-b070-6ad185ab87d6",
   "metadata": {},
   "outputs": [
    {
     "data": {
      "text/html": [
       "<div>\n",
       "<style scoped>\n",
       "    .dataframe tbody tr th:only-of-type {\n",
       "        vertical-align: middle;\n",
       "    }\n",
       "\n",
       "    .dataframe tbody tr th {\n",
       "        vertical-align: top;\n",
       "    }\n",
       "\n",
       "    .dataframe thead th {\n",
       "        text-align: right;\n",
       "    }\n",
       "</style>\n",
       "<table border=\"1\" class=\"dataframe\">\n",
       "  <thead>\n",
       "    <tr style=\"text-align: right;\">\n",
       "      <th></th>\n",
       "      <th>pred</th>\n",
       "      <th>true</th>\n",
       "      <th>difference</th>\n",
       "    </tr>\n",
       "  </thead>\n",
       "  <tbody>\n",
       "    <tr>\n",
       "      <th>count</th>\n",
       "      <td>2052.000000</td>\n",
       "      <td>2052.000000</td>\n",
       "      <td>2052.000000</td>\n",
       "    </tr>\n",
       "    <tr>\n",
       "      <th>mean</th>\n",
       "      <td>34.707814</td>\n",
       "      <td>35.029727</td>\n",
       "      <td>-0.321913</td>\n",
       "    </tr>\n",
       "    <tr>\n",
       "      <th>std</th>\n",
       "      <td>5.162291</td>\n",
       "      <td>11.302783</td>\n",
       "      <td>10.081980</td>\n",
       "    </tr>\n",
       "    <tr>\n",
       "      <th>min</th>\n",
       "      <td>20.640166</td>\n",
       "      <td>11.000000</td>\n",
       "      <td>-47.068479</td>\n",
       "    </tr>\n",
       "    <tr>\n",
       "      <th>25%</th>\n",
       "      <td>31.157320</td>\n",
       "      <td>27.000000</td>\n",
       "      <td>-5.314686</td>\n",
       "    </tr>\n",
       "    <tr>\n",
       "      <th>50%</th>\n",
       "      <td>34.388923</td>\n",
       "      <td>33.000000</td>\n",
       "      <td>1.051676</td>\n",
       "    </tr>\n",
       "    <tr>\n",
       "      <th>75%</th>\n",
       "      <td>37.769078</td>\n",
       "      <td>41.000000</td>\n",
       "      <td>6.385520</td>\n",
       "    </tr>\n",
       "    <tr>\n",
       "      <th>max</th>\n",
       "      <td>54.491561</td>\n",
       "      <td>80.000000</td>\n",
       "      <td>24.500607</td>\n",
       "    </tr>\n",
       "  </tbody>\n",
       "</table>\n",
       "</div>"
      ],
      "text/plain": [
       "              pred         true   difference\n",
       "count  2052.000000  2052.000000  2052.000000\n",
       "mean     34.707814    35.029727    -0.321913\n",
       "std       5.162291    11.302783    10.081980\n",
       "min      20.640166    11.000000   -47.068479\n",
       "25%      31.157320    27.000000    -5.314686\n",
       "50%      34.388923    33.000000     1.051676\n",
       "75%      37.769078    41.000000     6.385520\n",
       "max      54.491561    80.000000    24.500607"
      ]
     },
     "execution_count": 46,
     "metadata": {},
     "output_type": "execute_result"
    }
   ],
   "source": [
    "Test=pd.DataFrame([y_test_pred, y_test, y_test_pred-y_test]).T\n",
    "Test.columns=[\"pred\",\"true\",\"difference\"]\n",
    "Test.describe()"
   ]
  },
  {
   "cell_type": "code",
   "execution_count": 59,
   "id": "b1dc5b02-8565-4d84-8d7e-aa4a3b3b53cf",
   "metadata": {},
   "outputs": [
    {
     "name": "stdout",
     "output_type": "stream",
     "text": [
      "相関係数train:-0.002,val:-0.035,test:0.119\n"
     ]
    }
   ],
   "source": [
    "#相関係数（0.5くらいはほしい）\n",
    "res1 = pd.Series(y_train_pred).corr(pd.Series(y_train))\n",
    "res2 = pd.Series(y_val_pred).corr(pd.Series(y_val))\n",
    "res3 = pd.Series(y_test_pred).corr(pd.Series(y_test))\n",
    "\n",
    "print(f\"相関係数train:{res1:.3f},val:{res2:.3f},test:{res3:.3f}\")"
   ]
  },
  {
   "cell_type": "code",
   "execution_count": 63,
   "id": "0ac1f303-2a1a-4c84-aebe-8e9fbad54435",
   "metadata": {},
   "outputs": [],
   "source": [
    "#予測結果のデータフレーム作成\n",
    "test[\"predict\"] = y_test_pred\n",
    "test=test.reindex(columns=['No','predict'])\n",
    "val[\"predict\"] = y_val_pred\n",
    "val=val.reindex(columns=['No','predict'])\n",
    "\n",
    "test_val = pd.concat([test,val],axis=0)"
   ]
  },
  {
   "cell_type": "code",
   "execution_count": 64,
   "id": "05e7b32e-d87b-44ec-b4fc-9e4fb962646f",
   "metadata": {},
   "outputs": [],
   "source": [
    "df2 = pd.merge(df,test_val, on='No', how='left')"
   ]
  },
  {
   "cell_type": "code",
   "execution_count": 65,
   "id": "540238dd-3d8c-48d6-89c6-ba478b1b4c05",
   "metadata": {},
   "outputs": [],
   "source": [
    "df2=df2.reindex(columns=['No','exam_time','predict',\"age\",\"sex\",\"section\",\"position\",\"purpose\",\"diagnosis\",\"method\"])"
   ]
  },
  {
   "cell_type": "code",
   "execution_count": 66,
   "id": "8d97641c-901b-41da-9ac0-fc87637bf6a9",
   "metadata": {},
   "outputs": [],
   "source": [
    "df2=df2.dropna()"
   ]
  },
  {
   "cell_type": "code",
   "execution_count": 67,
   "id": "0baa0171-46b0-45e9-b79b-15f7fec8e84e",
   "metadata": {},
   "outputs": [
    {
     "data": {
      "text/html": [
       "<div>\n",
       "<style scoped>\n",
       "    .dataframe tbody tr th:only-of-type {\n",
       "        vertical-align: middle;\n",
       "    }\n",
       "\n",
       "    .dataframe tbody tr th {\n",
       "        vertical-align: top;\n",
       "    }\n",
       "\n",
       "    .dataframe thead th {\n",
       "        text-align: right;\n",
       "    }\n",
       "</style>\n",
       "<table border=\"1\" class=\"dataframe\">\n",
       "  <thead>\n",
       "    <tr style=\"text-align: right;\">\n",
       "      <th></th>\n",
       "      <th>No</th>\n",
       "      <th>exam_time</th>\n",
       "      <th>predict</th>\n",
       "      <th>age</th>\n",
       "      <th>sex</th>\n",
       "      <th>section</th>\n",
       "      <th>position</th>\n",
       "      <th>purpose</th>\n",
       "      <th>diagnosis</th>\n",
       "      <th>method</th>\n",
       "    </tr>\n",
       "  </thead>\n",
       "  <tbody>\n",
       "    <tr>\n",
       "      <th>1</th>\n",
       "      <td>2</td>\n",
       "      <td>28.0</td>\n",
       "      <td>28.375750</td>\n",
       "      <td>82</td>\n",
       "      <td>1</td>\n",
       "      <td>内泌</td>\n",
       "      <td>brain</td>\n",
       "      <td>繰り返すふらつきを主訴に来院｡小脳梗塞除外目的です｡</td>\n",
       "      <td>['小脳梗塞']</td>\n",
       "      <td>0</td>\n",
       "    </tr>\n",
       "    <tr>\n",
       "      <th>12</th>\n",
       "      <td>13</td>\n",
       "      <td>35.0</td>\n",
       "      <td>32.462724</td>\n",
       "      <td>69</td>\n",
       "      <td>0</td>\n",
       "      <td>脳外</td>\n",
       "      <td>brain</td>\n",
       "      <td>経過観察routine+mra+asl3相お願いしますｺｲﾙ後</td>\n",
       "      <td>['脳底動脈瘤破裂', 'くも膜下出血', 'くも膜下出血']</td>\n",
       "      <td>0</td>\n",
       "    </tr>\n",
       "    <tr>\n",
       "      <th>14</th>\n",
       "      <td>15</td>\n",
       "      <td>27.0</td>\n",
       "      <td>35.368289</td>\n",
       "      <td>68</td>\n",
       "      <td>0</td>\n",
       "      <td>整形</td>\n",
       "      <td>lower_limb</td>\n",
       "      <td>左大腿部巨大脂肪肉腫;高分化型脂肪肉腫でした｡follow目的で再発の有無のﾁｪｯｸです｡股...</td>\n",
       "      <td>['左大腿部脂肪肉腫']</td>\n",
       "      <td>0</td>\n",
       "    </tr>\n",
       "    <tr>\n",
       "      <th>16</th>\n",
       "      <td>17</td>\n",
       "      <td>28.0</td>\n",
       "      <td>27.920387</td>\n",
       "      <td>70</td>\n",
       "      <td>1</td>\n",
       "      <td>脳外</td>\n",
       "      <td>brain</td>\n",
       "      <td>t1t2flairdwit2*とmra(頭高画質3ｽﾗﾌﾞ1mmvrあり)</td>\n",
       "      <td>['左内頚動脈瘤']</td>\n",
       "      <td>0</td>\n",
       "    </tr>\n",
       "    <tr>\n",
       "      <th>17</th>\n",
       "      <td>18</td>\n",
       "      <td>38.0</td>\n",
       "      <td>35.551169</td>\n",
       "      <td>72</td>\n",
       "      <td>0</td>\n",
       "      <td>脳外</td>\n",
       "      <td>brain</td>\n",
       "      <td>t1t2flairdwit2*とmra(頭首)ﾌﾟﾗｰｸｲﾒｰｼﾞお願いします</td>\n",
       "      <td>['内頚動脈狭窄症']</td>\n",
       "      <td>0</td>\n",
       "    </tr>\n",
       "    <tr>\n",
       "      <th>...</th>\n",
       "      <td>...</td>\n",
       "      <td>...</td>\n",
       "      <td>...</td>\n",
       "      <td>...</td>\n",
       "      <td>...</td>\n",
       "      <td>...</td>\n",
       "      <td>...</td>\n",
       "      <td>...</td>\n",
       "      <td>...</td>\n",
       "      <td>...</td>\n",
       "    </tr>\n",
       "    <tr>\n",
       "      <th>275</th>\n",
       "      <td>281</td>\n",
       "      <td>52.0</td>\n",
       "      <td>26.567547</td>\n",
       "      <td>66</td>\n",
       "      <td>1</td>\n",
       "      <td>脳外</td>\n",
       "      <td>brain</td>\n",
       "      <td>経過観察</td>\n",
       "      <td>['めまい']</td>\n",
       "      <td>0</td>\n",
       "    </tr>\n",
       "    <tr>\n",
       "      <th>277</th>\n",
       "      <td>283</td>\n",
       "      <td>31.0</td>\n",
       "      <td>31.046382</td>\n",
       "      <td>76</td>\n",
       "      <td>0</td>\n",
       "      <td>脳内</td>\n",
       "      <td>spine</td>\n",
       "      <td>自己免疫性脳症の疑いで精査加療中｡四肢の動き悪く､頸椎症および頚髄炎などの除外目的です｡</td>\n",
       "      <td>['頚椎症性', '脊髄症']</td>\n",
       "      <td>0</td>\n",
       "    </tr>\n",
       "    <tr>\n",
       "      <th>290</th>\n",
       "      <td>296</td>\n",
       "      <td>38.0</td>\n",
       "      <td>38.671686</td>\n",
       "      <td>79</td>\n",
       "      <td>0</td>\n",
       "      <td>脳外</td>\n",
       "      <td>brain</td>\n",
       "      <td>多発性脳腫瘍術後routinnece&amp;fiestavolumeお願いします｡</td>\n",
       "      <td>['脳腫瘍']</td>\n",
       "      <td>1</td>\n",
       "    </tr>\n",
       "    <tr>\n",
       "      <th>293</th>\n",
       "      <td>299</td>\n",
       "      <td>35.0</td>\n",
       "      <td>28.370920</td>\n",
       "      <td>47</td>\n",
       "      <td>0</td>\n",
       "      <td>循内</td>\n",
       "      <td>brain</td>\n",
       "      <td>脳虚血発作で済生会に短期入院｡器質疾患の精査</td>\n",
       "      <td>['一過性脳虚血', '発作']</td>\n",
       "      <td>0</td>\n",
       "    </tr>\n",
       "    <tr>\n",
       "      <th>294</th>\n",
       "      <td>300</td>\n",
       "      <td>31.0</td>\n",
       "      <td>31.434880</td>\n",
       "      <td>37</td>\n",
       "      <td>1</td>\n",
       "      <td>整形</td>\n",
       "      <td>spine</td>\n",
       "      <td>両側下肢の痺れです｡ﾍﾙﾆｱ疑いです</td>\n",
       "      <td>['･', '腰椎', '椎間板', 'ﾍﾙﾆｱ']</td>\n",
       "      <td>0</td>\n",
       "    </tr>\n",
       "  </tbody>\n",
       "</table>\n",
       "<p>100 rows × 10 columns</p>\n",
       "</div>"
      ],
      "text/plain": [
       "      No  exam_time    predict  age  sex section    position  \\\n",
       "1      2       28.0  28.375750   82    1      内泌       brain   \n",
       "12    13       35.0  32.462724   69    0      脳外       brain   \n",
       "14    15       27.0  35.368289   68    0      整形  lower_limb   \n",
       "16    17       28.0  27.920387   70    1      脳外       brain   \n",
       "17    18       38.0  35.551169   72    0      脳外       brain   \n",
       "..   ...        ...        ...  ...  ...     ...         ...   \n",
       "275  281       52.0  26.567547   66    1      脳外       brain   \n",
       "277  283       31.0  31.046382   76    0      脳内       spine   \n",
       "290  296       38.0  38.671686   79    0      脳外       brain   \n",
       "293  299       35.0  28.370920   47    0      循内       brain   \n",
       "294  300       31.0  31.434880   37    1      整形       spine   \n",
       "\n",
       "                                               purpose  \\\n",
       "1                           繰り返すふらつきを主訴に来院｡小脳梗塞除外目的です｡   \n",
       "12                     経過観察routine+mra+asl3相お願いしますｺｲﾙ後   \n",
       "14   左大腿部巨大脂肪肉腫;高分化型脂肪肉腫でした｡follow目的で再発の有無のﾁｪｯｸです｡股...   \n",
       "16               t1t2flairdwit2*とmra(頭高画質3ｽﾗﾌﾞ1mmvrあり)   \n",
       "17             t1t2flairdwit2*とmra(頭首)ﾌﾟﾗｰｸｲﾒｰｼﾞお願いします   \n",
       "..                                                 ...   \n",
       "275                                               経過観察   \n",
       "277       自己免疫性脳症の疑いで精査加療中｡四肢の動き悪く､頸椎症および頚髄炎などの除外目的です｡   \n",
       "290             多発性脳腫瘍術後routinnece&fiestavolumeお願いします｡   \n",
       "293                             脳虚血発作で済生会に短期入院｡器質疾患の精査   \n",
       "294                                 両側下肢の痺れです｡ﾍﾙﾆｱ疑いです   \n",
       "\n",
       "                           diagnosis  method  \n",
       "1                           ['小脳梗塞']       0  \n",
       "12   ['脳底動脈瘤破裂', 'くも膜下出血', 'くも膜下出血']       0  \n",
       "14                      ['左大腿部脂肪肉腫']       0  \n",
       "16                        ['左内頚動脈瘤']       0  \n",
       "17                       ['内頚動脈狭窄症']       0  \n",
       "..                               ...     ...  \n",
       "275                          ['めまい']       0  \n",
       "277                  ['頚椎症性', '脊髄症']       0  \n",
       "290                          ['脳腫瘍']       1  \n",
       "293                 ['一過性脳虚血', '発作']       0  \n",
       "294       ['･', '腰椎', '椎間板', 'ﾍﾙﾆｱ']       0  \n",
       "\n",
       "[100 rows x 10 columns]"
      ]
     },
     "execution_count": 67,
     "metadata": {},
     "output_type": "execute_result"
    }
   ],
   "source": [
    "df2.head(100)"
   ]
  },
  {
   "cell_type": "code",
   "execution_count": null,
   "id": "7ffd3098-00d1-4aeb-8afb-b9d83e69dbd3",
   "metadata": {},
   "outputs": [],
   "source": [
    "#モデルの保存\n",
    "file_path = 'lightBGM_model"
   ]
  },
  {
   "cell_type": "code",
   "execution_count": 77,
   "id": "a031d0bd-a6db-4935-a3fa-50308115ab71",
   "metadata": {},
   "outputs": [
    {
     "name": "stdout",
     "output_type": "stream",
     "text": [
      "{1, 2, 3, 4, 5}\n",
      "[1, 2, 3, 4, 5]\n"
     ]
    }
   ],
   "source": [
    "l = [3, 3, 2, 1, 5, 1, 4, 2, 3]\n",
    "\n",
    "print(set(l))\n",
    "# {1, 2, 3, 4, 5}\n",
    "\n",
    "print(list(set(l)))\n",
    "# [1, 2, 3, 4, 5]"
   ]
  },
  {
   "cell_type": "code",
   "execution_count": null,
   "id": "6bbc6a1d-d7fa-41b9-acd6-184ead517229",
   "metadata": {},
   "outputs": [],
   "source": []
  },
  {
   "cell_type": "code",
   "execution_count": null,
   "id": "70c73d17-2c23-4f79-8f1e-2fffdb906ae6",
   "metadata": {},
   "outputs": [],
   "source": [
    "#Deep"
   ]
  },
  {
   "cell_type": "code",
   "execution_count": 21,
   "id": "433a8b7b-c2e0-449d-8125-e2650dcf04a9",
   "metadata": {},
   "outputs": [],
   "source": [
    "import torch\n",
    "import torch.nn as nn\n",
    "import torch.nn.functional as F\n",
    "\n",
    "import pytorch_lightning as pl\n",
    "import torchmetrics"
   ]
  },
  {
   "cell_type": "code",
   "execution_count": 22,
   "id": "c50b683d-ac76-407e-8d72-47eab8ee4836",
   "metadata": {},
   "outputs": [],
   "source": [
    "#出力の形式\n",
    "#回帰：float32\n",
    "#二値分類：float32\n",
    "#多値分類：int64"
   ]
  },
  {
   "cell_type": "code",
   "execution_count": 23,
   "id": "4d18e5c6-33ad-4145-8462-3a0d6e25bb7b",
   "metadata": {},
   "outputs": [],
   "source": [
    "x = torch.tensor(x, dtype=torch.float32)"
   ]
  },
  {
   "cell_type": "code",
   "execution_count": 24,
   "id": "692a7b50-af29-4436-9a23-fe4420a7cd4b",
   "metadata": {},
   "outputs": [],
   "source": [
    "y=np.array(y)"
   ]
  },
  {
   "cell_type": "code",
   "execution_count": 25,
   "id": "d57bf339-9e14-4247-a6aa-bb62e3f1e587",
   "metadata": {},
   "outputs": [],
   "source": [
    "y = torch.tensor(y, dtype=torch.float32)"
   ]
  },
  {
   "cell_type": "code",
   "execution_count": 26,
   "id": "68fe4ec2-d7ba-4231-b788-f6e4d71b8592",
   "metadata": {},
   "outputs": [],
   "source": [
    "dataset = torch.utils.data.TensorDataset(x, y)"
   ]
  },
  {
   "cell_type": "code",
   "execution_count": 27,
   "id": "0f552f14-b9dc-4dd1-86a0-549c7daecf4c",
   "metadata": {},
   "outputs": [
    {
     "data": {
      "text/plain": [
       "10259"
      ]
     },
     "execution_count": 27,
     "metadata": {},
     "output_type": "execute_result"
    }
   ],
   "source": [
    "len(dataset)"
   ]
  },
  {
   "cell_type": "code",
   "execution_count": 28,
   "id": "01daa9e8-2239-4d94-bcde-e5cfc265c362",
   "metadata": {},
   "outputs": [],
   "source": [
    "n_train = int(len(dataset) * 0.6)\n",
    "n_val = int(len(dataset) * 0.2)\n",
    "n_test = len(dataset) - n_train - n_val\n",
    "\n",
    "torch.manual_seed(0)\n",
    "\n",
    "train, val, test = torch.utils.data.random_split(dataset, [n_train, n_val, n_test])"
   ]
  },
  {
   "cell_type": "code",
   "execution_count": 29,
   "id": "e24133b6-180c-4b16-b3f8-9130f6f2b46e",
   "metadata": {},
   "outputs": [
    {
     "data": {
      "text/plain": [
       "(6155, 2051, 2053)"
      ]
     },
     "execution_count": 29,
     "metadata": {},
     "output_type": "execute_result"
    }
   ],
   "source": [
    "len(train), len(val), len(test)"
   ]
  },
  {
   "cell_type": "code",
   "execution_count": 30,
   "id": "1d644b2e-5e13-4238-9af1-1f6de1c5b2a2",
   "metadata": {},
   "outputs": [],
   "source": [
    "batch_size = 10\n",
    "train_loader = torch.utils.data.DataLoader(train, batch_size, shuffle=True, drop_last=True)\n",
    "val_loader = torch.utils.data.DataLoader(val, batch_size)\n",
    "test_loader = torch.utils.data.DataLoader(test, batch_size)"
   ]
  },
  {
   "cell_type": "code",
   "execution_count": 31,
   "id": "8c04af5f-5797-4784-bca5-c238d527fbdb",
   "metadata": {},
   "outputs": [
    {
     "name": "stdout",
     "output_type": "stream",
     "text": [
      "torch.Size([10, 260]) torch.Size([10])\n"
     ]
    }
   ],
   "source": [
    "x, t = next(iter(train_loader))\n",
    "print(x.shape,t.shape)"
   ]
  },
  {
   "cell_type": "code",
   "execution_count": 32,
   "id": "f8295b47-8810-4641-897c-00ee02de4e1b",
   "metadata": {},
   "outputs": [],
   "source": [
    "fc1 = nn.Linear(260, 100)\n",
    "dr1 = nn.Dropout(p=0.2)\n",
    "fc2 = nn.Linear(100, 10)\n",
    "dr2 = nn.Dropout(p=0.2)\n",
    "fc3 = nn.Linear(10, 1)"
   ]
  },
  {
   "cell_type": "code",
   "execution_count": 33,
   "id": "55d48042-2a32-4df1-bf45-40b733d993ff",
   "metadata": {
    "jp-MarkdownHeadingCollapsed": true,
    "tags": []
   },
   "outputs": [],
   "source": [
    "h = fc1(x)\n",
    "h = dr1(h)\n",
    "h = fc2(h)\n",
    "h=  dr2(h)\n",
    "h=  fc3(h)"
   ]
  },
  {
   "cell_type": "code",
   "execution_count": 34,
   "id": "f4af6f10-f5e1-4291-827f-a1311d5f2cb2",
   "metadata": {},
   "outputs": [
    {
     "data": {
      "text/plain": [
       "torch.Size([10, 1])"
      ]
     },
     "execution_count": 34,
     "metadata": {},
     "output_type": "execute_result"
    }
   ],
   "source": [
    "h.shape"
   ]
  },
  {
   "cell_type": "code",
   "execution_count": 35,
   "id": "5daff39a-67e6-4311-975c-ed137915ca4f",
   "metadata": {},
   "outputs": [],
   "source": [
    "h = h.squeeze(1)"
   ]
  },
  {
   "cell_type": "code",
   "execution_count": 36,
   "id": "a53611a4-91a5-4815-9be5-d75b6e4a6592",
   "metadata": {},
   "outputs": [
    {
     "data": {
      "text/plain": [
       "torch.Size([10])"
      ]
     },
     "execution_count": 36,
     "metadata": {},
     "output_type": "execute_result"
    }
   ],
   "source": [
    "h.shape"
   ]
  },
  {
   "cell_type": "code",
   "execution_count": 37,
   "id": "04e4fb0e-4014-443f-9385-57b0990ea13f",
   "metadata": {},
   "outputs": [
    {
     "data": {
      "text/plain": [
       "torch.Size([10])"
      ]
     },
     "execution_count": 37,
     "metadata": {},
     "output_type": "execute_result"
    }
   ],
   "source": [
    "h.shape"
   ]
  },
  {
   "cell_type": "code",
   "execution_count": 38,
   "id": "15ced895-4735-4b1c-843d-921ad69d8804",
   "metadata": {},
   "outputs": [
    {
     "data": {
      "text/plain": [
       "torch.Size([10])"
      ]
     },
     "execution_count": 38,
     "metadata": {},
     "output_type": "execute_result"
    }
   ],
   "source": [
    "t.shape"
   ]
  },
  {
   "cell_type": "code",
   "execution_count": 39,
   "id": "e7ac1a5c-84c9-41ef-816b-5b3a450c7410",
   "metadata": {},
   "outputs": [
    {
     "data": {
      "text/plain": [
       "torch.Size([10, 1])"
      ]
     },
     "execution_count": 39,
     "metadata": {},
     "output_type": "execute_result"
    }
   ],
   "source": [
    "y = t.unsqueeze(1)\n",
    "y.shape"
   ]
  },
  {
   "cell_type": "code",
   "execution_count": 40,
   "id": "38db3c26-1159-4a99-aefc-02eab0a208a4",
   "metadata": {},
   "outputs": [],
   "source": [
    "class Net(pl.LightningModule):\n",
    "    \n",
    "\n",
    "\n",
    "\n",
    "    def __init__(self):\n",
    "        super().__init__()\n",
    "\n",
    "        self.fc1 = nn.Linear(260, 100)\n",
    "        self.bn1 = nn.BatchNorm1d(100)\n",
    "        self.dr1 = nn.Dropout(p=0.2)\n",
    "        self.fc2 = nn.Linear(100, 10)\n",
    "        self.bn2 = nn.BatchNorm1d(10)\n",
    "        self.dr2 = nn.Dropout(p=0.2)\n",
    "        self.fc3 = nn.Linear(10, 1)\n",
    "\n",
    "\n",
    "    def forward(self, h):\n",
    "        h = self.fc1(h)\n",
    "        h = self.bn1(h)\n",
    "        h = self.dr1(h)\n",
    "        h = self.fc2(h)\n",
    "        h = self.bn2(h)\n",
    "        h = self.dr2(h)\n",
    "        h = self.fc3(h)\n",
    "        \n",
    "        h = h.squeeze(1)        \n",
    "\n",
    "        return h\n",
    "\n",
    "\n",
    "    def training_step(self, batch, batch_idx):\n",
    "        x, t = batch\n",
    "        y = self(x)\n",
    "        \n",
    "        \n",
    "        loss = F.mse_loss(y, t)\n",
    "        self.log('train_loss', loss, on_step=True, on_epoch=True, prog_bar=True)\n",
    "        return loss\n",
    "    \n",
    "    # 検証データに対する処理\n",
    "    def validation_step(self, batch, batch_idx):\n",
    "        x, t = batch\n",
    "        y = self(x)\n",
    "        \n",
    "        \n",
    "        loss = F.mse_loss(y, t)\n",
    "        self.log('val_loss', loss, on_step=False, on_epoch=True)\n",
    "        return loss\n",
    "\n",
    "\n",
    "    # テストデータに対する処理\n",
    "    def test_step(self, batch, batch_idx):\n",
    "        x, t = batch\n",
    "        y = self(x)\n",
    "        \n",
    "        \n",
    "        loss = F.mse_loss(y, t)\n",
    "        self.log('test_loss', loss, on_step=False, on_epoch=True)\n",
    "        return loss\n",
    "\n",
    "\n",
    "\n",
    "\n",
    "    def configure_optimizers(self):\n",
    "        optimizer = torch.optim.SGD(self.parameters(), lr=0.01)\n",
    "        return optimizer"
   ]
  },
  {
   "cell_type": "code",
   "execution_count": 41,
   "id": "5ee3a2c6-58f5-40a3-88d5-07031bf10dde",
   "metadata": {},
   "outputs": [
    {
     "name": "stderr",
     "output_type": "stream",
     "text": [
      "Global seed set to 0\n"
     ]
    },
    {
     "data": {
      "text/plain": [
       "Net(\n",
       "  (fc1): Linear(in_features=260, out_features=100, bias=True)\n",
       "  (bn1): BatchNorm1d(100, eps=1e-05, momentum=0.1, affine=True, track_running_stats=True)\n",
       "  (dr1): Dropout(p=0.2, inplace=False)\n",
       "  (fc2): Linear(in_features=100, out_features=10, bias=True)\n",
       "  (bn2): BatchNorm1d(10, eps=1e-05, momentum=0.1, affine=True, track_running_stats=True)\n",
       "  (dr2): Dropout(p=0.2, inplace=False)\n",
       "  (fc3): Linear(in_features=10, out_features=1, bias=True)\n",
       ")"
      ]
     },
     "execution_count": 41,
     "metadata": {},
     "output_type": "execute_result"
    }
   ],
   "source": [
    "# 乱数のシードを固定して再現性を確保\n",
    "pl.seed_everything(0)\n",
    "\n",
    "# インスタンス化\n",
    "net = Net()\n",
    "net"
   ]
  },
  {
   "cell_type": "code",
   "execution_count": 42,
   "id": "cba8fd2f-2b25-46bc-a835-1b39e30517cf",
   "metadata": {},
   "outputs": [
    {
     "name": "stderr",
     "output_type": "stream",
     "text": [
      "GPU available: False, used: False\n",
      "TPU available: False, using: 0 TPU cores\n",
      "IPU available: False, using: 0 IPUs\n"
     ]
    }
   ],
   "source": [
    "trainer = pl.Trainer(max_epochs=5)"
   ]
  },
  {
   "cell_type": "code",
   "execution_count": 43,
   "id": "11aa3f79-5f8a-4a87-b550-140a05ce67f9",
   "metadata": {
    "tags": []
   },
   "outputs": [
    {
     "name": "stderr",
     "output_type": "stream",
     "text": [
      "\n",
      "  | Name | Type        | Params\n",
      "-------------------------------------\n",
      "0 | fc1  | Linear      | 26.1 K\n",
      "1 | bn1  | BatchNorm1d | 200   \n",
      "2 | dr1  | Dropout     | 0     \n",
      "3 | fc2  | Linear      | 1.0 K \n",
      "4 | bn2  | BatchNorm1d | 20    \n",
      "5 | dr2  | Dropout     | 0     \n",
      "6 | fc3  | Linear      | 11    \n",
      "-------------------------------------\n",
      "27.3 K    Trainable params\n",
      "0         Non-trainable params\n",
      "27.3 K    Total params\n",
      "0.109     Total estimated model params size (MB)\n"
     ]
    },
    {
     "data": {
      "application/vnd.jupyter.widget-view+json": {
       "model_id": "",
       "version_major": 2,
       "version_minor": 0
      },
      "text/plain": [
       "Validation sanity check: 0it [00:00, ?it/s]"
      ]
     },
     "metadata": {},
     "output_type": "display_data"
    },
    {
     "name": "stderr",
     "output_type": "stream",
     "text": [
      "/usr/local/lib/python3.9/site-packages/pytorch_lightning/trainer/data_loading.py:132: UserWarning: The dataloader, val_dataloader 0, does not have many workers which may be a bottleneck. Consider increasing the value of the `num_workers` argument` (try 8 which is the number of cpus on this machine) in the `DataLoader` init to improve performance.\n",
      "  rank_zero_warn(\n",
      "Global seed set to 0\n",
      "/usr/local/lib/python3.9/site-packages/pytorch_lightning/trainer/data_loading.py:132: UserWarning: The dataloader, train_dataloader, does not have many workers which may be a bottleneck. Consider increasing the value of the `num_workers` argument` (try 8 which is the number of cpus on this machine) in the `DataLoader` init to improve performance.\n",
      "  rank_zero_warn(\n"
     ]
    },
    {
     "data": {
      "application/vnd.jupyter.widget-view+json": {
       "model_id": "08727785fa6243f69eed0c4c3eb179d2",
       "version_major": 2,
       "version_minor": 0
      },
      "text/plain": [
       "Training: 0it [00:00, ?it/s]"
      ]
     },
     "metadata": {},
     "output_type": "display_data"
    },
    {
     "data": {
      "application/vnd.jupyter.widget-view+json": {
       "model_id": "",
       "version_major": 2,
       "version_minor": 0
      },
      "text/plain": [
       "Validating: 0it [00:00, ?it/s]"
      ]
     },
     "metadata": {},
     "output_type": "display_data"
    },
    {
     "data": {
      "application/vnd.jupyter.widget-view+json": {
       "model_id": "",
       "version_major": 2,
       "version_minor": 0
      },
      "text/plain": [
       "Validating: 0it [00:00, ?it/s]"
      ]
     },
     "metadata": {},
     "output_type": "display_data"
    },
    {
     "data": {
      "application/vnd.jupyter.widget-view+json": {
       "model_id": "",
       "version_major": 2,
       "version_minor": 0
      },
      "text/plain": [
       "Validating: 0it [00:00, ?it/s]"
      ]
     },
     "metadata": {},
     "output_type": "display_data"
    },
    {
     "data": {
      "application/vnd.jupyter.widget-view+json": {
       "model_id": "",
       "version_major": 2,
       "version_minor": 0
      },
      "text/plain": [
       "Validating: 0it [00:00, ?it/s]"
      ]
     },
     "metadata": {},
     "output_type": "display_data"
    },
    {
     "data": {
      "application/vnd.jupyter.widget-view+json": {
       "model_id": "",
       "version_major": 2,
       "version_minor": 0
      },
      "text/plain": [
       "Validating: 0it [00:00, ?it/s]"
      ]
     },
     "metadata": {},
     "output_type": "display_data"
    }
   ],
   "source": [
    "trainer.fit(net, train_loader, val_loader)"
   ]
  },
  {
   "cell_type": "code",
   "execution_count": 44,
   "id": "91635760-afb4-43ea-b3f5-f684102865dd",
   "metadata": {},
   "outputs": [
    {
     "data": {
      "text/plain": [
       "{'train_loss': tensor(104.1228),\n",
       " 'train_loss_step': tensor(40.5246),\n",
       " 'val_loss': tensor(102.5343),\n",
       " 'train_loss_epoch': tensor(104.1228)}"
      ]
     },
     "execution_count": 44,
     "metadata": {},
     "output_type": "execute_result"
    }
   ],
   "source": [
    "#logはここに格納される\n",
    "trainer.callback_metrics"
   ]
  },
  {
   "cell_type": "code",
   "execution_count": 45,
   "id": "311ac40a-abfd-4be1-8705-eae48c040cbe",
   "metadata": {
    "tags": []
   },
   "outputs": [
    {
     "name": "stderr",
     "output_type": "stream",
     "text": [
      "/usr/local/lib/python3.9/site-packages/pytorch_lightning/trainer/trainer.py:1398: UserWarning: `.test(ckpt_path=None)` was called without a model. The best model of the previous `fit` call will be used. You can pass `test(ckpt_path='best')` to use and best model checkpoint and avoid this warning or `ckpt_path=trainer.checkpoint_callback.last_model_path` to use the last model.\n",
      "  rank_zero_warn(\n",
      "Restoring states from the checkpoint path at /workspace/MRI/2022_MRI_Sc/MRI_SC/lightning_logs/version_23/checkpoints/epoch=4-step=3074.ckpt\n",
      "Loaded model weights from checkpoint at /workspace/MRI/2022_MRI_Sc/MRI_SC/lightning_logs/version_23/checkpoints/epoch=4-step=3074.ckpt\n",
      "/usr/local/lib/python3.9/site-packages/pytorch_lightning/trainer/data_loading.py:132: UserWarning: The dataloader, test_dataloader 0, does not have many workers which may be a bottleneck. Consider increasing the value of the `num_workers` argument` (try 8 which is the number of cpus on this machine) in the `DataLoader` init to improve performance.\n",
      "  rank_zero_warn(\n"
     ]
    },
    {
     "data": {
      "application/vnd.jupyter.widget-view+json": {
       "model_id": "cd4d6da7592e4f728fb79c6b1dc65fe7",
       "version_major": 2,
       "version_minor": 0
      },
      "text/plain": [
       "Testing: 0it [00:00, ?it/s]"
      ]
     },
     "metadata": {},
     "output_type": "display_data"
    },
    {
     "name": "stdout",
     "output_type": "stream",
     "text": [
      "--------------------------------------------------------------------------------\n",
      "DATALOADER:0 TEST RESULTS\n",
      "{'test_loss': 97.15078735351562}\n",
      "--------------------------------------------------------------------------------\n"
     ]
    }
   ],
   "source": [
    "#モデルをテストデータで検証\n",
    "results = trainer.test(dataloaders=test_loader)"
   ]
  },
  {
   "cell_type": "code",
   "execution_count": 46,
   "id": "3084671f-721e-4538-aa26-60661832121e",
   "metadata": {},
   "outputs": [
    {
     "data": {
      "text/plain": [
       "[{'test_loss': 97.15078735351562}]"
      ]
     },
     "execution_count": 46,
     "metadata": {},
     "output_type": "execute_result"
    }
   ],
   "source": [
    "results"
   ]
  },
  {
   "cell_type": "code",
   "execution_count": 47,
   "id": "781f912a-36a2-429a-bc6e-390aa50ab4a3",
   "metadata": {},
   "outputs": [
    {
     "data": {
      "text/plain": [
       "{'test_loss': tensor(97.1508)}"
      ]
     },
     "execution_count": 47,
     "metadata": {},
     "output_type": "execute_result"
    }
   ],
   "source": [
    "trainer.callback_metrics"
   ]
  },
  {
   "cell_type": "code",
   "execution_count": 56,
   "id": "1c7224a1-79ed-4442-be0d-952de46dd59d",
   "metadata": {},
   "outputs": [],
   "source": [
    "x, t = next(iter(train_loader))"
   ]
  },
  {
   "cell_type": "code",
   "execution_count": 57,
   "id": "b1c98e82-73eb-4021-a9d9-7dd125ad64c3",
   "metadata": {},
   "outputs": [
    {
     "data": {
      "text/plain": [
       "tensor([30., 39., 28., 34., 38., 21., 20., 15., 30., 23.])"
      ]
     },
     "execution_count": 57,
     "metadata": {},
     "output_type": "execute_result"
    }
   ],
   "source": [
    "t"
   ]
  },
  {
   "cell_type": "code",
   "execution_count": 58,
   "id": "66e07c04-01ca-4c41-a2cc-54a47fc1faf0",
   "metadata": {},
   "outputs": [
    {
     "data": {
      "text/plain": [
       "tensor([33.4845, 29.5208, 38.7879, 34.5993, 39.7088, 34.5998, 32.9879, 29.3948,\n",
       "        33.7524, 39.0667], grad_fn=<SqueezeBackward1>)"
      ]
     },
     "execution_count": 58,
     "metadata": {},
     "output_type": "execute_result"
    }
   ],
   "source": [
    "net.forward(x)"
   ]
  },
  {
   "cell_type": "code",
   "execution_count": null,
   "id": "d618fd23-2ac3-4699-8ad6-228bc629aa6e",
   "metadata": {},
   "outputs": [],
   "source": []
  },
  {
   "cell_type": "code",
   "execution_count": 391,
   "id": "587650d0-4f3d-4612-a7ad-7ab0b75d8d0e",
   "metadata": {},
   "outputs": [],
   "source": [
    "import optuna"
   ]
  },
  {
   "cell_type": "code",
   "execution_count": 235,
   "id": "c6bb840f-f1bb-44b1-a123-d26ccca828b0",
   "metadata": {},
   "outputs": [],
   "source": [
    "#xgBoost"
   ]
  },
  {
   "cell_type": "code",
   "execution_count": 236,
   "id": "b6ecb68a-bdef-4ce1-a7dc-a1a7e13f3ab9",
   "metadata": {},
   "outputs": [
    {
     "name": "stderr",
     "output_type": "stream",
     "text": [
      "/usr/local/lib/python3.9/site-packages/xgboost/compat.py:36: FutureWarning: pandas.Int64Index is deprecated and will be removed from pandas in a future version. Use pandas.Index with the appropriate dtype instead.\n",
      "  from pandas import MultiIndex, Int64Index\n"
     ]
    }
   ],
   "source": [
    "import xgboost as xgb\n",
    "from sklearn.model_selection import GridSearchCV"
   ]
  },
  {
   "cell_type": "code",
   "execution_count": null,
   "id": "7cff7c23-9459-4b41-93b7-c12ace386c21",
   "metadata": {},
   "outputs": [],
   "source": [
    "xgb_model = xgb.XGBRegressor()\n",
    "reg_xgb = GridSearchCV(xgb_model,\n",
    "                   {'max_depth': [2,4,6],\n",
    "                    'n_estimators': [50,100,200]}, verbose=1)\n",
    "reg_xgb.fit(x_train, y_train)"
   ]
  },
  {
   "cell_type": "code",
   "execution_count": null,
   "id": "250f5a58-bf77-4fad-b5a1-c48d92646b27",
   "metadata": {},
   "outputs": [],
   "source": [
    "y_test_pred =reg_xgb.predict(x_test)"
   ]
  },
  {
   "cell_type": "code",
   "execution_count": null,
   "id": "a48d744b-9b73-404c-876f-de77708a4c47",
   "metadata": {},
   "outputs": [],
   "source": [
    "y_train_pred = reg_xgb.predict(x_train)"
   ]
  },
  {
   "cell_type": "code",
   "execution_count": null,
   "id": "ae66e98b-053f-49f9-95fb-2a9094b48aa4",
   "metadata": {},
   "outputs": [],
   "source": [
    "y_val_pred = reg_xgb.predict(x_val)"
   ]
  },
  {
   "cell_type": "code",
   "execution_count": null,
   "id": "2298cbe2-eaa7-4d62-85f4-1b90462f650b",
   "metadata": {},
   "outputs": [],
   "source": [
    "fig = plt.figure(figsize=(14, 10))\n",
    "\n",
    "fig.add_subplot(1, 3,2)\n",
    "plt.title(\"valid\")\n",
    "sns.scatterplot(x=y_val, y=y_val_pred)\n",
    "plt.xlim(-5, 80)\n",
    "plt.ylim(-5, 80)\n",
    "plt.xlabel(\"true\")\n",
    "plt.ylabel(\"pred\")\n",
    "plt.grid()\n",
    "\n",
    "fig.add_subplot(1, 3,1)\n",
    "plt.title(\"test\")\n",
    "sns.scatterplot(x=y_test, y=y_test_pred)\n",
    "plt.xlim(-5, 80)\n",
    "plt.ylim(-5, 80)\n",
    "plt.xlabel(\"true\")\n",
    "plt.ylabel(\"pred\")\n",
    "plt.grid()\n",
    "\n",
    "fig.add_subplot(1, 3,3)\n",
    "plt.title(\"train\")\n",
    "sns.scatterplot(x=y_train, y=y_train_pred)\n",
    "plt.xlim(-5, 80)\n",
    "plt.ylim(-5, 80)\n",
    "plt.xlabel(\"true\")\n",
    "plt.ylabel(\"pred\")\n",
    "plt.grid()"
   ]
  },
  {
   "cell_type": "code",
   "execution_count": null,
   "id": "2dfa1567-d257-47a5-9069-eb7c83e94e4c",
   "metadata": {},
   "outputs": [],
   "source": []
  }
 ],
 "metadata": {
  "kernelspec": {
   "display_name": "Python 3 (ipykernel)",
   "language": "python",
   "name": "python3"
  },
  "language_info": {
   "codemirror_mode": {
    "name": "ipython",
    "version": 3
   },
   "file_extension": ".py",
   "mimetype": "text/x-python",
   "name": "python",
   "nbconvert_exporter": "python",
   "pygments_lexer": "ipython3",
   "version": "3.9.10"
  }
 },
 "nbformat": 4,
 "nbformat_minor": 5
}
