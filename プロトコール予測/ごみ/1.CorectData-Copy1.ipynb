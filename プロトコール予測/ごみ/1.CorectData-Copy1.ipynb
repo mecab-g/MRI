{
 "cells": [
  {
   "cell_type": "code",
   "execution_count": 1,
   "id": "c4de2c3a-2a8a-4e35-9583-b5a68c6a1f40",
   "metadata": {},
   "outputs": [],
   "source": [
    "import numpy as np\n",
    "import pandas as pd "
   ]
  },
  {
   "cell_type": "code",
   "execution_count": 2,
   "id": "dfbff31e-5526-4e2a-95ce-30f6ec3b09da",
   "metadata": {},
   "outputs": [],
   "source": [
    "import matplotlib.pyplot as plt\n",
    "import seaborn as sns"
   ]
  },
  {
   "cell_type": "code",
   "execution_count": 3,
   "id": "096f0c0b-1fe0-49e1-80f3-735265733b0a",
   "metadata": {},
   "outputs": [
    {
     "name": "stderr",
     "output_type": "stream",
     "text": [
      "2022-11-25 11:58:26.881565: I tensorflow/core/platform/cpu_feature_guard.cc:193] This TensorFlow binary is optimized with oneAPI Deep Neural Network Library (oneDNN) to use the following CPU instructions in performance-critical operations:  AVX2 FMA\n",
      "To enable them in other operations, rebuild TensorFlow with the appropriate compiler flags.\n",
      "2022-11-25 11:58:27.063685: W tensorflow/stream_executor/platform/default/dso_loader.cc:64] Could not load dynamic library 'libcudart.so.11.0'; dlerror: libcudart.so.11.0: cannot open shared object file: No such file or directory\n",
      "2022-11-25 11:58:27.063707: I tensorflow/stream_executor/cuda/cudart_stub.cc:29] Ignore above cudart dlerror if you do not have a GPU set up on your machine.\n",
      "2022-11-25 11:58:27.099026: E tensorflow/stream_executor/cuda/cuda_blas.cc:2981] Unable to register cuBLAS factory: Attempting to register factory for plugin cuBLAS when one has already been registered\n",
      "2022-11-25 11:58:28.019587: W tensorflow/stream_executor/platform/default/dso_loader.cc:64] Could not load dynamic library 'libnvinfer.so.7'; dlerror: libnvinfer.so.7: cannot open shared object file: No such file or directory\n",
      "2022-11-25 11:58:28.019713: W tensorflow/stream_executor/platform/default/dso_loader.cc:64] Could not load dynamic library 'libnvinfer_plugin.so.7'; dlerror: libnvinfer_plugin.so.7: cannot open shared object file: No such file or directory\n",
      "2022-11-25 11:58:28.019734: W tensorflow/compiler/tf2tensorrt/utils/py_utils.cc:38] TF-TRT Warning: Cannot dlopen some TensorRT libraries. If you would like to use Nvidia GPU with TensorRT, please make sure the missing libraries mentioned above are installed properly.\n"
     ]
    }
   ],
   "source": [
    "from modules import one_hot ,wakachi, meishi,FastText_Vectrizer,rename_section,exam_preprosses"
   ]
  },
  {
   "cell_type": "code",
   "execution_count": 4,
   "id": "2f006c21-8400-455f-9f4c-c1b403220d3d",
   "metadata": {},
   "outputs": [],
   "source": [
    "# データの修正"
   ]
  },
  {
   "cell_type": "code",
   "execution_count": 5,
   "id": "00b12104-66c9-4b01-a160-df2f13333803",
   "metadata": {},
   "outputs": [],
   "source": [
    "df = pd.read_csv('DATA20200401_20220331(修正後).csv', encoding='cp932', header=None)"
   ]
  },
  {
   "cell_type": "code",
   "execution_count": 6,
   "id": "5f898fac-69b0-4cc3-935c-9121cec2933d",
   "metadata": {},
   "outputs": [
    {
     "data": {
      "text/plain": [
       "array(['A1', 'A2', 'AB1', 'AB3', 'AB4', 'AB5', 'AB6', 'B1', 'B2', 'BL1',\n",
       "       'C1', 'C2', 'C３', 'C3', 'C3.', 'DW', 'H1', 'H10', 'H12', 'H13',\n",
       "       'H13 ', 'H14', 'H15', 'H16', 'H17', 'H18', 'H19', 'H2', 'H20',\n",
       "       'H3', 'H4', 'H5', 'H6', 'H6\\n', 'H7', 'H７', 'H7.', 'H8', 'H８',\n",
       "       'H9', 'HS', 'K1', 'K2', 'L1', 'L2', 'L3', 'L4', 'L5', 'LI1',\n",
       "       'LI1\\n', 'LI2', 'LI3', 'LI3\\n', 'LI4', 'N1', 'P1', 'PL1', 'R1',\n",
       "       'R2', 'S1', 'S1\\n', 'S2', 'S3', 'S4', 'S5', 'S6', 'S7', 'S9', 'U1',\n",
       "       'U2', 'U3', 'U4', 'U5', nan], dtype=object)"
      ]
     },
     "execution_count": 6,
     "metadata": {},
     "output_type": "execute_result"
    }
   ],
   "source": [
    "# ラベルの間違い修正\n",
    "df[3].unique()"
   ]
  },
  {
   "cell_type": "code",
   "execution_count": 7,
   "id": "d060e0de-ec3d-4e3b-b78d-a25892523154",
   "metadata": {},
   "outputs": [],
   "source": [
    "df[3]=df[3].replace(['C３', 'C3', 'C3.'], 'C3')\n",
    "df[3]=df[3].replace(['H13', 'H13 '], 'H13')\n",
    "df[3]=df[3].replace(['H6', 'H6\\n'], 'H6')\n",
    "df[3]=df[3].replace(['H7', 'H７', 'H7.'], 'H7')\n",
    "df[3]=df[3].replace(['H8', 'H８'], 'H8')\n",
    "df[3]=df[3].replace(['LI3\\n'], 'LI3')\n",
    "df[3]=df[3].replace(['S1', 'S1\\n'], 'S1')\n",
    "df[3]=df[3].replace(['LI1','LI1\\n'], 'LI1')"
   ]
  },
  {
   "cell_type": "code",
   "execution_count": 8,
   "id": "2024df53-4961-48c6-b02d-86cffb3dbdf2",
   "metadata": {},
   "outputs": [
    {
     "data": {
      "text/html": [
       "<div>\n",
       "<style scoped>\n",
       "    .dataframe tbody tr th:only-of-type {\n",
       "        vertical-align: middle;\n",
       "    }\n",
       "\n",
       "    .dataframe tbody tr th {\n",
       "        vertical-align: top;\n",
       "    }\n",
       "\n",
       "    .dataframe thead th {\n",
       "        text-align: right;\n",
       "    }\n",
       "</style>\n",
       "<table border=\"1\" class=\"dataframe\">\n",
       "  <thead>\n",
       "    <tr style=\"text-align: right;\">\n",
       "      <th></th>\n",
       "      <th>0</th>\n",
       "      <th>1</th>\n",
       "      <th>2</th>\n",
       "      <th>3</th>\n",
       "      <th>4</th>\n",
       "      <th>5</th>\n",
       "      <th>6</th>\n",
       "      <th>7</th>\n",
       "      <th>8</th>\n",
       "    </tr>\n",
       "  </thead>\n",
       "  <tbody>\n",
       "    <tr>\n",
       "      <th>4063</th>\n",
       "      <td>11</td>\n",
       "      <td>女</td>\n",
       "      <td>耳鼻</td>\n",
       "      <td>H14</td>\n",
       "      <td>頭部(脳)</td>\n",
       "      <td>嗅球プロトコル。先天性嗅覚障害です ３Tでお願いします。</td>\n",
       "      <td>くも膜のう胞</td>\n",
       "      <td>依頼通りに嗅球プロトコル</td>\n",
       "      <td>単純</td>\n",
       "    </tr>\n",
       "  </tbody>\n",
       "</table>\n",
       "</div>"
      ],
      "text/plain": [
       "       0  1   2    3      4                             5       6  \\\n",
       "4063  11  女  耳鼻  H14  頭部(脳)  嗅球プロトコル。先天性嗅覚障害です ３Tでお願いします。  くも膜のう胞   \n",
       "\n",
       "                 7   8  \n",
       "4063  依頼通りに嗅球プロトコル  単純  "
      ]
     },
     "execution_count": 8,
     "metadata": {},
     "output_type": "execute_result"
    }
   ],
   "source": [
    "df[df[3]=='H14']"
   ]
  },
  {
   "cell_type": "code",
   "execution_count": 9,
   "id": "d0174b2b-e311-453a-96fa-c91d677c5acf",
   "metadata": {},
   "outputs": [],
   "source": [
    "df[2] = df[2].replace('H1', '脳外')"
   ]
  },
  {
   "cell_type": "code",
   "execution_count": 10,
   "id": "d6688531-f98c-4ae5-b99f-799ba8a464a3",
   "metadata": {},
   "outputs": [],
   "source": [
    "df[3] = df[3].replace('H14', 'N1')"
   ]
  },
  {
   "cell_type": "code",
   "execution_count": 11,
   "id": "713f931d-fd0e-492a-8b7b-c8545492ddbb",
   "metadata": {},
   "outputs": [],
   "source": [
    "del df[7]"
   ]
  },
  {
   "cell_type": "code",
   "execution_count": 12,
   "id": "9a7615ab-1306-4d4e-b406-f7fd8e85b532",
   "metadata": {},
   "outputs": [
    {
     "data": {
      "text/html": [
       "<div>\n",
       "<style scoped>\n",
       "    .dataframe tbody tr th:only-of-type {\n",
       "        vertical-align: middle;\n",
       "    }\n",
       "\n",
       "    .dataframe tbody tr th {\n",
       "        vertical-align: top;\n",
       "    }\n",
       "\n",
       "    .dataframe thead th {\n",
       "        text-align: right;\n",
       "    }\n",
       "</style>\n",
       "<table border=\"1\" class=\"dataframe\">\n",
       "  <thead>\n",
       "    <tr style=\"text-align: right;\">\n",
       "      <th></th>\n",
       "      <th>0</th>\n",
       "      <th>1</th>\n",
       "      <th>2</th>\n",
       "      <th>3</th>\n",
       "      <th>4</th>\n",
       "      <th>5</th>\n",
       "      <th>6</th>\n",
       "      <th>8</th>\n",
       "    </tr>\n",
       "  </thead>\n",
       "  <tbody>\n",
       "    <tr>\n",
       "      <th>6593</th>\n",
       "      <td>53</td>\n",
       "      <td>男</td>\n",
       "      <td>心外</td>\n",
       "      <td>H2</td>\n",
       "      <td>頭部(脳)</td>\n",
       "      <td>NaN</td>\n",
       "      <td>脳梗塞疑い</td>\n",
       "      <td>単純</td>\n",
       "    </tr>\n",
       "    <tr>\n",
       "      <th>19336</th>\n",
       "      <td>14</td>\n",
       "      <td>男</td>\n",
       "      <td>小児</td>\n",
       "      <td>NaN</td>\n",
       "      <td>頚部</td>\n",
       "      <td>3月より右頚部リンパ節腫脹あり。増大傾向あり近医受診、近医で生検後、当院に5月22日受診。悪...</td>\n",
       "      <td>右頚部リンパ節腫瘍</td>\n",
       "      <td>単純＋造影Gd</td>\n",
       "    </tr>\n",
       "  </tbody>\n",
       "</table>\n",
       "</div>"
      ],
      "text/plain": [
       "        0  1   2    3      4  \\\n",
       "6593   53  男  心外   H2  頭部(脳)   \n",
       "19336  14  男  小児  NaN     頚部   \n",
       "\n",
       "                                                       5          6        8  \n",
       "6593                                                 NaN      脳梗塞疑い       単純  \n",
       "19336  3月より右頚部リンパ節腫脹あり。増大傾向あり近医受診、近医で生検後、当院に5月22日受診。悪...  右頚部リンパ節腫瘍  単純＋造影Gd  "
      ]
     },
     "execution_count": 12,
     "metadata": {},
     "output_type": "execute_result"
    }
   ],
   "source": [
    "df[df.isnull().any(axis=1)]"
   ]
  },
  {
   "cell_type": "code",
   "execution_count": 13,
   "id": "7e224bbf-7297-453d-9ee1-60df0e3fd9aa",
   "metadata": {},
   "outputs": [],
   "source": [
    "df = df.dropna()"
   ]
  },
  {
   "cell_type": "code",
   "execution_count": 16,
   "id": "bb0183f1-68dd-44ae-923b-bc1570cd971b",
   "metadata": {},
   "outputs": [],
   "source": [
    "df.loc[df[2].str.contains('総診'), 2] = '救急'\n",
    "df.loc[df[2].str.contains('ﾍﾟｲﾝ'), 2] = '麻酔'"
   ]
  },
  {
   "cell_type": "code",
   "execution_count": 17,
   "id": "8ef9dafd-625f-4261-b961-4292f3f6fec4",
   "metadata": {},
   "outputs": [],
   "source": [
    "df[3] = df[3].replace('S7', 'S6')\n",
    "df[3] = df[3].replace('LI4', 'LI3')"
   ]
  },
  {
   "cell_type": "code",
   "execution_count": 18,
   "id": "a8258e25-41ee-4272-a6d6-f9ec290fea7d",
   "metadata": {},
   "outputs": [],
   "source": [
    "df=df.rename(columns={0:'year',1:'sex',2:'section',3:'label',4:'position',5:'purpose',6:'diagnosis',8:'CE'})"
   ]
  },
  {
   "cell_type": "code",
   "execution_count": 19,
   "id": "500661ed-8b92-41ab-a73c-36fd1b69e15a",
   "metadata": {},
   "outputs": [
    {
     "name": "stdout",
     "output_type": "stream",
     "text": [
      "['男' '女']\n"
     ]
    }
   ],
   "source": [
    "df = one_hot(df, 'sex')"
   ]
  },
  {
   "cell_type": "code",
   "execution_count": 20,
   "id": "6db57147-0d08-4c33-830d-e2ca4afb4ee0",
   "metadata": {},
   "outputs": [],
   "source": [
    "CE_list = df['CE'].unique()\n",
    "df['CE']=df['CE'].replace( list(filter(lambda x: '造影' in x,CE_list)), '造影')"
   ]
  },
  {
   "cell_type": "code",
   "execution_count": 21,
   "id": "0f67115e-e073-4297-9a09-3d5a60397887",
   "metadata": {},
   "outputs": [
    {
     "name": "stdout",
     "output_type": "stream",
     "text": [
      "['単純' '造影']\n"
     ]
    }
   ],
   "source": [
    "df = one_hot(df, 'CE')"
   ]
  },
  {
   "cell_type": "code",
   "execution_count": 22,
   "id": "3aea4623-7d20-444d-aff6-c4f451fb55f4",
   "metadata": {},
   "outputs": [],
   "source": [
    "position_list = df['position'].unique()\n",
    "\n",
    "df['position']=df['position'].replace( list(filter(lambda x: '下肢血管' in x,position_list)), '下肢血管')\n",
    "df['position']=df['position'].replace( list(filter(lambda x: '頚部' in x,position_list)), '頚部')\n",
    "df['position']=df['position'].replace( list(filter(lambda x: '上肢' in x,position_list)), '上肢')\n",
    "df['position']=df['position'].replace( list(filter(lambda x: 'MRdevice' in x,position_list)), 'MRdevice')\n",
    "df['position']=df['position'].replace( list(filter(lambda x: '全脊椎' in x,position_list)), '全脊椎')\n",
    "df['position']=df['position'].replace( list(filter(lambda x: '腹部血管' in x,position_list)), '腹部血管')\n",
    "df['position']=df['position'].replace( list(filter(lambda x: '下垂体' in x,position_list)), '下垂体')\n",
    "df['position']=df['position'].replace( list(filter(lambda x: '乳房' in x,position_list)), '乳房')\n",
    "df['position']=df['position'].replace( list(filter(lambda x: '乳房' in x,position_list)), '乳房')\n",
    "\n",
    "\n",
    "\n",
    "df['position']=df['position'].replace( ['縦隔','胸部(郭)'], '胸郭')\n",
    "df['position']=df['position'].replace( ['尿路系MR[VCG(単純)]', '泌尿器系下腹部'], '泌尿器系下腹部')\n",
    "df['position']=df['position'].replace( ['下腹部委任', '下腹部(一般)'], '下腹部')"
   ]
  },
  {
   "cell_type": "code",
   "execution_count": 23,
   "id": "38d3960d-e8d9-4ee6-aa50-52b964880842",
   "metadata": {},
   "outputs": [
    {
     "name": "stdout",
     "output_type": "stream",
     "text": [
      "Int64Index([ 1371,  1372,  2589,  2887,  2888,  2953,  2954,  2955,  2956,\n",
      "             2957,  4713,  4714,  4715,  4716,  4717,  4718,  4719,  4720,\n",
      "             4721,  4722,  4723,  4724,  4725,  4726,  8156, 10046, 10047,\n",
      "            10048, 10049, 10050, 10051, 10052, 10053, 10054, 10055, 10056,\n",
      "            10057, 10058, 10059, 10060, 11735, 12277, 12531, 12776, 12777,\n",
      "            13803, 13804, 13805, 13806, 17354, 17492, 17493, 17494, 17495,\n",
      "            17496, 17497, 18396],\n",
      "           dtype='int64')\n"
     ]
    }
   ],
   "source": [
    "#条件にマッチしたIndexを取得\n",
    "drop_index = df.index[(df['position'] == 'MRdevice') | \n",
    "                      (df['position'] == 'WB MRI') | \n",
    "                      (df['label'] == 'DW') \n",
    "                     ]\n",
    "#drop_index + df.index[df['position'] == 'WB MRI']\n",
    "\n",
    "print(drop_index)\n",
    "#条件にマッチしたIndexを削除\n",
    "df = df.drop(drop_index)"
   ]
  },
  {
   "cell_type": "code",
   "execution_count": 24,
   "id": "df053e83-f8ca-4bf2-98c8-6d52ee6811cc",
   "metadata": {},
   "outputs": [
    {
     "data": {
      "text/plain": [
       "頭部(脳)        4675\n",
       "頭部(委任)       3608\n",
       "胆道系(MRCP)    1577\n",
       "婦人科下腹部       1171\n",
       "腰椎(髄)         980\n",
       "上腹部(肝胆膵他）     753\n",
       "下垂体           556\n",
       "頚椎(髄)         529\n",
       "膝関節           454\n",
       "MRA脳          394\n",
       "全脊椎           392\n",
       "骨盤部           360\n",
       "前立腺           358\n",
       "肩関節           353\n",
       "頚部            289\n",
       "大腿部           266\n",
       "乳房            241\n",
       "内耳(後頭蓋窩)      202\n",
       "上下顎部          186\n",
       "胸椎(髄)         166\n",
       "眼窩            123\n",
       "股関節           111\n",
       "胸郭            109\n",
       "副鼻腔           106\n",
       "泌尿器系下腹部       102\n",
       "腎臓            101\n",
       "上腹部委任          98\n",
       "膀胱             90\n",
       "下腹部            83\n",
       "手及び手指          69\n",
       "上腕部            67\n",
       "足及び足指          65\n",
       "胸部委任           56\n",
       "心臓             54\n",
       "下腿部            52\n",
       "手関節            44\n",
       "顎関節            43\n",
       "足関節            40\n",
       "脊椎(委任)         39\n",
       "胎児撮影(AFG)      35\n",
       "前腕部            28\n",
       "肩軟部            28\n",
       "膝軟部            27\n",
       "腸管(経口法)        25\n",
       "腎動脈（単純)        25\n",
       "肘関節            24\n",
       "副腎             20\n",
       "下肢血管           20\n",
       "下肢(委任)         20\n",
       "手首軟部           14\n",
       "上肢             13\n",
       "肘軟部            11\n",
       "腹部血管           10\n",
       "足首軟部            9\n",
       "直腸              7\n",
       "Name: position, dtype: int64"
      ]
     },
     "execution_count": 24,
     "metadata": {},
     "output_type": "execute_result"
    }
   ],
   "source": [
    "df['position'].value_counts()"
   ]
  },
  {
   "cell_type": "code",
   "execution_count": 25,
   "id": "4d32bc23-5fec-4843-831e-2d51566cc602",
   "metadata": {},
   "outputs": [
    {
     "data": {
      "text/plain": [
       "H2     3021\n",
       "H7     1650\n",
       "LI2    1633\n",
       "H6     1102\n",
       "S4      898\n",
       "AB4     783\n",
       "H5      767\n",
       "B1      737\n",
       "H1      663\n",
       "H8      589\n",
       "LI3     526\n",
       "N1      495\n",
       "S1      476\n",
       "P1      405\n",
       "L2      403\n",
       "AB3     375\n",
       "S5      369\n",
       "H4      344\n",
       "U2      333\n",
       "H10     324\n",
       "H19     272\n",
       "B2      263\n",
       "C3      243\n",
       "H9      222\n",
       "LI1     205\n",
       "H3      196\n",
       "S6      168\n",
       "R1      139\n",
       "K1      137\n",
       "S3      137\n",
       "H13     122\n",
       "C1      110\n",
       "BL1     108\n",
       "H18     101\n",
       "AB1      89\n",
       "L3       81\n",
       "AB5      74\n",
       "L1       69\n",
       "H15      65\n",
       "R2       63\n",
       "H12      60\n",
       "C2       54\n",
       "H17      49\n",
       "S2       44\n",
       "PL1      41\n",
       "K2       39\n",
       "L4       36\n",
       "U3       35\n",
       "HS       30\n",
       "L5       26\n",
       "AB6      25\n",
       "A2       20\n",
       "H20      19\n",
       "U5       10\n",
       "S9       10\n",
       "U4        9\n",
       "H16       6\n",
       "U1        5\n",
       "A1        3\n",
       "Name: label, dtype: int64"
      ]
     },
     "execution_count": 25,
     "metadata": {},
     "output_type": "execute_result"
    }
   ],
   "source": [
    "df['label'].value_counts()"
   ]
  },
  {
   "cell_type": "code",
   "execution_count": 26,
   "id": "c9f5ae67-6956-47ee-afd5-d09be2950afe",
   "metadata": {},
   "outputs": [],
   "source": [
    "df['label'] = df['label'].replace({'H14':'N1'})"
   ]
  },
  {
   "cell_type": "code",
   "execution_count": 27,
   "id": "a7bc1206-0b6e-4d85-9fdc-16b9ba16e7c9",
   "metadata": {},
   "outputs": [
    {
     "data": {
      "text/plain": [
       "array(['A1', 'A2', 'AB1', 'AB3', 'AB4', 'AB5', 'AB6', 'B1', 'B2', 'BL1',\n",
       "       'C1', 'C2', 'C3', 'H1', 'H10', 'H12', 'H13', 'N1', 'H15', 'H16',\n",
       "       'H17', 'H18', 'H19', 'H2', 'H20', 'H3', 'H4', 'H5', 'H6', 'H7',\n",
       "       'H8', 'H9', 'HS', 'K1', 'K2', 'L1', 'L2', 'L3', 'L4', 'L5', 'LI1',\n",
       "       'LI2', 'LI3', 'P1', 'PL1', 'R1', 'R2', 'S1', 'S2', 'S3', 'S4',\n",
       "       'S5', 'S6', 'S9', 'U1', 'U2', 'U3', 'U4', 'U5'], dtype=object)"
      ]
     },
     "execution_count": 27,
     "metadata": {},
     "output_type": "execute_result"
    }
   ],
   "source": [
    "df['label'].unique()"
   ]
  },
  {
   "cell_type": "code",
   "execution_count": 28,
   "id": "b2bbde68-8cf1-4093-ae83-2b46ab601d9a",
   "metadata": {},
   "outputs": [
    {
     "data": {
      "text/plain": [
       "脳外    4524\n",
       "整形    2558\n",
       "脳内    2301\n",
       "消内    1954\n",
       "母女    1210\n",
       "小児     730\n",
       "呼内     663\n",
       "泌尿     662\n",
       "消外     576\n",
       "耳鼻     569\n",
       "呼外     545\n",
       "放科     493\n",
       "皮膚     385\n",
       "乳一     330\n",
       "精神     279\n",
       "救急     234\n",
       "循内     214\n",
       "口外     213\n",
       "眼科     185\n",
       "血内     176\n",
       "内泌     153\n",
       "心外     103\n",
       "腎内      75\n",
       "麻酔      69\n",
       "形外      48\n",
       "腫内      29\n",
       "Name: section, dtype: int64"
      ]
     },
     "execution_count": 28,
     "metadata": {},
     "output_type": "execute_result"
    }
   ],
   "source": [
    "df['section'].value_counts()"
   ]
  },
  {
   "cell_type": "code",
   "execution_count": 29,
   "id": "656fc7ae-bb3e-46d4-83cf-5db34f457ab5",
   "metadata": {},
   "outputs": [
    {
     "data": {
      "text/plain": [
       "year         False\n",
       "section      False\n",
       "label        False\n",
       "position     False\n",
       "purpose      False\n",
       "diagnosis    False\n",
       "男            False\n",
       "女            False\n",
       "単純           False\n",
       "造影           False\n",
       "dtype: bool"
      ]
     },
     "execution_count": 29,
     "metadata": {},
     "output_type": "execute_result"
    }
   ],
   "source": [
    "df.isnull().all(axis=0)"
   ]
  },
  {
   "cell_type": "code",
   "execution_count": 30,
   "id": "9eace76f-4502-4ad0-983f-c27eb9c9bb3f",
   "metadata": {},
   "outputs": [],
   "source": [
    "df.to_csv(\"CorrectedData.csv\",index=False)"
   ]
  },
  {
   "cell_type": "code",
   "execution_count": 6,
   "id": "c1ec71a1-43ca-4ba8-91c8-44344ada6ec5",
   "metadata": {},
   "outputs": [],
   "source": [
    "df = pd.read_csv(\"CorrectedData.csv\")"
   ]
  },
  {
   "cell_type": "code",
   "execution_count": 8,
   "id": "1deefc2b-5a3b-43a8-a50f-9a824ea8f080",
   "metadata": {},
   "outputs": [
    {
     "data": {
      "text/plain": [
       "19278"
      ]
     },
     "execution_count": 8,
     "metadata": {},
     "output_type": "execute_result"
    }
   ],
   "source": [
    "len(df)"
   ]
  },
  {
   "cell_type": "code",
   "execution_count": null,
   "id": "aa45a381-60d8-4771-a038-1fbaff865300",
   "metadata": {},
   "outputs": [],
   "source": []
  }
 ],
 "metadata": {
  "kernelspec": {
   "display_name": "Python 3 (ipykernel)",
   "language": "python",
   "name": "python3"
  },
  "language_info": {
   "codemirror_mode": {
    "name": "ipython",
    "version": 3
   },
   "file_extension": ".py",
   "mimetype": "text/x-python",
   "name": "python",
   "nbconvert_exporter": "python",
   "pygments_lexer": "ipython3",
   "version": "3.9.10"
  }
 },
 "nbformat": 4,
 "nbformat_minor": 5
}
