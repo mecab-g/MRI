{
 "cells": [
  {
   "cell_type": "code",
   "execution_count": 51,
   "id": "c4de2c3a-2a8a-4e35-9583-b5a68c6a1f40",
   "metadata": {},
   "outputs": [],
   "source": [
    "import numpy as np\n",
    "import pandas as pd "
   ]
  },
  {
   "cell_type": "code",
   "execution_count": 52,
   "id": "dfbff31e-5526-4e2a-95ce-30f6ec3b09da",
   "metadata": {},
   "outputs": [],
   "source": [
    "import matplotlib.pyplot as plt\n",
    "import seaborn as sns"
   ]
  },
  {
   "cell_type": "code",
   "execution_count": 53,
   "id": "096f0c0b-1fe0-49e1-80f3-735265733b0a",
   "metadata": {},
   "outputs": [],
   "source": [
    "from modules import TrainData, one_hot ,position_transform, wakati, meishi,FastText_Vectrizer,rename_section,exam_preprosses,to_vec"
   ]
  },
  {
   "cell_type": "code",
   "execution_count": 54,
   "id": "2f006c21-8400-455f-9f4c-c1b403220d3d",
   "metadata": {},
   "outputs": [],
   "source": [
    "# データの修正"
   ]
  },
  {
   "cell_type": "code",
   "execution_count": 95,
   "id": "00b12104-66c9-4b01-a160-df2f13333803",
   "metadata": {},
   "outputs": [],
   "source": [
    "df = pd.read_csv('DATA20200401_20220331(修正後).csv', encoding='cp932', header=None)"
   ]
  },
  {
   "cell_type": "code",
   "execution_count": 96,
   "id": "5f898fac-69b0-4cc3-935c-9121cec2933d",
   "metadata": {},
   "outputs": [
    {
     "data": {
      "text/plain": [
       "array(['A1', 'A2', 'AB1', 'AB3', 'AB4', 'AB5', 'AB6', 'B1', 'B2', 'BL1',\n",
       "       'C1', 'C2', 'C３', 'C3', 'C3.', 'DW', 'H1', 'H10', 'H12', 'H13',\n",
       "       'H13 ', 'H14', 'H15', 'H16', 'H17', 'H18', 'H19', 'H2', 'H20',\n",
       "       'H3', 'H4', 'H5', 'H6', 'H6\\n', 'H7', 'H７', 'H7.', 'H8', 'H８',\n",
       "       'H9', 'HS', 'K1', 'K2', 'L1', 'L2', 'L3', 'L4', 'L5', 'LI1',\n",
       "       'LI1\\n', 'LI2', 'LI3', 'LI3\\n', 'LI4', 'N1', 'P1', 'PL1', 'R1',\n",
       "       'R2', 'S1', 'S1\\n', 'S2', 'S3', 'S4', 'S5', 'S6', 'S7', 'S9', 'U1',\n",
       "       'U2', 'U3', 'U4', 'U5', nan], dtype=object)"
      ]
     },
     "execution_count": 96,
     "metadata": {},
     "output_type": "execute_result"
    }
   ],
   "source": [
    "# ラベルの間違い修正\n",
    "df[3].unique()"
   ]
  },
  {
   "cell_type": "code",
   "execution_count": 97,
   "id": "d060e0de-ec3d-4e3b-b78d-a25892523154",
   "metadata": {},
   "outputs": [],
   "source": [
    "df[3]=df[3].replace(['C３', 'C3', 'C3.'], 'C3')\n",
    "df[3]=df[3].replace(['H13', 'H13 '], 'H13')\n",
    "df[3]=df[3].replace(['H6', 'H6\\n'], 'H6')\n",
    "df[3]=df[3].replace(['H7', 'H７', 'H7.'], 'H7')\n",
    "df[3]=df[3].replace(['H8', 'H８'], 'H8')\n",
    "df[3]=df[3].replace(['LI3\\n'], 'LI3')\n",
    "df[3]=df[3].replace(['S1', 'S1\\n'], 'S1')\n",
    "df[3]=df[3].replace(['LI1','LI1\\n'], 'LI1')"
   ]
  },
  {
   "cell_type": "code",
   "execution_count": 98,
   "id": "2024df53-4961-48c6-b02d-86cffb3dbdf2",
   "metadata": {},
   "outputs": [
    {
     "data": {
      "text/html": [
       "<div>\n",
       "<style scoped>\n",
       "    .dataframe tbody tr th:only-of-type {\n",
       "        vertical-align: middle;\n",
       "    }\n",
       "\n",
       "    .dataframe tbody tr th {\n",
       "        vertical-align: top;\n",
       "    }\n",
       "\n",
       "    .dataframe thead th {\n",
       "        text-align: right;\n",
       "    }\n",
       "</style>\n",
       "<table border=\"1\" class=\"dataframe\">\n",
       "  <thead>\n",
       "    <tr style=\"text-align: right;\">\n",
       "      <th></th>\n",
       "      <th>0</th>\n",
       "      <th>1</th>\n",
       "      <th>2</th>\n",
       "      <th>3</th>\n",
       "      <th>4</th>\n",
       "      <th>5</th>\n",
       "      <th>6</th>\n",
       "      <th>7</th>\n",
       "      <th>8</th>\n",
       "    </tr>\n",
       "  </thead>\n",
       "  <tbody>\n",
       "    <tr>\n",
       "      <th>4063</th>\n",
       "      <td>11</td>\n",
       "      <td>女</td>\n",
       "      <td>耳鼻</td>\n",
       "      <td>H14</td>\n",
       "      <td>頭部(脳)</td>\n",
       "      <td>嗅球プロトコル。先天性嗅覚障害です ３Tでお願いします。</td>\n",
       "      <td>くも膜のう胞</td>\n",
       "      <td>依頼通りに嗅球プロトコル</td>\n",
       "      <td>単純</td>\n",
       "    </tr>\n",
       "  </tbody>\n",
       "</table>\n",
       "</div>"
      ],
      "text/plain": [
       "       0  1   2    3      4                             5       6  \\\n",
       "4063  11  女  耳鼻  H14  頭部(脳)  嗅球プロトコル。先天性嗅覚障害です ３Tでお願いします。  くも膜のう胞   \n",
       "\n",
       "                 7   8  \n",
       "4063  依頼通りに嗅球プロトコル  単純  "
      ]
     },
     "execution_count": 98,
     "metadata": {},
     "output_type": "execute_result"
    }
   ],
   "source": [
    "df[df[3]=='H14']"
   ]
  },
  {
   "cell_type": "code",
   "execution_count": 99,
   "id": "d0174b2b-e311-453a-96fa-c91d677c5acf",
   "metadata": {},
   "outputs": [],
   "source": [
    "df[2] = df[2].replace('H1', '脳外')"
   ]
  },
  {
   "cell_type": "code",
   "execution_count": 100,
   "id": "d6688531-f98c-4ae5-b99f-799ba8a464a3",
   "metadata": {},
   "outputs": [],
   "source": [
    "df[3] = df[3].replace('H14', 'N1')"
   ]
  },
  {
   "cell_type": "code",
   "execution_count": 101,
   "id": "9a7615ab-1306-4d4e-b406-f7fd8e85b532",
   "metadata": {},
   "outputs": [
    {
     "data": {
      "text/html": [
       "<div>\n",
       "<style scoped>\n",
       "    .dataframe tbody tr th:only-of-type {\n",
       "        vertical-align: middle;\n",
       "    }\n",
       "\n",
       "    .dataframe tbody tr th {\n",
       "        vertical-align: top;\n",
       "    }\n",
       "\n",
       "    .dataframe thead th {\n",
       "        text-align: right;\n",
       "    }\n",
       "</style>\n",
       "<table border=\"1\" class=\"dataframe\">\n",
       "  <thead>\n",
       "    <tr style=\"text-align: right;\">\n",
       "      <th></th>\n",
       "      <th>0</th>\n",
       "      <th>1</th>\n",
       "      <th>2</th>\n",
       "      <th>3</th>\n",
       "      <th>4</th>\n",
       "      <th>5</th>\n",
       "      <th>6</th>\n",
       "      <th>7</th>\n",
       "      <th>8</th>\n",
       "    </tr>\n",
       "  </thead>\n",
       "  <tbody>\n",
       "    <tr>\n",
       "      <th>3</th>\n",
       "      <td>55</td>\n",
       "      <td>男</td>\n",
       "      <td>血内</td>\n",
       "      <td>A2</td>\n",
       "      <td>下肢血管：静脈（単純）</td>\n",
       "      <td>上記症例。　左下肢血栓症の疑い。本人の訴えは、大腿部から下腿にかけてです。　本人の強い希望に...</td>\n",
       "      <td>多発性骨髄腫</td>\n",
       "      <td>NaN</td>\n",
       "      <td>単純</td>\n",
       "    </tr>\n",
       "    <tr>\n",
       "      <th>128</th>\n",
       "      <td>80</td>\n",
       "      <td>女</td>\n",
       "      <td>放科</td>\n",
       "      <td>AB3</td>\n",
       "      <td>骨盤部</td>\n",
       "      <td>病診：いしやま内科整形外科よりご紹介。腹部不快感で受診。腹部エコーで卵巣腫大の疑い。精査目的。</td>\n",
       "      <td>卵巣腫瘍の疑い</td>\n",
       "      <td>NaN</td>\n",
       "      <td>単純</td>\n",
       "    </tr>\n",
       "    <tr>\n",
       "      <th>206</th>\n",
       "      <td>32</td>\n",
       "      <td>女</td>\n",
       "      <td>脳内</td>\n",
       "      <td>AB3</td>\n",
       "      <td>婦人科下腹部</td>\n",
       "      <td>NMDA受容体脳炎疑いで救急搬送。下腹部CTで奇形 腫の疑いあり。MRIにて精査お願いします。</td>\n",
       "      <td>卵巣奇形腫の疑い</td>\n",
       "      <td>NaN</td>\n",
       "      <td>単純</td>\n",
       "    </tr>\n",
       "    <tr>\n",
       "      <th>327</th>\n",
       "      <td>45</td>\n",
       "      <td>女</td>\n",
       "      <td>放科</td>\n",
       "      <td>AB3</td>\n",
       "      <td>婦人科下腹部</td>\n",
       "      <td>病診 不整出血にて受診、自然に改善したが、その際の診察エコーにて左卵巣腫瘍を疑う（卵管血腫？...</td>\n",
       "      <td>卵巣腫瘍</td>\n",
       "      <td>NaN</td>\n",
       "      <td>単純</td>\n",
       "    </tr>\n",
       "    <tr>\n",
       "      <th>375</th>\n",
       "      <td>52</td>\n",
       "      <td>女</td>\n",
       "      <td>母女</td>\n",
       "      <td>AB3</td>\n",
       "      <td>婦人科下腹部</td>\n",
       "      <td>急性腹症で救急受診した患者。 骨盤内に充実部分を伴う嚢胞性腫瘤および腹水あり。 精査目的です。</td>\n",
       "      <td>卵巣癌の疑い</td>\n",
       "      <td>NaN</td>\n",
       "      <td>単純＋造影Gd</td>\n",
       "    </tr>\n",
       "    <tr>\n",
       "      <th>...</th>\n",
       "      <td>...</td>\n",
       "      <td>...</td>\n",
       "      <td>...</td>\n",
       "      <td>...</td>\n",
       "      <td>...</td>\n",
       "      <td>...</td>\n",
       "      <td>...</td>\n",
       "      <td>...</td>\n",
       "      <td>...</td>\n",
       "    </tr>\n",
       "    <tr>\n",
       "      <th>18754</th>\n",
       "      <td>84</td>\n",
       "      <td>女</td>\n",
       "      <td>救急</td>\n",
       "      <td>S5</td>\n",
       "      <td>全脊椎(単純)Sagのみ</td>\n",
       "      <td>1ヶ月ほど前より背部痛あり。3/23CTで複数の圧 迫骨折指摘を指摘された。何とか歩行できて...</td>\n",
       "      <td>胸腰椎圧迫骨折</td>\n",
       "      <td>NaN</td>\n",
       "      <td>単純</td>\n",
       "    </tr>\n",
       "    <tr>\n",
       "      <th>18761</th>\n",
       "      <td>89</td>\n",
       "      <td>女</td>\n",
       "      <td>心外</td>\n",
       "      <td>S5</td>\n",
       "      <td>全脊椎(単純)Sagのみ</td>\n",
       "      <td>亜急性に進行する下肢運動障害あり。 頸椎～胸椎～腰椎の腫瘍性病変や脊髄疾患精査目的です。</td>\n",
       "      <td>脊髄腫瘍</td>\n",
       "      <td>NaN</td>\n",
       "      <td>単純</td>\n",
       "    </tr>\n",
       "    <tr>\n",
       "      <th>18839</th>\n",
       "      <td>44</td>\n",
       "      <td>女</td>\n",
       "      <td>脳外</td>\n",
       "      <td>S6</td>\n",
       "      <td>脊椎(委任)</td>\n",
       "      <td>全脊髄FIESTA axial (volumeでな くても良いから脂肪抑制) かならずaxi...</td>\n",
       "      <td>脳脊髄液漏出症の疑い</td>\n",
       "      <td>NaN</td>\n",
       "      <td>単純</td>\n",
       "    </tr>\n",
       "    <tr>\n",
       "      <th>19285</th>\n",
       "      <td>25</td>\n",
       "      <td>男</td>\n",
       "      <td>整形</td>\n",
       "      <td>U3</td>\n",
       "      <td>手関節</td>\n",
       "      <td>左TFCC損傷疑いです ECU腱は腱鞘から脱臼している状況です。</td>\n",
       "      <td>左ＴＦＣＣ損傷</td>\n",
       "      <td>NaN</td>\n",
       "      <td>単純</td>\n",
       "    </tr>\n",
       "    <tr>\n",
       "      <th>19336</th>\n",
       "      <td>14</td>\n",
       "      <td>男</td>\n",
       "      <td>小児</td>\n",
       "      <td>NaN</td>\n",
       "      <td>頚部</td>\n",
       "      <td>3月より右頚部リンパ節腫脹あり。増大傾向あり近医受診、近医で生検後、当院に5月22日受診。悪...</td>\n",
       "      <td>右頚部リンパ節腫瘍</td>\n",
       "      <td>2枠あり。こちらにまとめて記載します。\\r\\nBUN CRE n.p 腎機能OK\\r\\n同意...</td>\n",
       "      <td>単純＋造影Gd</td>\n",
       "    </tr>\n",
       "  </tbody>\n",
       "</table>\n",
       "<p>463 rows × 9 columns</p>\n",
       "</div>"
      ],
      "text/plain": [
       "        0  1   2    3             4  \\\n",
       "3      55  男  血内   A2   下肢血管：静脈（単純）   \n",
       "128    80  女  放科  AB3           骨盤部   \n",
       "206    32  女  脳内  AB3        婦人科下腹部   \n",
       "327    45  女  放科  AB3        婦人科下腹部   \n",
       "375    52  女  母女  AB3        婦人科下腹部   \n",
       "...    .. ..  ..  ...           ...   \n",
       "18754  84  女  救急   S5  全脊椎(単純)Sagのみ   \n",
       "18761  89  女  心外   S5  全脊椎(単純)Sagのみ   \n",
       "18839  44  女  脳外   S6        脊椎(委任)   \n",
       "19285  25  男  整形   U3           手関節   \n",
       "19336  14  男  小児  NaN            頚部   \n",
       "\n",
       "                                                       5           6  \\\n",
       "3      上記症例。　左下肢血栓症の疑い。本人の訴えは、大腿部から下腿にかけてです。　本人の強い希望に...      多発性骨髄腫   \n",
       "128      病診：いしやま内科整形外科よりご紹介。腹部不快感で受診。腹部エコーで卵巣腫大の疑い。精査目的。     卵巣腫瘍の疑い   \n",
       "206      NMDA受容体脳炎疑いで救急搬送。下腹部CTで奇形 腫の疑いあり。MRIにて精査お願いします。    卵巣奇形腫の疑い   \n",
       "327    病診 不整出血にて受診、自然に改善したが、その際の診察エコーにて左卵巣腫瘍を疑う（卵管血腫？...        卵巣腫瘍   \n",
       "375      急性腹症で救急受診した患者。 骨盤内に充実部分を伴う嚢胞性腫瘤および腹水あり。 精査目的です。      卵巣癌の疑い   \n",
       "...                                                  ...         ...   \n",
       "18754  1ヶ月ほど前より背部痛あり。3/23CTで複数の圧 迫骨折指摘を指摘された。何とか歩行できて...     胸腰椎圧迫骨折   \n",
       "18761       亜急性に進行する下肢運動障害あり。 頸椎～胸椎～腰椎の腫瘍性病変や脊髄疾患精査目的です。        脊髄腫瘍   \n",
       "18839  全脊髄FIESTA axial (volumeでな くても良いから脂肪抑制) かならずaxi...  脳脊髄液漏出症の疑い   \n",
       "19285                   左TFCC損傷疑いです ECU腱は腱鞘から脱臼している状況です。     左ＴＦＣＣ損傷   \n",
       "19336  3月より右頚部リンパ節腫脹あり。増大傾向あり近医受診、近医で生検後、当院に5月22日受診。悪...   右頚部リンパ節腫瘍   \n",
       "\n",
       "                                                       7        8  \n",
       "3                                                    NaN       単純  \n",
       "128                                                  NaN       単純  \n",
       "206                                                  NaN       単純  \n",
       "327                                                  NaN       単純  \n",
       "375                                                  NaN  単純＋造影Gd  \n",
       "...                                                  ...      ...  \n",
       "18754                                                NaN       単純  \n",
       "18761                                                NaN       単純  \n",
       "18839                                                NaN       単純  \n",
       "19285                                                NaN       単純  \n",
       "19336  2枠あり。こちらにまとめて記載します。\\r\\nBUN CRE n.p 腎機能OK\\r\\n同意...  単純＋造影Gd  \n",
       "\n",
       "[463 rows x 9 columns]"
      ]
     },
     "execution_count": 101,
     "metadata": {},
     "output_type": "execute_result"
    }
   ],
   "source": [
    "df[df.isnull().any(axis=1)]"
   ]
  },
  {
   "cell_type": "code",
   "execution_count": 102,
   "id": "7e224bbf-7297-453d-9ee1-60df0e3fd9aa",
   "metadata": {},
   "outputs": [],
   "source": [
    "df = df.dropna()"
   ]
  },
  {
   "cell_type": "code",
   "execution_count": 103,
   "id": "bb0183f1-68dd-44ae-923b-bc1570cd971b",
   "metadata": {},
   "outputs": [],
   "source": [
    "df.loc[df[2].str.contains('総診'), 2] = '救急'\n",
    "df.loc[df[2].str.contains('ﾍﾟｲﾝ'), 2] = '麻酔'"
   ]
  },
  {
   "cell_type": "code",
   "execution_count": 104,
   "id": "713f931d-fd0e-492a-8b7b-c8545492ddbb",
   "metadata": {},
   "outputs": [],
   "source": [
    "del df[7]"
   ]
  },
  {
   "cell_type": "code",
   "execution_count": null,
   "id": "85cf7104-de8a-4410-b08d-f0aced767bd9",
   "metadata": {},
   "outputs": [],
   "source": []
  },
  {
   "cell_type": "code",
   "execution_count": 7,
   "id": "500661ed-8b92-41ab-a73c-36fd1b69e15a",
   "metadata": {},
   "outputs": [
    {
     "name": "stdout",
     "output_type": "stream",
     "text": [
      "['男' '女']\n"
     ]
    }
   ],
   "source": [
    "df = one_hot(df, 'sex')"
   ]
  },
  {
   "cell_type": "code",
   "execution_count": 8,
   "id": "0f67115e-e073-4297-9a09-3d5a60397887",
   "metadata": {},
   "outputs": [
    {
     "name": "stdout",
     "output_type": "stream",
     "text": [
      "['単純' '造影']\n"
     ]
    }
   ],
   "source": [
    "df = one_hot(df, 'CE')"
   ]
  },
  {
   "cell_type": "code",
   "execution_count": 105,
   "id": "8ef9dafd-625f-4261-b961-4292f3f6fec4",
   "metadata": {},
   "outputs": [],
   "source": [
    "df[3] = df[3].replace('S7', 'S6')\n",
    "df[3] = df[3].replace('LI4', 'LI3')"
   ]
  },
  {
   "cell_type": "code",
   "execution_count": 106,
   "id": "a1e17347-a988-433e-bcf1-03d960107014",
   "metadata": {},
   "outputs": [
    {
     "data": {
      "text/plain": [
       "array(['A1', 'A2', 'AB1', 'AB3', 'AB4', 'AB5', 'AB6', 'B1', 'B2', 'BL1',\n",
       "       'C1', 'C2', 'C3', 'DW', 'H1', 'H10', 'H12', 'H13', 'N1', 'H15',\n",
       "       'H16', 'H17', 'H18', 'H19', 'H2', 'H20', 'H3', 'H4', 'H5', 'H6',\n",
       "       'H7', 'H8', 'H9', 'HS', 'K1', 'K2', 'L1', 'L2', 'L3', 'L4', 'L5',\n",
       "       'LI1', 'LI2', 'LI3', 'P1', 'PL1', 'R1', 'R2', 'S1', 'S2', 'S3',\n",
       "       'S4', 'S5', 'S6', 'S9', 'U1', 'U2', 'U3', 'U4', 'U5'], dtype=object)"
      ]
     },
     "execution_count": 106,
     "metadata": {},
     "output_type": "execute_result"
    }
   ],
   "source": [
    "df[3].unique()"
   ]
  },
  {
   "cell_type": "code",
   "execution_count": 107,
   "id": "a22454fa-e32d-452c-94b9-851ab3cef19a",
   "metadata": {},
   "outputs": [
    {
     "data": {
      "text/plain": [
       "array(['脳内', '心外', '腎内', '皮膚', '循内', '内泌', '形外', '小児', '消外', '整形', '消内',\n",
       "       '腫内', '放科', '泌尿', '救急', '母女', '乳一', '耳鼻', '精神', '呼外', '血内', '呼内',\n",
       "       '口外', '脳外', '眼科', '麻酔'], dtype=object)"
      ]
     },
     "execution_count": 107,
     "metadata": {},
     "output_type": "execute_result"
    }
   ],
   "source": [
    "df[2].unique()"
   ]
  },
  {
   "cell_type": "code",
   "execution_count": 108,
   "id": "7ee399e3-144c-44a4-bcb5-1e878de4651d",
   "metadata": {},
   "outputs": [
    {
     "data": {
      "text/plain": [
       "array(['胸部委任', '下肢血管：動脈（単純）', '下腿部', '下腹部(一般)', '腰椎(髄)', '骨盤部',\n",
       "       '上腹部(肝胆膵他）', '上腹部委任', '腎臓', '婦人科下腹部', '泌尿器系下腹部', '胎児撮影(AFG)',\n",
       "       '腸管(経口法)', 'MRdevice骨盤部', 'MRdevice腹部', '下肢(委任)', '眼窩', '胸部(郭)',\n",
       "       '頚部', '頚部(委任)', '肩関節', '肩軟部', '股関節', '上下顎部', '上肢(委任)', '上腹部血管(造影）',\n",
       "       '上腕部', '脊椎(委任)', '前腕部', '足関節', '足及び足指', '大腿部', '頭部(委任)', '頭部(脳)',\n",
       "       '内耳(後頭蓋窩)', '乳房', '副鼻腔', '膝関節', '手関節', '手及び手指', '手首軟部', '足首軟部',\n",
       "       '膝軟部', '肘関節', '肘軟部', '膀胱', '縦隔', 'MRdevice胸部', '心臓', '乳房Dynamic',\n",
       "       'WB MRI', '全脊椎(単純)Sagのみ', 'MRA頚部', 'MRA脳', 'MRdevice頭頸部', '顎関節',\n",
       "       '頭部,頚部(他)', '下垂体', '下垂体Dynamic', '全脊椎(造影)Sagのみ', '頚椎(髄)',\n",
       "       '上腹部血管(単純）', '腎動脈（単純)', '副腎', '下腹部血管(単純）', 'MRdevice下肢',\n",
       "       '上肢血管（造影）', '下肢血管：動脈（造影）', '胆道系(MRCP)', '前立腺', '下腹部委任', '直腸',\n",
       "       '尿路系MR[VCG(単純)]', '胸椎(髄)', 'MRdevice上肢'], dtype=object)"
      ]
     },
     "execution_count": 108,
     "metadata": {},
     "output_type": "execute_result"
    }
   ],
   "source": [
    "df[4].unique()"
   ]
  },
  {
   "cell_type": "code",
   "execution_count": 109,
   "id": "a8258e25-41ee-4272-a6d6-f9ec290fea7d",
   "metadata": {},
   "outputs": [],
   "source": [
    "df=df.rename(columns={0:'year',1:'sex',2:'section',3:'label',4:'position',5:'purpose',6:'diagnosis',8:'CE'})"
   ]
  },
  {
   "cell_type": "code",
   "execution_count": 110,
   "id": "b5b60051-c211-454b-8f71-1a4959e89685",
   "metadata": {},
   "outputs": [
    {
     "data": {
      "text/html": [
       "<div>\n",
       "<style scoped>\n",
       "    .dataframe tbody tr th:only-of-type {\n",
       "        vertical-align: middle;\n",
       "    }\n",
       "\n",
       "    .dataframe tbody tr th {\n",
       "        vertical-align: top;\n",
       "    }\n",
       "\n",
       "    .dataframe thead th {\n",
       "        text-align: right;\n",
       "    }\n",
       "</style>\n",
       "<table border=\"1\" class=\"dataframe\">\n",
       "  <thead>\n",
       "    <tr style=\"text-align: right;\">\n",
       "      <th></th>\n",
       "      <th>year</th>\n",
       "      <th>sex</th>\n",
       "      <th>section</th>\n",
       "      <th>label</th>\n",
       "      <th>position</th>\n",
       "      <th>purpose</th>\n",
       "      <th>diagnosis</th>\n",
       "      <th>CE</th>\n",
       "    </tr>\n",
       "  </thead>\n",
       "  <tbody>\n",
       "    <tr>\n",
       "      <th>0</th>\n",
       "      <td>46</td>\n",
       "      <td>男</td>\n",
       "      <td>脳内</td>\n",
       "      <td>A1</td>\n",
       "      <td>胸部委任</td>\n",
       "      <td>脳梗塞原因検査中の方です。 恐縮ですが、大動脈プラークイメージおよび、頚部動脈プラークイメー...</td>\n",
       "      <td>アテローム血栓性脳梗塞・急性期</td>\n",
       "      <td>単純</td>\n",
       "    </tr>\n",
       "    <tr>\n",
       "      <th>1</th>\n",
       "      <td>72</td>\n",
       "      <td>男</td>\n",
       "      <td>脳内</td>\n",
       "      <td>A1</td>\n",
       "      <td>胸部委任</td>\n",
       "      <td>動脈硬化リスクの高い方。 無症候性脳梗塞の繰り返しのためAorta imag eも含め、弓部...</td>\n",
       "      <td>冠動脈バイパス術後 左鎖骨下動脈狭窄症</td>\n",
       "      <td>単純</td>\n",
       "    </tr>\n",
       "    <tr>\n",
       "      <th>2</th>\n",
       "      <td>72</td>\n",
       "      <td>女</td>\n",
       "      <td>心外</td>\n",
       "      <td>A1</td>\n",
       "      <td>胸部委任</td>\n",
       "      <td>術前精査</td>\n",
       "      <td>鎖骨下動脈瘤</td>\n",
       "      <td>単純</td>\n",
       "    </tr>\n",
       "    <tr>\n",
       "      <th>4</th>\n",
       "      <td>48</td>\n",
       "      <td>男</td>\n",
       "      <td>腎内</td>\n",
       "      <td>A2</td>\n",
       "      <td>下肢血管：動脈（単純）</td>\n",
       "      <td>糖尿病、血液透析中の患者さん。 両下肢の歩行時痺れ痛み。間欠性跛行あり。 ASOの精査目的</td>\n",
       "      <td>下肢閉塞性動脈硬化症</td>\n",
       "      <td>単純</td>\n",
       "    </tr>\n",
       "    <tr>\n",
       "      <th>5</th>\n",
       "      <td>60</td>\n",
       "      <td>女</td>\n",
       "      <td>皮膚</td>\n",
       "      <td>A2</td>\n",
       "      <td>下肢血管：動脈（単純）</td>\n",
       "      <td>上記で加療中です。足趾潰瘍と色調不良の悪化あります。血管の 状態悪化ありますでしょうか。</td>\n",
       "      <td>四肢バージャー病</td>\n",
       "      <td>単純</td>\n",
       "    </tr>\n",
       "    <tr>\n",
       "      <th>...</th>\n",
       "      <td>...</td>\n",
       "      <td>...</td>\n",
       "      <td>...</td>\n",
       "      <td>...</td>\n",
       "      <td>...</td>\n",
       "      <td>...</td>\n",
       "      <td>...</td>\n",
       "      <td>...</td>\n",
       "    </tr>\n",
       "    <tr>\n",
       "      <th>19331</th>\n",
       "      <td>64</td>\n",
       "      <td>女</td>\n",
       "      <td>整形</td>\n",
       "      <td>U5</td>\n",
       "      <td>肘関節</td>\n",
       "      <td>右肘痛精査目的</td>\n",
       "      <td>関節リウマチ・肘関節</td>\n",
       "      <td>単純</td>\n",
       "    </tr>\n",
       "    <tr>\n",
       "      <th>19332</th>\n",
       "      <td>67</td>\n",
       "      <td>女</td>\n",
       "      <td>整形</td>\n",
       "      <td>U5</td>\n",
       "      <td>肘関節</td>\n",
       "      <td>1ヶ月ほど前～左肘内側のしこり、圧痛あり CTで1cm程度の腫瘤？あります</td>\n",
       "      <td>関節リウマチ</td>\n",
       "      <td>単純</td>\n",
       "    </tr>\n",
       "    <tr>\n",
       "      <th>19333</th>\n",
       "      <td>73</td>\n",
       "      <td>男</td>\n",
       "      <td>整形</td>\n",
       "      <td>U5</td>\n",
       "      <td>肘関節</td>\n",
       "      <td>左肘部管症候群疑い　尺骨神経精査</td>\n",
       "      <td>左肘部管症候群</td>\n",
       "      <td>単純</td>\n",
       "    </tr>\n",
       "    <tr>\n",
       "      <th>19334</th>\n",
       "      <td>73</td>\n",
       "      <td>男</td>\n",
       "      <td>整形</td>\n",
       "      <td>U5</td>\n",
       "      <td>肘関節</td>\n",
       "      <td>肘部管精査目的　左尺骨神経障害</td>\n",
       "      <td>左肘部管症候群</td>\n",
       "      <td>単純</td>\n",
       "    </tr>\n",
       "    <tr>\n",
       "      <th>19335</th>\n",
       "      <td>52</td>\n",
       "      <td>女</td>\n",
       "      <td>整形</td>\n",
       "      <td>U5</td>\n",
       "      <td>肘軟部</td>\n",
       "      <td>左肘の腫瘍は無いかどうかの精査です。症状は後骨間神経麻痺があります。腫瘍などの存在で神経の圧...</td>\n",
       "      <td>左後骨間神経麻痺</td>\n",
       "      <td>単純</td>\n",
       "    </tr>\n",
       "  </tbody>\n",
       "</table>\n",
       "<p>18874 rows × 8 columns</p>\n",
       "</div>"
      ],
      "text/plain": [
       "       year sex section label     position  \\\n",
       "0        46   男      脳内    A1         胸部委任   \n",
       "1        72   男      脳内    A1         胸部委任   \n",
       "2        72   女      心外    A1         胸部委任   \n",
       "4        48   男      腎内    A2  下肢血管：動脈（単純）   \n",
       "5        60   女      皮膚    A2  下肢血管：動脈（単純）   \n",
       "...     ...  ..     ...   ...          ...   \n",
       "19331    64   女      整形    U5          肘関節   \n",
       "19332    67   女      整形    U5          肘関節   \n",
       "19333    73   男      整形    U5          肘関節   \n",
       "19334    73   男      整形    U5          肘関節   \n",
       "19335    52   女      整形    U5          肘軟部   \n",
       "\n",
       "                                                 purpose            diagnosis  \\\n",
       "0      脳梗塞原因検査中の方です。 恐縮ですが、大動脈プラークイメージおよび、頚部動脈プラークイメー...      アテローム血栓性脳梗塞・急性期   \n",
       "1      動脈硬化リスクの高い方。 無症候性脳梗塞の繰り返しのためAorta imag eも含め、弓部...  冠動脈バイパス術後 左鎖骨下動脈狭窄症   \n",
       "2                                                   術前精査               鎖骨下動脈瘤   \n",
       "4          糖尿病、血液透析中の患者さん。 両下肢の歩行時痺れ痛み。間欠性跛行あり。 ASOの精査目的           下肢閉塞性動脈硬化症   \n",
       "5           上記で加療中です。足趾潰瘍と色調不良の悪化あります。血管の 状態悪化ありますでしょうか。             四肢バージャー病   \n",
       "...                                                  ...                  ...   \n",
       "19331                                            右肘痛精査目的           関節リウマチ・肘関節   \n",
       "19332              1ヶ月ほど前～左肘内側のしこり、圧痛あり CTで1cm程度の腫瘤？あります               関節リウマチ   \n",
       "19333                                   左肘部管症候群疑い　尺骨神経精査              左肘部管症候群   \n",
       "19334                                    肘部管精査目的　左尺骨神経障害              左肘部管症候群   \n",
       "19335  左肘の腫瘍は無いかどうかの精査です。症状は後骨間神経麻痺があります。腫瘍などの存在で神経の圧...             左後骨間神経麻痺   \n",
       "\n",
       "       CE  \n",
       "0      単純  \n",
       "1      単純  \n",
       "2      単純  \n",
       "4      単純  \n",
       "5      単純  \n",
       "...    ..  \n",
       "19331  単純  \n",
       "19332  単純  \n",
       "19333  単純  \n",
       "19334  単純  \n",
       "19335  単純  \n",
       "\n",
       "[18874 rows x 8 columns]"
      ]
     },
     "execution_count": 110,
     "metadata": {},
     "output_type": "execute_result"
    }
   ],
   "source": [
    "df"
   ]
  },
  {
   "cell_type": "code",
   "execution_count": 111,
   "id": "3aea4623-7d20-444d-aff6-c4f451fb55f4",
   "metadata": {},
   "outputs": [],
   "source": [
    "position_list = df['position'].unique()\n",
    "\n",
    "df['position']=df['position'].replace( list(filter(lambda x: '下肢血管' in x,position_list)), '下肢血管')\n",
    "df['position']=df['position'].replace( list(filter(lambda x: '頚部' in x,position_list)), '頚部')\n",
    "df['position']=df['position'].replace( list(filter(lambda x: '上肢' in x,position_list)), '上肢')\n",
    "df['position']=df['position'].replace( list(filter(lambda x: 'MRdevice' in x,position_list)), 'MRdevice')\n",
    "df['position']=df['position'].replace( list(filter(lambda x: '全脊椎' in x,position_list)), '全脊椎')\n",
    "df['position']=df['position'].replace( list(filter(lambda x: '腹部血管' in x,position_list)), '腹部血管')\n",
    "df['position']=df['position'].replace( list(filter(lambda x: '下垂体' in x,position_list)), '下垂体')\n",
    "df['position']=df['position'].replace( list(filter(lambda x: '乳房' in x,position_list)), '乳房')\n",
    "df['position']=df['position'].replace( list(filter(lambda x: '乳房' in x,position_list)), '乳房')\n",
    "\n",
    "\n",
    "\n",
    "df['position']=df['position'].replace( ['縦隔','胸部(郭)'], '胸郭')\n",
    "df['position']=df['position'].replace( ['尿路系MR[VCG(単純)]', '泌尿器系下腹部'], '泌尿器系下腹部')\n",
    "df['position']=df['position'].replace( ['下腹部委任', '下腹部(一般)'], '下腹部')"
   ]
  },
  {
   "cell_type": "code",
   "execution_count": 112,
   "id": "38d3960d-e8d9-4ee6-aa50-52b964880842",
   "metadata": {},
   "outputs": [
    {
     "name": "stdout",
     "output_type": "stream",
     "text": [
      "Int64Index([ 1371,  1372,  2589,  2887,  2888,  2953,  2955,  2957,  4713,\n",
      "             4715,  4716,  4717,  4718,  4719,  4720,  4721,  4723,  4724,\n",
      "             4725,  4726,  8156, 10046, 10047, 10048, 10049, 10050, 10051,\n",
      "            10052, 10053, 10054, 10055, 10056, 10057, 10058, 10059, 10060,\n",
      "            11735, 12277, 12531, 12776, 12777, 13803, 13804, 13805, 13806,\n",
      "            17354, 17492, 17493, 17494, 17495, 18396],\n",
      "           dtype='int64')\n"
     ]
    }
   ],
   "source": [
    "#条件にマッチしたIndexを取得\n",
    "drop_index = df.index[(df['position'] == 'MRdevice') | \n",
    "                      (df['position'] == 'WB MRI') | \n",
    "                      (df['label'] == 'DW') \n",
    "                     ]\n",
    "#drop_index + df.index[df['position'] == 'WB MRI']\n",
    "\n",
    "print(drop_index)\n",
    "#条件にマッチしたIndexを削除\n",
    "df = df.drop(drop_index)"
   ]
  },
  {
   "cell_type": "code",
   "execution_count": 113,
   "id": "6db57147-0d08-4c33-830d-e2ca4afb4ee0",
   "metadata": {},
   "outputs": [],
   "source": [
    "CE_list = df['CE'].unique()\n",
    "df['CE']=df['CE'].replace( list(filter(lambda x: '造影' in x,CE_list)), '造影')"
   ]
  },
  {
   "cell_type": "code",
   "execution_count": 114,
   "id": "df053e83-f8ca-4bf2-98c8-6d52ee6811cc",
   "metadata": {},
   "outputs": [
    {
     "data": {
      "text/plain": [
       "頭部(脳)        4473\n",
       "頭部(委任)       3472\n",
       "胆道系(MRCP)    1542\n",
       "婦人科下腹部       1159\n",
       "腰椎(髄)         976\n",
       "上腹部(肝胆膵他）     747\n",
       "下垂体           554\n",
       "頚椎(髄)         529\n",
       "膝関節           452\n",
       "MRA脳          390\n",
       "全脊椎           382\n",
       "前立腺           357\n",
       "骨盤部           356\n",
       "肩関節           353\n",
       "頚部            287\n",
       "大腿部           265\n",
       "乳房            240\n",
       "内耳(後頭蓋窩)      200\n",
       "上下顎部          185\n",
       "胸椎(髄)         166\n",
       "眼窩            122\n",
       "股関節           110\n",
       "胸郭            108\n",
       "副鼻腔           104\n",
       "泌尿器系下腹部       101\n",
       "腎臓            100\n",
       "上腹部委任          98\n",
       "膀胱             88\n",
       "下腹部            83\n",
       "手及び手指          69\n",
       "足及び足指          65\n",
       "上腕部            64\n",
       "胸部委任           56\n",
       "下腿部            52\n",
       "心臓             45\n",
       "手関節            43\n",
       "顎関節            43\n",
       "足関節            40\n",
       "脊椎(委任)         38\n",
       "胎児撮影(AFG)      33\n",
       "肩軟部            28\n",
       "前腕部            28\n",
       "膝軟部            27\n",
       "腸管(経口法)        25\n",
       "腎動脈（単純)        25\n",
       "肘関節            23\n",
       "副腎             20\n",
       "下肢血管           19\n",
       "下肢(委任)         19\n",
       "手首軟部           14\n",
       "上肢             13\n",
       "肘軟部            11\n",
       "腹部血管           10\n",
       "足首軟部            8\n",
       "直腸              6\n",
       "Name: position, dtype: int64"
      ]
     },
     "execution_count": 114,
     "metadata": {},
     "output_type": "execute_result"
    }
   ],
   "source": [
    "df['position'].value_counts()"
   ]
  },
  {
   "cell_type": "code",
   "execution_count": 115,
   "id": "4d32bc23-5fec-4843-831e-2d51566cc602",
   "metadata": {},
   "outputs": [
    {
     "data": {
      "text/plain": [
       "H2     2785\n",
       "H7     1627\n",
       "LI2    1598\n",
       "H6     1092\n",
       "S4      894\n",
       "AB4     776\n",
       "H5      762\n",
       "B1      732\n",
       "H1      638\n",
       "H8      587\n",
       "LI3     522\n",
       "N1      491\n",
       "S1      476\n",
       "P1      403\n",
       "L2      401\n",
       "AB3     371\n",
       "S5      359\n",
       "U2      333\n",
       "H4      324\n",
       "H10     323\n",
       "B2      261\n",
       "H19     255\n",
       "C3      242\n",
       "H9      221\n",
       "LI1     203\n",
       "H3      195\n",
       "S6      167\n",
       "R1      138\n",
       "S3      137\n",
       "K1      136\n",
       "H13     121\n",
       "C1      109\n",
       "BL1     106\n",
       "H18     100\n",
       "AB1      89\n",
       "L3       80\n",
       "AB5      70\n",
       "L1       69\n",
       "H15      64\n",
       "R2       60\n",
       "H12      57\n",
       "H17      49\n",
       "C2       45\n",
       "S2       44\n",
       "PL1      41\n",
       "K2       39\n",
       "L4       36\n",
       "U3       34\n",
       "HS       30\n",
       "L5       26\n",
       "AB6      25\n",
       "A2       19\n",
       "H20      18\n",
       "U5       10\n",
       "S9       10\n",
       "U4        9\n",
       "H16       6\n",
       "U1        5\n",
       "A1        3\n",
       "Name: label, dtype: int64"
      ]
     },
     "execution_count": 115,
     "metadata": {},
     "output_type": "execute_result"
    }
   ],
   "source": [
    "df['label'].value_counts()"
   ]
  },
  {
   "cell_type": "code",
   "execution_count": 116,
   "id": "c9f5ae67-6956-47ee-afd5-d09be2950afe",
   "metadata": {},
   "outputs": [],
   "source": [
    "df['label'] = df['label'].replace({'H14':'N1'})"
   ]
  },
  {
   "cell_type": "code",
   "execution_count": 117,
   "id": "a7bc1206-0b6e-4d85-9fdc-16b9ba16e7c9",
   "metadata": {},
   "outputs": [
    {
     "data": {
      "text/plain": [
       "array(['A1', 'A2', 'AB1', 'AB3', 'AB4', 'AB5', 'AB6', 'B1', 'B2', 'BL1',\n",
       "       'C1', 'C2', 'C3', 'H1', 'H10', 'H12', 'H13', 'N1', 'H15', 'H16',\n",
       "       'H17', 'H18', 'H19', 'H2', 'H20', 'H3', 'H4', 'H5', 'H6', 'H7',\n",
       "       'H8', 'H9', 'HS', 'K1', 'K2', 'L1', 'L2', 'L3', 'L4', 'L5', 'LI1',\n",
       "       'LI2', 'LI3', 'P1', 'PL1', 'R1', 'R2', 'S1', 'S2', 'S3', 'S4',\n",
       "       'S5', 'S6', 'S9', 'U1', 'U2', 'U3', 'U4', 'U5'], dtype=object)"
      ]
     },
     "execution_count": 117,
     "metadata": {},
     "output_type": "execute_result"
    }
   ],
   "source": [
    "df['label'].unique()"
   ]
  },
  {
   "cell_type": "code",
   "execution_count": 118,
   "id": "b2bbde68-8cf1-4093-ae83-2b46ab601d9a",
   "metadata": {},
   "outputs": [
    {
     "data": {
      "text/plain": [
       "脳外    4416\n",
       "整形    2548\n",
       "脳内    2205\n",
       "消内    1928\n",
       "母女    1197\n",
       "小児     729\n",
       "泌尿     655\n",
       "呼内     654\n",
       "消外     565\n",
       "耳鼻     564\n",
       "呼外     542\n",
       "放科     461\n",
       "皮膚     381\n",
       "乳一     327\n",
       "精神     273\n",
       "口外     213\n",
       "循内     205\n",
       "眼科     181\n",
       "血内     173\n",
       "救急     146\n",
       "内泌     145\n",
       "心外      99\n",
       "腎内      72\n",
       "麻酔      69\n",
       "形外      47\n",
       "腫内      28\n",
       "Name: section, dtype: int64"
      ]
     },
     "execution_count": 118,
     "metadata": {},
     "output_type": "execute_result"
    }
   ],
   "source": [
    "df['section'].value_counts()"
   ]
  },
  {
   "cell_type": "code",
   "execution_count": 119,
   "id": "656fc7ae-bb3e-46d4-83cf-5db34f457ab5",
   "metadata": {},
   "outputs": [
    {
     "data": {
      "text/plain": [
       "year         False\n",
       "sex          False\n",
       "section      False\n",
       "label        False\n",
       "position     False\n",
       "purpose      False\n",
       "diagnosis    False\n",
       "CE           False\n",
       "dtype: bool"
      ]
     },
     "execution_count": 119,
     "metadata": {},
     "output_type": "execute_result"
    }
   ],
   "source": [
    "df.isnull().all(axis=0)"
   ]
  },
  {
   "cell_type": "code",
   "execution_count": 120,
   "id": "9eace76f-4502-4ad0-983f-c27eb9c9bb3f",
   "metadata": {},
   "outputs": [],
   "source": [
    "df.to_csv(\"CorrectedData.csv\",index=False)"
   ]
  },
  {
   "cell_type": "code",
   "execution_count": 121,
   "id": "c1ec71a1-43ca-4ba8-91c8-44344ada6ec5",
   "metadata": {},
   "outputs": [],
   "source": [
    "df = pd.read_csv(\"CorrecedData.csv\")"
   ]
  },
  {
   "cell_type": "code",
   "execution_count": 6,
   "id": "de96c7af-3b74-41fa-be4c-a5ae60c6bd16",
   "metadata": {},
   "outputs": [],
   "source": [
    "df =exam_preprosses(df)"
   ]
  },
  {
   "cell_type": "code",
   "execution_count": 8,
   "id": "63564e40-975b-40e2-8c9c-0d23a0498645",
   "metadata": {},
   "outputs": [
    {
     "name": "stderr",
     "output_type": "stream",
     "text": [
      "Warning : `load_model` does not return WordVectorModel or SupervisedModel any more, but a `FastText` object which is very similar.\n",
      "/workspace/MRI/2022_MRI_Sc/MRI_SC/PP.py:399: SettingWithCopyWarning: \n",
      "A value is trying to be set on a copy of a slice from a DataFrame.\n",
      "Try using .loc[row_indexer,col_indexer] = value instead\n",
      "\n",
      "See the caveats in the documentation: https://pandas.pydata.org/pandas-docs/stable/user_guide/indexing.html#returning-a-view-versus-a-copy\n",
      "  df['new_diagnosis'] = df['diagnosis'].copy().apply(meishi)\n"
     ]
    }
   ],
   "source": [
    "df = to_vec(df)"
   ]
  },
  {
   "cell_type": "code",
   "execution_count": null,
   "id": "271804c1-e523-4267-a350-5554164f1ba5",
   "metadata": {},
   "outputs": [],
   "source": [
    "df.to_csv(\"data/vector_data(RP).csv\")"
   ]
  },
  {
   "cell_type": "code",
   "execution_count": null,
   "id": "6f4c52f0-b573-4eb7-a30e-d989812f8f6a",
   "metadata": {},
   "outputs": [],
   "source": []
  },
  {
   "cell_type": "code",
   "execution_count": 412,
   "id": "3040f803-de85-4ab2-bbe1-7ae00e3edb18",
   "metadata": {},
   "outputs": [],
   "source": [
    "df = pd.read_csv(\"CorrecedData.csv\")"
   ]
  }
 ],
 "metadata": {
  "kernelspec": {
   "display_name": "Python 3 (ipykernel)",
   "language": "python",
   "name": "python3"
  },
  "language_info": {
   "codemirror_mode": {
    "name": "ipython",
    "version": 3
   },
   "file_extension": ".py",
   "mimetype": "text/x-python",
   "name": "python",
   "nbconvert_exporter": "python",
   "pygments_lexer": "ipython3",
   "version": "3.9.10"
  }
 },
 "nbformat": 4,
 "nbformat_minor": 5
}
